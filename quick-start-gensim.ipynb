{
 "cells": [
  {
   "cell_type": "code",
   "execution_count": 1,
   "metadata": {},
   "outputs": [],
   "source": [
    "raw_corpus = [\"Human machine interface for lab abc computer applications\",\n",
    "             \"A survey of user opinion of computer system response time\",\n",
    "             \"The EPS user interface management system\",\n",
    "             \"System and human system engineering testing of EPS\",              \n",
    "             \"Relation of user perceived response time to error measurement\",\n",
    "             \"The generation of random binary unordered trees\",\n",
    "             \"The intersection graph of paths in trees\",\n",
    "             \"Graph minors IV Widths of trees and well quasi ordering\",\n",
    "             \"Graph minors A survey\"]"
   ]
  },
  {
   "cell_type": "code",
   "execution_count": 5,
   "metadata": {},
   "outputs": [
    {
     "data": {
      "text/plain": [
       "[['human', 'interface', 'computer'],\n",
       " ['survey', 'user', 'computer', 'system', 'response', 'time'],\n",
       " ['eps', 'user', 'interface', 'system'],\n",
       " ['system', 'human', 'system', 'eps'],\n",
       " ['user', 'response', 'time'],\n",
       " ['trees'],\n",
       " ['graph', 'trees'],\n",
       " ['graph', 'minors', 'trees'],\n",
       " ['graph', 'minors', 'survey']]"
      ]
     },
     "execution_count": 5,
     "metadata": {},
     "output_type": "execute_result"
    }
   ],
   "source": [
    "stoplist = set('for a of the and to in'.split(' '))\n",
    "# Lowercase each document, split it by white space and filter out stopwords\n",
    "texts = [[word for word in document.lower().split() if word not in stoplist\n",
    "        ] for document in raw_corpus]\n",
    "\n",
    "# Count word frequencies\n",
    "from collections import defaultdict\n",
    "frequency = defaultdict(int)\n",
    "for text in texts:\n",
    "    for token in text:\n",
    "        frequency[token] += 1\n",
    "\n",
    "# Only keep words that appear more than once\n",
    "processed_corpus = [[token for token in text if frequency[token]>1 ] for text in texts]\n",
    "processed_corpus"
   ]
  },
  {
   "cell_type": "code",
   "execution_count": 4,
   "metadata": {},
   "outputs": [
    {
     "name": "stderr",
     "output_type": "stream",
     "text": [
      "/home/lc/anaconda3/lib/python3.6/site-packages/smart_open/ssh.py:34: UserWarning: paramiko missing, opening SSH/SCP/SFTP paths will be disabled.  `pip install paramiko` to suppress\n",
      "  warnings.warn('paramiko missing, opening SSH/SCP/SFTP paths will be disabled.  `pip install paramiko` to suppress')\n"
     ]
    },
    {
     "name": "stdout",
     "output_type": "stream",
     "text": [
      "Dictionary(12 unique tokens: ['computer', 'human', 'interface', 'response', 'survey']...)\n"
     ]
    }
   ],
   "source": [
    "from gensim import corpora\n",
    "\n",
    "dictionary = corpora.Dictionary(processed_corpus)\n",
    "print(dictionary)"
   ]
  },
  {
   "cell_type": "code",
   "execution_count": 6,
   "metadata": {},
   "outputs": [
    {
     "name": "stdout",
     "output_type": "stream",
     "text": [
      "{'computer': 0, 'human': 1, 'interface': 2, 'response': 3, 'survey': 4, 'system': 5, 'time': 6, 'user': 7, 'eps': 8, 'trees': 9, 'graph': 10, 'minors': 11}\n"
     ]
    }
   ],
   "source": [
    "print(dictionary.token2id)"
   ]
  },
  {
   "cell_type": "code",
   "execution_count": 7,
   "metadata": {},
   "outputs": [
    {
     "data": {
      "text/plain": [
       "[(0, 1), (1, 1)]"
      ]
     },
     "execution_count": 7,
     "metadata": {},
     "output_type": "execute_result"
    }
   ],
   "source": [
    "\n",
    "new_doc = \"Human computer interaction\"\n",
    "new_vec = dictionary.doc2bow(new_doc.lower().split())\n",
    "new_vec"
   ]
  },
  {
   "cell_type": "code",
   "execution_count": 8,
   "metadata": {},
   "outputs": [
    {
     "data": {
      "text/plain": [
       "[[(0, 1), (1, 1), (2, 1)],\n",
       " [(0, 1), (3, 1), (4, 1), (5, 1), (6, 1), (7, 1)],\n",
       " [(2, 1), (5, 1), (7, 1), (8, 1)],\n",
       " [(1, 1), (5, 2), (8, 1)],\n",
       " [(3, 1), (6, 1), (7, 1)],\n",
       " [(9, 1)],\n",
       " [(9, 1), (10, 1)],\n",
       " [(9, 1), (10, 1), (11, 1)],\n",
       " [(4, 1), (10, 1), (11, 1)]]"
      ]
     },
     "execution_count": 8,
     "metadata": {},
     "output_type": "execute_result"
    }
   ],
   "source": [
    "bow_corpus = [dictionary.doc2bow(text) for text in processed_corpus]\n",
    "bow_corpus"
   ]
  },
  {
   "cell_type": "code",
   "execution_count": 9,
   "metadata": {},
   "outputs": [
    {
     "data": {
      "text/plain": [
       "[[(0, 1), (1, 1), (2, 1)],\n",
       " [(0, 1), (3, 1), (4, 1), (5, 1), (6, 1), (7, 1)],\n",
       " [(2, 1), (5, 1), (7, 1), (8, 1)],\n",
       " [(1, 1), (5, 2), (8, 1)],\n",
       " [(3, 1), (6, 1), (7, 1)],\n",
       " [(9, 1)],\n",
       " [(9, 1), (10, 1)],\n",
       " [(9, 1), (10, 1), (11, 1)],\n",
       " [(4, 1), (10, 1), (11, 1)]]"
      ]
     },
     "execution_count": 9,
     "metadata": {},
     "output_type": "execute_result"
    }
   ],
   "source": [
    "bow_corpus = [dictionary.doc2bow(text) for text in processed_corpus]\n",
    "bow_corpus"
   ]
  },
  {
   "cell_type": "code",
   "execution_count": 10,
   "metadata": {},
   "outputs": [
    {
     "data": {
      "text/plain": [
       "[(5, 0.5898341626740045), (11, 0.8075244024440723)]"
      ]
     },
     "execution_count": 10,
     "metadata": {},
     "output_type": "execute_result"
    }
   ],
   "source": [
    "from gensim import models\n",
    "# train the model\n",
    "tfidf = models.TfidfModel(bow_corpus)\n",
    "# transform the \"system minors\" string\n",
    "tfidf[dictionary.doc2bow(\"system minors\".lower().split())]"
   ]
  },
  {
   "cell_type": "markdown",
   "metadata": {},
   "source": [
    "## WordRank gensim"
   ]
  },
  {
   "cell_type": "markdown",
   "metadata": {},
   "source": [
    "https://github.com/RaRe-Technologies/gensim/blob/develop/docs/notebooks/WordRank_wrapper_quickstart.ipynb"
   ]
  },
  {
   "cell_type": "code",
   "execution_count": 12,
   "metadata": {},
   "outputs": [
    {
     "ename": "FileExistsError",
     "evalue": "[Errno 17] File exists: 'wordrank/model/meta'",
     "output_type": "error",
     "traceback": [
      "\u001b[0;31m---------------------------------------------------------------------------\u001b[0m",
      "\u001b[0;31mFileExistsError\u001b[0m                           Traceback (most recent call last)",
      "\u001b[0;32m<ipython-input-12-8dfcd08e23c5>\u001b[0m in \u001b[0;36m<module>\u001b[0;34m()\u001b[0m\n\u001b[1;32m      5\u001b[0m \u001b[0mdata\u001b[0m \u001b[0;34m=\u001b[0m \u001b[0;34m'./lee.cor'\u001b[0m \u001b[0;31m# sample corpus\u001b[0m\u001b[0;34m\u001b[0m\u001b[0m\n\u001b[1;32m      6\u001b[0m \u001b[0;34m\u001b[0m\u001b[0m\n\u001b[0;32m----> 7\u001b[0;31m \u001b[0mmodel\u001b[0m \u001b[0;34m=\u001b[0m \u001b[0mWordrank\u001b[0m\u001b[0;34m.\u001b[0m\u001b[0mtrain\u001b[0m\u001b[0;34m(\u001b[0m\u001b[0mwr_path\u001b[0m\u001b[0;34m,\u001b[0m \u001b[0mdata\u001b[0m\u001b[0;34m,\u001b[0m \u001b[0mout_dir\u001b[0m\u001b[0;34m,\u001b[0m \u001b[0miter\u001b[0m\u001b[0;34m=\u001b[0m\u001b[0;36m11\u001b[0m\u001b[0;34m,\u001b[0m \u001b[0mdump_period\u001b[0m\u001b[0;34m=\u001b[0m\u001b[0;36m5\u001b[0m\u001b[0;34m)\u001b[0m\u001b[0;34m\u001b[0m\u001b[0m\n\u001b[0m",
      "\u001b[0;32m~/anaconda3/lib/python3.6/site-packages/gensim/models/wrappers/wordrank.py\u001b[0m in \u001b[0;36mtrain\u001b[0;34m(cls, wr_path, corpus_file, out_name, size, window, symmetric, min_count, max_vocab_size, sgd_num, lrate, period, iter, epsilon, dump_period, reg, alpha, beta, loss, memory, np, cleanup_files, sorted_vocab, ensemble)\u001b[0m\n\u001b[1;32m    144\u001b[0m         \u001b[0mmodel_dir\u001b[0m \u001b[0;34m=\u001b[0m \u001b[0mos\u001b[0m\u001b[0;34m.\u001b[0m\u001b[0mpath\u001b[0m\u001b[0;34m.\u001b[0m\u001b[0mjoin\u001b[0m\u001b[0;34m(\u001b[0m\u001b[0mwr_path\u001b[0m\u001b[0;34m,\u001b[0m \u001b[0mout_name\u001b[0m\u001b[0;34m)\u001b[0m\u001b[0;34m\u001b[0m\u001b[0m\n\u001b[1;32m    145\u001b[0m         \u001b[0mmeta_dir\u001b[0m \u001b[0;34m=\u001b[0m \u001b[0mos\u001b[0m\u001b[0;34m.\u001b[0m\u001b[0mpath\u001b[0m\u001b[0;34m.\u001b[0m\u001b[0mjoin\u001b[0m\u001b[0;34m(\u001b[0m\u001b[0mmodel_dir\u001b[0m\u001b[0;34m,\u001b[0m \u001b[0;34m'meta'\u001b[0m\u001b[0;34m)\u001b[0m\u001b[0;34m\u001b[0m\u001b[0m\n\u001b[0;32m--> 146\u001b[0;31m         \u001b[0mos\u001b[0m\u001b[0;34m.\u001b[0m\u001b[0mmakedirs\u001b[0m\u001b[0;34m(\u001b[0m\u001b[0mmeta_dir\u001b[0m\u001b[0;34m)\u001b[0m\u001b[0;34m\u001b[0m\u001b[0m\n\u001b[0m\u001b[1;32m    147\u001b[0m         \u001b[0mlogger\u001b[0m\u001b[0;34m.\u001b[0m\u001b[0minfo\u001b[0m\u001b[0;34m(\u001b[0m\u001b[0;34m\"Dumped data will be stored in '%s'\"\u001b[0m\u001b[0;34m,\u001b[0m \u001b[0mmodel_dir\u001b[0m\u001b[0;34m)\u001b[0m\u001b[0;34m\u001b[0m\u001b[0m\n\u001b[1;32m    148\u001b[0m         \u001b[0mcopyfile\u001b[0m\u001b[0;34m(\u001b[0m\u001b[0mcorpus_file\u001b[0m\u001b[0;34m,\u001b[0m \u001b[0mos\u001b[0m\u001b[0;34m.\u001b[0m\u001b[0mpath\u001b[0m\u001b[0;34m.\u001b[0m\u001b[0mjoin\u001b[0m\u001b[0;34m(\u001b[0m\u001b[0mmeta_dir\u001b[0m\u001b[0;34m,\u001b[0m \u001b[0mcorpus_file\u001b[0m\u001b[0;34m.\u001b[0m\u001b[0msplit\u001b[0m\u001b[0;34m(\u001b[0m\u001b[0;34m'/'\u001b[0m\u001b[0;34m)\u001b[0m\u001b[0;34m[\u001b[0m\u001b[0;34m-\u001b[0m\u001b[0;36m1\u001b[0m\u001b[0;34m]\u001b[0m\u001b[0;34m)\u001b[0m\u001b[0;34m)\u001b[0m\u001b[0;34m\u001b[0m\u001b[0m\n",
      "\u001b[0;32m~/anaconda3/lib/python3.6/os.py\u001b[0m in \u001b[0;36mmakedirs\u001b[0;34m(name, mode, exist_ok)\u001b[0m\n\u001b[1;32m    218\u001b[0m             \u001b[0;32mreturn\u001b[0m\u001b[0;34m\u001b[0m\u001b[0m\n\u001b[1;32m    219\u001b[0m     \u001b[0;32mtry\u001b[0m\u001b[0;34m:\u001b[0m\u001b[0;34m\u001b[0m\u001b[0m\n\u001b[0;32m--> 220\u001b[0;31m         \u001b[0mmkdir\u001b[0m\u001b[0;34m(\u001b[0m\u001b[0mname\u001b[0m\u001b[0;34m,\u001b[0m \u001b[0mmode\u001b[0m\u001b[0;34m)\u001b[0m\u001b[0;34m\u001b[0m\u001b[0m\n\u001b[0m\u001b[1;32m    221\u001b[0m     \u001b[0;32mexcept\u001b[0m \u001b[0mOSError\u001b[0m\u001b[0;34m:\u001b[0m\u001b[0;34m\u001b[0m\u001b[0m\n\u001b[1;32m    222\u001b[0m         \u001b[0;31m# Cannot rely on checking for EEXIST, since the operating system\u001b[0m\u001b[0;34m\u001b[0m\u001b[0;34m\u001b[0m\u001b[0m\n",
      "\u001b[0;31mFileExistsError\u001b[0m: [Errno 17] File exists: 'wordrank/model/meta'"
     ]
    }
   ],
   "source": [
    "from gensim.models.wrappers import Wordrank\n",
    "\n",
    "wr_path = 'wordrank' # path to Wordrank directory\n",
    "out_dir = 'model' # name of output directory to save data to\n",
    "data = './lee.cor' # sample corpus\n",
    "\n",
    "model = Wordrank.train(wr_path, data, out_dir, iter=11, dump_period=5)"
   ]
  },
  {
   "cell_type": "code",
   "execution_count": 13,
   "metadata": {},
   "outputs": [
    {
     "ename": "NameError",
     "evalue": "name 'model' is not defined",
     "output_type": "error",
     "traceback": [
      "\u001b[0;31m---------------------------------------------------------------------------\u001b[0m",
      "\u001b[0;31mNameError\u001b[0m                                 Traceback (most recent call last)",
      "\u001b[0;32m<ipython-input-13-b2bafbf460e2>\u001b[0m in \u001b[0;36m<module>\u001b[0;34m()\u001b[0m\n\u001b[0;32m----> 1\u001b[0;31m \u001b[0mmodel\u001b[0m\u001b[0;34m.\u001b[0m\u001b[0mmost_similar\u001b[0m\u001b[0;34m(\u001b[0m\u001b[0;34m'President'\u001b[0m\u001b[0;34m)\u001b[0m\u001b[0;34m\u001b[0m\u001b[0m\n\u001b[0m",
      "\u001b[0;31mNameError\u001b[0m: name 'model' is not defined"
     ]
    }
   ],
   "source": [
    "model.most_similar('President')"
   ]
  },
  {
   "cell_type": "code",
   "execution_count": 14,
   "metadata": {},
   "outputs": [
    {
     "ename": "NameError",
     "evalue": "name 'model' is not defined",
     "output_type": "error",
     "traceback": [
      "\u001b[0;31m---------------------------------------------------------------------------\u001b[0m",
      "\u001b[0;31mNameError\u001b[0m                                 Traceback (most recent call last)",
      "\u001b[0;32m<ipython-input-14-dba117334650>\u001b[0m in \u001b[0;36m<module>\u001b[0;34m()\u001b[0m\n\u001b[0;32m----> 1\u001b[0;31m \u001b[0mmodel\u001b[0m\u001b[0;34m.\u001b[0m\u001b[0msimilarity\u001b[0m\u001b[0;34m(\u001b[0m\u001b[0;34m'President'\u001b[0m\u001b[0;34m,\u001b[0m \u001b[0;34m'military'\u001b[0m\u001b[0;34m)\u001b[0m\u001b[0;34m\u001b[0m\u001b[0m\n\u001b[0m",
      "\u001b[0;31mNameError\u001b[0m: name 'model' is not defined"
     ]
    }
   ],
   "source": [
    "model.similarity('President', 'military')"
   ]
  },
  {
   "cell_type": "markdown",
   "metadata": {},
   "source": [
    "## fasttext gensim"
   ]
  },
  {
   "cell_type": "markdown",
   "metadata": {},
   "source": [
    "https://github.com/RaRe-Technologies/gensim/blob/develop/docs/notebooks/FastText_Tutorial.ipynb"
   ]
  },
  {
   "cell_type": "code",
   "execution_count": 15,
   "metadata": {},
   "outputs": [
    {
     "name": "stdout",
     "output_type": "stream",
     "text": [
      "FastText(vocab=1762, size=100, alpha=0.025)\n"
     ]
    }
   ],
   "source": [
    "from gensim.models.fasttext import FastText as FT_gensim\n",
    "from gensim.test.utils import datapath\n",
    "\n",
    "# Set file names for train and test data\n",
    "corpus_file = datapath('lee_background.cor')\n",
    "\n",
    "model_gensim = FT_gensim(size=100)\n",
    "\n",
    "# build the vocabulary\n",
    "model_gensim.build_vocab(corpus_file=corpus_file)\n",
    "\n",
    "# train the model\n",
    "model_gensim.train(\n",
    "    corpus_file=corpus_file, epochs=model_gensim.epochs,\n",
    "    total_examples=model_gensim.corpus_count, total_words=model_gensim.corpus_total_words\n",
    ")\n",
    "\n",
    "print(model_gensim)"
   ]
  },
  {
   "cell_type": "code",
   "execution_count": 17,
   "metadata": {},
   "outputs": [
    {
     "name": "stdout",
     "output_type": "stream",
     "text": [
      "True\n",
      "False\n",
      "[ 1.07354417e-01  1.04594184e-02 -5.71774840e-01  5.04119098e-01\n",
      "  5.87822914e-01 -3.31964374e-01 -1.91451162e-01 -2.66763456e-02\n",
      "  4.30513501e-01  3.45042586e-01 -6.28720999e-01 -1.91997178e-02\n",
      " -6.53189719e-01  4.12460417e-01  2.96156883e-01 -5.20451292e-02\n",
      " -1.71165690e-01  1.80118456e-01  2.49184221e-01 -3.77968967e-01\n",
      " -2.34638289e-01  2.75152713e-01 -3.89198571e-01 -1.04820792e-04\n",
      " -8.28804731e-01  7.28953600e-01  1.05358765e-01  1.61917821e-01\n",
      "  4.11544144e-01  3.89883062e-03 -6.59689307e-01  2.22101852e-01\n",
      "  8.70955810e-02 -4.66582984e-01  4.65454102e-01  1.27155274e-01\n",
      " -1.62015662e-01 -8.85693952e-02  4.38466638e-01  2.33619004e-01\n",
      " -1.04455706e-02 -7.45560080e-02  3.92103940e-01 -6.35504350e-02\n",
      "  1.32898152e-01  1.87912285e-01 -1.41070589e-01  2.21928105e-01\n",
      " -2.59709377e-02 -3.80960643e-01 -5.59951603e-01 -5.58635175e-01\n",
      "  8.76470804e-02  1.06419958e-02  4.28282589e-01 -8.04397702e-01\n",
      " -1.07582688e-01 -1.70826063e-01  1.67557262e-02 -2.55352147e-02\n",
      "  2.08238497e-01 -1.49012521e-01 -4.77117389e-01 -7.93038383e-02\n",
      " -5.39229035e-01  3.81218404e-01 -1.02153467e-02  1.63757801e-01\n",
      "  3.69439609e-02  4.79053706e-01 -5.59256434e-01 -5.07974029e-01\n",
      " -2.18516532e-02 -8.49193782e-02 -3.51510018e-01  3.65732908e-02\n",
      "  2.87045687e-01  9.51665640e-02 -1.49470836e-01  1.82351112e-01\n",
      "  4.44730699e-01  6.97114319e-02 -1.80892617e-01  4.36228305e-01\n",
      " -4.18149263e-01 -2.60788858e-01  1.43677264e-01  3.05120438e-01\n",
      "  3.23743045e-01  2.95368582e-01 -1.51458353e-01  1.22178033e-01\n",
      " -3.88535261e-02 -1.95248052e-01 -2.63245970e-01  5.34265876e-01\n",
      "  2.76633620e-01  4.22179043e-01  5.50782204e-01  4.77240950e-01]\n",
      "[ 9.3630970e-02  9.5815891e-03 -4.9410284e-01  4.3491739e-01\n",
      "  5.0739169e-01 -2.8846884e-01 -1.6620289e-01 -2.2279592e-02\n",
      "  3.7194720e-01  2.9900709e-01 -5.4575205e-01 -1.8004779e-02\n",
      " -5.6508279e-01  3.5808575e-01  2.5212261e-01 -4.4751130e-02\n",
      " -1.5014090e-01  1.5404820e-01  2.1387333e-01 -3.2728636e-01\n",
      " -2.0288606e-01  2.3885176e-01 -3.3724400e-01  5.6680874e-04\n",
      " -7.1737474e-01  6.3013661e-01  9.1079094e-02  1.4046855e-01\n",
      "  3.5601744e-01  2.9660505e-03 -5.6838119e-01  1.9327767e-01\n",
      "  7.4042678e-02 -4.0564722e-01  4.0233964e-01  1.0969579e-01\n",
      " -1.3869227e-01 -7.7869743e-02  3.7916031e-01  2.0285603e-01\n",
      " -8.1494730e-03 -6.4643241e-02  3.3862001e-01 -5.3281564e-02\n",
      "  1.1384557e-01  1.6278706e-01 -1.2557887e-01  1.9370516e-01\n",
      " -2.3112621e-02 -3.2804674e-01 -4.8682964e-01 -4.8235077e-01\n",
      "  7.6974951e-02  1.0156251e-02  3.7101439e-01 -6.9588596e-01\n",
      " -9.3148984e-02 -1.4660655e-01  1.2167560e-02 -2.1796532e-02\n",
      "  1.7965856e-01 -1.2973341e-01 -4.1243258e-01 -6.9180898e-02\n",
      " -4.6692431e-01  3.2914990e-01 -8.6844172e-03  1.4149877e-01\n",
      "  3.3703472e-02  4.1512918e-01 -4.8371500e-01 -4.3895158e-01\n",
      " -1.8939232e-02 -7.4332520e-02 -3.0382675e-01  3.0838003e-02\n",
      "  2.4838060e-01  8.2503922e-02 -1.2736787e-01  1.5693317e-01\n",
      "  3.8549116e-01  6.0143214e-02 -1.5731221e-01  3.7645483e-01\n",
      " -3.6062881e-01 -2.2494997e-01  1.2629680e-01  2.6522025e-01\n",
      "  2.7938530e-01  2.5620496e-01 -1.3134332e-01  1.0544609e-01\n",
      " -3.4996904e-02 -1.6863747e-01 -2.2749625e-01  4.6239451e-01\n",
      "  2.3835503e-01  3.6375600e-01  4.7603559e-01  4.1289479e-01]\n"
     ]
    },
    {
     "name": "stderr",
     "output_type": "stream",
     "text": [
      "/home/lc/anaconda3/lib/python3.6/site-packages/ipykernel_launcher.py:3: DeprecationWarning: Call to deprecated `__getitem__` (Method will be removed in 4.0.0, use self.wv.__getitem__() instead).\n",
      "  This is separate from the ipykernel package so we can avoid doing imports until\n",
      "/home/lc/anaconda3/lib/python3.6/site-packages/ipykernel_launcher.py:4: DeprecationWarning: Call to deprecated `__getitem__` (Method will be removed in 4.0.0, use self.wv.__getitem__() instead).\n",
      "  after removing the cwd from sys.path.\n"
     ]
    }
   ],
   "source": [
    "print('night' in model_gensim.wv.vocab)\n",
    "print('nights' in model_gensim.wv.vocab)\n",
    "print(model_gensim['night'])\n",
    "print(model_gensim['nights'])"
   ]
  },
  {
   "cell_type": "markdown",
   "metadata": {},
   "source": [
    "## Using wrappers for Scikit learn API"
   ]
  },
  {
   "cell_type": "markdown",
   "metadata": {},
   "source": [
    "https://github.com/RaRe-Technologies/gensim/blob/develop/docs/notebooks/sklearn_api.ipynb"
   ]
  },
  {
   "cell_type": "code",
   "execution_count": 18,
   "metadata": {},
   "outputs": [],
   "source": [
    "from gensim.sklearn_api import LdaTransformer"
   ]
  },
  {
   "cell_type": "code",
   "execution_count": 19,
   "metadata": {},
   "outputs": [],
   "source": [
    "from gensim.corpora import Dictionary\n",
    "texts = [\n",
    "    ['complier', 'system', 'computer'],\n",
    "    ['eulerian', 'node', 'cycle', 'graph', 'tree', 'path'],\n",
    "    ['graph', 'flow', 'network', 'graph'],\n",
    "    ['loading', 'computer', 'system'],\n",
    "    ['user', 'server', 'system'],\n",
    "    ['tree', 'hamiltonian'],\n",
    "    ['graph', 'trees'],\n",
    "    ['computer', 'kernel', 'malfunction', 'computer'],\n",
    "    ['server', 'system', 'computer']\n",
    "]\n",
    "dictionary = Dictionary(texts)\n",
    "corpus = [dictionary.doc2bow(text) for text in texts]"
   ]
  },
  {
   "cell_type": "code",
   "execution_count": 20,
   "metadata": {},
   "outputs": [
    {
     "data": {
      "text/plain": [
       "[[(0, 1), (1, 1), (2, 1)],\n",
       " [(3, 1), (4, 1), (5, 1), (6, 1), (7, 1), (8, 1)],\n",
       " [(5, 2), (9, 1), (10, 1)],\n",
       " [(1, 1), (2, 1), (11, 1)],\n",
       " [(2, 1), (12, 1), (13, 1)],\n",
       " [(8, 1), (14, 1)],\n",
       " [(5, 1), (15, 1)],\n",
       " [(1, 2), (16, 1), (17, 1)],\n",
       " [(1, 1), (2, 1), (12, 1)]]"
      ]
     },
     "execution_count": 20,
     "metadata": {},
     "output_type": "execute_result"
    }
   ],
   "source": [
    "corpus"
   ]
  },
  {
   "cell_type": "code",
   "execution_count": 23,
   "metadata": {},
   "outputs": [
    {
     "data": {
      "text/plain": [
       "array([[0.06260677, 0.06266407, 0.8119805 , 0.06274869],\n",
       "       [0.88988334, 0.03759476, 0.03661389, 0.03590799],\n",
       "       [0.05085288, 0.05071966, 0.8480455 , 0.05038194],\n",
       "       [0.06260499, 0.06266756, 0.8119778 , 0.06274967],\n",
       "       [0.06262801, 0.06270411, 0.8118702 , 0.06279765],\n",
       "       [0.7489928 , 0.08407857, 0.08337071, 0.08355792],\n",
       "       [0.08486405, 0.08463454, 0.74658567, 0.08391576],\n",
       "       [0.05010197, 0.05016245, 0.84949183, 0.05024375],\n",
       "       [0.06256833, 0.06260946, 0.81215537, 0.06266686]], dtype=float32)"
      ]
     },
     "execution_count": 23,
     "metadata": {},
     "output_type": "execute_result"
    }
   ],
   "source": [
    "model = LdaTransformer(num_topics=4, id2word=dictionary, iterations=20, random_state=1)\n",
    "model.fit(corpus)\n",
    "model.transform(corpus)"
   ]
  },
  {
   "cell_type": "markdown",
   "metadata": {},
   "source": [
    "## Integration with Sklearn\n",
    "To provide a better example of how it can be used with Sklearn, Let's use CountVectorizer method of sklearn. For this example we will use 20 Newsgroups data set. We will only use the categories rec.sport.baseball and sci.crypt and use it to generate topics."
   ]
  },
  {
   "cell_type": "markdown",
   "metadata": {},
   "source": [
    "https://github.com/RaRe-Technologies/gensim/blob/develop/docs/notebooks/sklearn_api.ipynb"
   ]
  },
  {
   "cell_type": "code",
   "execution_count": 24,
   "metadata": {},
   "outputs": [],
   "source": [
    "import numpy as np\n",
    "from gensim import matutils\n",
    "from gensim.models.ldamodel import LdaModel\n",
    "from sklearn.datasets import fetch_20newsgroups\n",
    "from gensim.sklearn_api.ldamodel import LdaTransformer"
   ]
  },
  {
   "cell_type": "code",
   "execution_count": 25,
   "metadata": {},
   "outputs": [
    {
     "name": "stderr",
     "output_type": "stream",
     "text": [
      "Downloading 20news dataset. This may take a few minutes.\n",
      "Downloading dataset from https://ndownloader.figshare.com/files/5975967 (14 MB)\n"
     ]
    }
   ],
   "source": [
    "rand = np.random.mtrand.RandomState(1) # set seed for getting same result\n",
    "cats = ['rec.sport.baseball', 'sci.crypt']\n",
    "data = fetch_20newsgroups(subset='train', categories=cats, shuffle=True)"
   ]
  },
  {
   "cell_type": "code",
   "execution_count": 26,
   "metadata": {},
   "outputs": [],
   "source": [
    "data_texts = [_.split() for _ in data.data]\n",
    "id2word = Dictionary(data_texts)\n",
    "corpus = [id2word.doc2bow(i.split()) for i in data.data]"
   ]
  },
  {
   "cell_type": "code",
   "execution_count": 27,
   "metadata": {},
   "outputs": [],
   "source": [
    "obj = LdaTransformer(id2word=id2word, num_topics=5, iterations=20)\n",
    "lda = obj.fit(corpus)"
   ]
  },
  {
   "cell_type": "code",
   "execution_count": 32,
   "metadata": {},
   "outputs": [
    {
     "data": {
      "text/plain": [
       "array([[0.17836611, 0.0523372 , 0.        , 0.5488369 , 0.21117735],\n",
       "       [0.98500174, 0.        , 0.        , 0.        , 0.        ],\n",
       "       [0.04092231, 0.        , 0.        , 0.4762131 , 0.4780422 ],\n",
       "       ...,\n",
       "       [0.595756  , 0.02553337, 0.16302142, 0.08455595, 0.13113326],\n",
       "       [0.2834982 , 0.        , 0.22094913, 0.11297537, 0.3776973 ],\n",
       "       [0.03466221, 0.8910917 , 0.        , 0.        , 0.06462381]],\n",
       "      dtype=float32)"
      ]
     },
     "execution_count": 32,
     "metadata": {},
     "output_type": "execute_result"
    }
   ],
   "source": [
    "lda.transform(corpus)"
   ]
  },
  {
   "cell_type": "code",
   "execution_count": 66,
   "metadata": {},
   "outputs": [
    {
     "data": {
      "text/plain": [
       "(300, 5)"
      ]
     },
     "execution_count": 66,
     "metadata": {},
     "output_type": "execute_result"
    }
   ],
   "source": [
    "lda.transform(corpus).shape"
   ]
  },
  {
   "cell_type": "code",
   "execution_count": 67,
   "metadata": {},
   "outputs": [
    {
     "data": {
      "text/plain": [
       "300"
      ]
     },
     "execution_count": 67,
     "metadata": {},
     "output_type": "execute_result"
    }
   ],
   "source": [
    "len(corpus)"
   ]
  },
  {
   "cell_type": "code",
   "execution_count": 69,
   "metadata": {},
   "outputs": [
    {
     "data": {
      "text/plain": [
       "[(0, 1),\n",
       " (4, 1),\n",
       " (7, 1),\n",
       " (21, 1),\n",
       " (33, 1),\n",
       " (57, 3),\n",
       " (82, 1),\n",
       " (86, 1),\n",
       " (102, 2),\n",
       " (106, 1),\n",
       " (123, 2),\n",
       " (125, 2),\n",
       " (169, 1),\n",
       " (206, 1),\n",
       " (217, 1),\n",
       " (254, 1),\n",
       " (256, 1),\n",
       " (329, 1),\n",
       " (347, 1),\n",
       " (393, 4),\n",
       " (551, 1),\n",
       " (576, 1),\n",
       " (610, 1),\n",
       " (618, 1),\n",
       " (619, 1),\n",
       " (622, 2),\n",
       " (628, 1),\n",
       " (639, 1),\n",
       " (680, 1),\n",
       " (681, 1),\n",
       " (682, 2),\n",
       " (683, 1),\n",
       " (684, 1),\n",
       " (685, 1),\n",
       " (686, 1),\n",
       " (687, 1),\n",
       " (688, 1),\n",
       " (689, 1),\n",
       " (690, 1),\n",
       " (691, 1),\n",
       " (692, 1),\n",
       " (693, 1),\n",
       " (694, 1),\n",
       " (695, 1),\n",
       " (696, 1),\n",
       " (697, 1),\n",
       " (698, 1),\n",
       " (699, 1),\n",
       " (700, 1),\n",
       " (701, 1),\n",
       " (702, 1),\n",
       " (703, 1),\n",
       " (704, 1),\n",
       " (705, 2),\n",
       " (706, 1),\n",
       " (707, 1),\n",
       " (708, 2),\n",
       " (709, 1),\n",
       " (710, 1),\n",
       " (711, 1),\n",
       " (712, 1),\n",
       " (713, 1),\n",
       " (714, 1),\n",
       " (715, 1),\n",
       " (716, 1),\n",
       " (717, 1),\n",
       " (718, 1),\n",
       " (719, 1),\n",
       " (720, 1),\n",
       " (721, 1),\n",
       " (722, 1),\n",
       " (723, 1)]"
      ]
     },
     "execution_count": 69,
     "metadata": {},
     "output_type": "execute_result"
    }
   ],
   "source": [
    "corpus[10]"
   ]
  },
  {
   "cell_type": "code",
   "execution_count": 70,
   "metadata": {},
   "outputs": [
    {
     "data": {
      "text/plain": [
       "array([[0.4663972 , 0.        , 0.08512421, 0.36374238, 0.08163416]],\n",
       "      dtype=float32)"
      ]
     },
     "execution_count": 70,
     "metadata": {},
     "output_type": "execute_result"
    }
   ],
   "source": [
    "lda.transform(corpus[10])"
   ]
  },
  {
   "cell_type": "code",
   "execution_count": null,
   "metadata": {},
   "outputs": [],
   "source": []
  },
  {
   "cell_type": "code",
   "execution_count": 28,
   "metadata": {},
   "outputs": [],
   "source": [
    "from sklearn.model_selection import GridSearchCV"
   ]
  },
  {
   "cell_type": "code",
   "execution_count": 29,
   "metadata": {},
   "outputs": [
    {
     "ename": "AttributeError",
     "evalue": "'GridSearchCV' object has no attribute 'best_params'",
     "output_type": "error",
     "traceback": [
      "\u001b[0;31m---------------------------------------------------------------------------\u001b[0m",
      "\u001b[0;31mAttributeError\u001b[0m                            Traceback (most recent call last)",
      "\u001b[0;32m<ipython-input-29-b8777faef655>\u001b[0m in \u001b[0;36m<module>\u001b[0;34m()\u001b[0m\n\u001b[1;32m      6\u001b[0m \u001b[0mmodel\u001b[0m\u001b[0;34m.\u001b[0m\u001b[0mfit\u001b[0m\u001b[0;34m(\u001b[0m\u001b[0mcorpus\u001b[0m\u001b[0;34m)\u001b[0m\u001b[0;34m\u001b[0m\u001b[0m\n\u001b[1;32m      7\u001b[0m \u001b[0;34m\u001b[0m\u001b[0m\n\u001b[0;32m----> 8\u001b[0;31m \u001b[0mmodel\u001b[0m\u001b[0;34m.\u001b[0m\u001b[0mbest_params\u001b[0m\u001b[0;34m\u001b[0m\u001b[0m\n\u001b[0m",
      "\u001b[0;31mAttributeError\u001b[0m: 'GridSearchCV' object has no attribute 'best_params'"
     ]
    }
   ],
   "source": [
    "obj = LdaTransformer(id2word=id2word, num_topics=2, iterations=5, scorer='u_mass') # here 'scorer' can be 'perplexity' or 'u_mass'\n",
    "parameters = {'num_topics': (2, 3, 5, 10), 'iterations': (1, 20, 50)}\n",
    "\n",
    "# set `scoring` as `None` to use the inbuilt score function of `SklLdaModel` class\n",
    "model = GridSearchCV(obj, parameters, cv=3, scoring=None)\n",
    "model.fit(corpus)\n",
    "\n",
    "model.best_params"
   ]
  },
  {
   "cell_type": "code",
   "execution_count": 34,
   "metadata": {},
   "outputs": [
    {
     "data": {
      "text/plain": [
       "{'iterations': 50, 'num_topics': 2}"
      ]
     },
     "execution_count": 34,
     "metadata": {},
     "output_type": "execute_result"
    }
   ],
   "source": [
    "model.best_params_"
   ]
  },
  {
   "cell_type": "markdown",
   "metadata": {},
   "source": [
    "You can also supply a custom scoring function of your choice using the scoring parameter of GridSearchCV function. The example shown below uses c_v mode of CoherenceModel class for computing the scores of the candidate models."
   ]
  },
  {
   "cell_type": "code",
   "execution_count": 35,
   "metadata": {},
   "outputs": [
    {
     "data": {
      "text/plain": [
       "{'iterations': 50, 'num_topics': 2}"
      ]
     },
     "execution_count": 35,
     "metadata": {},
     "output_type": "execute_result"
    }
   ],
   "source": [
    "from gensim.models.coherencemodel import CoherenceModel\n",
    "\n",
    "# supplying a custom scoring function\n",
    "def scoring_function(estimator, X, y=None):\n",
    "    goodcm = CoherenceModel(model=estimator.gensim_model, texts=data_texts, dictionary=estimator.gensim_model.id2word, coherence='c_v')\n",
    "    return goodcm.get_coherence()\n",
    "\n",
    "obj = LdaTransformer(id2word=id2word, num_topics=5, iterations=5)\n",
    "parameters = {'num_topics': (2, 3, 5, 10), 'iterations': (1, 20, 50)}\n",
    "\n",
    "# set `scoring` as your custom scoring function\n",
    "model = GridSearchCV(obj, parameters, cv=2, scoring=scoring_function)\n",
    "model.fit(corpus)\n",
    "\n",
    "model.best_params_"
   ]
  },
  {
   "cell_type": "markdown",
   "metadata": {},
   "source": [
    "Example of Using Pipeline"
   ]
  },
  {
   "cell_type": "code",
   "execution_count": null,
   "metadata": {},
   "outputs": [],
   "source": [
    "from sklearn.pipeline import Pipeline\n",
    "from sklearn import linear_model\n",
    "\n",
    "def print_features_pipe(clf, vocab, n=10):\n",
    "    ''' Better printing for sorted list '''\n",
    "    coef = clf.named_steps['classifier'].coef_[0]\n",
    "    print coef\n",
    "    print 'Positive features: %s' % (' '.join(['%s:%.2f' % (vocab[j], coef[j]) for j in np.argsort(coef)[::-1][:n] if coef[j] > 0]))\n",
    "    print 'Negative features: %s' % (' '.join(['%s:%.2f' % (vocab[j], coef[j]) for j in np.argsort(coef)[:n] if coef[j] < 0]))"
   ]
  },
  {
   "cell_type": "code",
   "execution_count": null,
   "metadata": {},
   "outputs": [],
   "source": [
    "id2word = Dictionary([_.split() for _ in data.data])\n",
    "corpus = [id2word.doc2bow(i.split()) for i in data.data]"
   ]
  },
  {
   "cell_type": "code",
   "execution_count": null,
   "metadata": {},
   "outputs": [],
   "source": [
    "model = LdaTransformer(num_topics=15, id2word=id2word, iterations=10, random_state=37)\n",
    "clf = linear_model.LogisticRegression(penalty='l2', C=0.1)  # l2 penalty used\n",
    "pipe = Pipeline([('features', model,), ('classifier', clf)])\n",
    "pipe.fit(corpus, data.target)\n",
    "print_features_pipe(pipe, id2word.values())\n",
    "\n",
    "print(pipe.score(corpus, data.target))"
   ]
  },
  {
   "cell_type": "markdown",
   "metadata": {},
   "source": [
    "## LSI Model"
   ]
  },
  {
   "cell_type": "code",
   "execution_count": null,
   "metadata": {},
   "outputs": [],
   "source": []
  },
  {
   "cell_type": "markdown",
   "metadata": {},
   "source": [
    "## News classification with topic models in gensim"
   ]
  },
  {
   "cell_type": "markdown",
   "metadata": {},
   "source": [
    "News article classification is a task which is performed on a huge scale by news agencies all over the world. We will be looking into how topic modeling can be used to accurately classify news articles into different categories such as sports, technology, politics etc.\n",
    "\n",
    "Our aim in this tutorial is to come up with some topic model which can come up with topics that can easily be interpreted by us. Such a topic model can be used to discover hidden structure in the corpus and can also be used to determine the membership of a news article into one of the topics.\n",
    "\n",
    "For this tutorial, we will be using the Lee corpus which is a shortened version of the Lee Background Corpus. The shortened version consists of 300 documents selected from the Australian Broadcasting Corporation's news mail service. It consists of texts of headline stories from around the year 2000-2001.\n",
    "\n",
    "Accompanying slides can be found here.\n",
    "\n",
    "Requirements\n",
    "In this tutorial we look at how different topic models can be easily created using gensim. Following are the dependencies for this tutorial:\n",
    "\n",
    "- Gensim Version >=0.13.1 would be preferred since we will be using topic coherence metrics extensively here.\n",
    "- matplotlib\n",
    "- nltk.stopwords and nltk.wordnet\n",
    "- pyLDAVis\n",
    "We will be playing around with 4 different topic models here:\n",
    "\n",
    "- LSI (Latent Semantic Indexing)\n",
    "- HDP (Hierarchical Dirichlet Process)\n",
    "- LDA (Latent Dirichlet Allocation)\n",
    "- LDA (tweaked with topic coherence to find optimal number of topics) and\n",
    "- LDA as LSI with the help of topic coherence metrics\n",
    "First we'll fit those topic models on our existing data then we'll compare each against the other and see how they rank in terms of human interpretability.\n",
    "\n",
    "All can be found in gensim and can be easily used in a plug-and-play fashion. We will tinker with the LDA model using the newly added topic coherence metrics in gensim based on this paper by Roeder et al and see how the resulting topic model compares with the exsisting ones"
   ]
  },
  {
   "cell_type": "markdown",
   "metadata": {},
   "source": [
    "https://github.com/RaRe-Technologies/gensim/blob/develop/docs/notebooks/gensim_news_classification.ipynb"
   ]
  },
  {
   "cell_type": "code",
   "execution_count": 37,
   "metadata": {},
   "outputs": [
    {
     "name": "stdout",
     "output_type": "stream",
     "text": [
      "[nltk_data] Downloading package stopwords to /home/lc/nltk_data...\n",
      "[nltk_data]   Unzipping corpora/stopwords.zip.\n",
      "[nltk_data] Downloading package wordnet to /home/lc/nltk_data...\n",
      "[nltk_data]   Unzipping corpora/wordnet.zip.\n"
     ]
    }
   ],
   "source": [
    "import os\n",
    "import re\n",
    "import operator\n",
    "import matplotlib.pyplot as plt\n",
    "import warnings\n",
    "import gensim\n",
    "import numpy as np\n",
    "warnings.filterwarnings('ignore')  # Let's not pay heed to them right now\n",
    "\n",
    "import nltk\n",
    "nltk.download('stopwords') # Let's make sure the 'stopword' package is downloaded & updated\n",
    "nltk.download('wordnet') # Let's also download wordnet, which will be used for lemmatization\n",
    "\n",
    "from gensim.models import CoherenceModel, LdaModel, LsiModel, HdpModel\n",
    "from gensim.models.wrappers import LdaMallet\n",
    "from gensim.corpora import Dictionary\n",
    "from pprint import pprint\n",
    "from smart_open import smart_open\n",
    "\n",
    "%matplotlib inline"
   ]
  },
  {
   "cell_type": "code",
   "execution_count": 38,
   "metadata": {},
   "outputs": [],
   "source": [
    "test_data_dir = '{}'.format(os.sep).join([gensim.__path__[0], 'test', 'test_data'])\n",
    "lee_train_file = test_data_dir + os.sep + 'lee_background.cor'"
   ]
  },
  {
   "cell_type": "code",
   "execution_count": 39,
   "metadata": {},
   "outputs": [
    {
     "name": "stdout",
     "output_type": "stream",
     "text": [
      "[b'Hundreds of people have been forced to vacate their homes in the Southern Highlands of New South Wales as strong winds today pushed a huge bushfire towards the town of Hill Top. A new blaze near Goulburn, south-west of Sydney, has forced the closure of the Hume Highway. At about 4:00pm AEDT, a marked deterioration in the weather as a storm cell moved east across the Blue Mountains forced authorities to make a decision to evacuate people from homes in outlying streets at Hill Top in the New South Wales southern highlands. An estimated 500 residents have left their homes for nearby Mittagong. The New South Wales Rural Fire Service says the weather conditions which caused the fire to burn in a finger formation have now eased and about 60 fire units in and around Hill Top are optimistic of defending all properties. As more than 100 blazes burn on New Year\\'s Eve in New South Wales, fire crews have been called to new fire at Gunning, south of Goulburn. While few details are available at this stage, fire authorities says it has closed the Hume Highway in both directions. Meanwhile, a new fire in Sydney\\'s west is no longer threatening properties in the Cranebrook area. Rain has fallen in some parts of the Illawarra, Sydney, the Hunter Valley and the north coast. But the Bureau of Meteorology\\'s Claire Richards says the rain has done little to ease any of the hundred fires still burning across the state. \"The falls have been quite isolated in those areas and generally the falls have been less than about five millimetres,\" she said. \"In some places really not significant at all, less than a millimetre, so there hasn\\'t been much relief as far as rain is concerned. \"In fact, they\\'ve probably hampered the efforts of the firefighters more because of the wind gusts that are associated with those thunderstorms.\" \\n']\n",
      "[b\"Indian security forces have shot dead eight suspected militants in a night-long encounter in southern Kashmir. The shootout took place at Dora village some 50 kilometers south of the Kashmiri summer capital Srinagar. The deaths came as Pakistani police arrested more than two dozen militants from extremist groups accused of staging an attack on India's parliament. India has accused Pakistan-based Lashkar-e-Taiba and Jaish-e-Mohammad of carrying out the attack on December 13 at the behest of Pakistani military intelligence. Military tensions have soared since the raid, with both sides massing troops along their border and trading tit-for-tat diplomatic sanctions. Yesterday, Pakistan announced it had arrested Lashkar-e-Taiba chief Hafiz Mohammed Saeed. Police in Karachi say it is likely more raids will be launched against the two groups as well as other militant organisations accused of targetting India. Military tensions between India and Pakistan have escalated to a level not seen since their 1971 war. \\n\"]\n",
      "[b'The national road toll for the Christmas-New Year holiday period stands at 45, eight fewer than for the same time last year. 20 people have died on New South Wales roads, with eight fatalities in both Queensland and Victoria. Western Australia, the Northern Territory and South Australia have each recorded three deaths, while the ACT and Tasmania remain fatality free. \\n']\n",
      "[b\"Argentina's political and economic crisis has deepened with the resignation of its interim President who took office just a week ago. Aldolfo Rodregiuez Saa told a stunned nation that he could not rescue Argentina because key fellow Peronists would not support his default on massive foreign debt repayment or his plan for a new currency. It was only a week ago that he was promising a million new jobs to end four years of recession, days after his predecessor resigned following a series of failed rescue packages. After announcing that the senate leader, Ramon Puerta, would assume the presidency until congress appoints a new caretaker president, the government said he too had quit and another senior lawmaker would act in the role. Fresh elections are not scheduled until March leaving whoever assumes the presidency with the daunting task of tackling Argentina's worst crisis in 12 years, but this time, isolated by international lending agencies. \\n\"]\n",
      "[b'Six midwives have been suspended at Wollongong Hospital, south of Sydney, for inappropriate use of nitrous oxide during work hours, on some occasions while women were in labour. The Illawarra Area Health Service says that following an investigation of unprofessional conduct, a further four midwives have been relocated to other areas within the hospital. The service\\'s chief executive officer, Tony Sherbon, says no one was put at risk, because other staff not involved in the use of nitrous oxide were able to take over caring for women in labour. \"Well we\\'re very concerned and the body of midwives to the hospital - there are over 70 midwives that work in our service - are very annoyed and angry at the inappropriate behaviour of these very senior people who should know better,\" he said. \"And that\\'s why we\\'ve take the action of suspending them and we\\'ll consider further action next week.\" \\n']\n"
     ]
    }
   ],
   "source": [
    "with smart_open(lee_train_file, 'rb') as f:\n",
    "    for n, l in enumerate(f):\n",
    "        if n < 5:\n",
    "            print([l])"
   ]
  },
  {
   "cell_type": "code",
   "execution_count": 40,
   "metadata": {},
   "outputs": [],
   "source": [
    "def build_texts(fname):\n",
    "    \"\"\"\n",
    "    Function to build tokenized texts from file\n",
    "    \n",
    "    Parameters:\n",
    "    ----------\n",
    "    fname: File to be read\n",
    "    \n",
    "    Returns:\n",
    "    -------\n",
    "    yields preprocessed line\n",
    "    \"\"\"\n",
    "    with smart_open(fname, 'rb') as f:\n",
    "        for line in f:\n",
    "            yield gensim.utils.simple_preprocess(line, deacc=True, min_len=3)"
   ]
  },
  {
   "cell_type": "code",
   "execution_count": 41,
   "metadata": {},
   "outputs": [],
   "source": [
    "train_texts = list(build_texts(lee_train_file))"
   ]
  },
  {
   "cell_type": "code",
   "execution_count": 42,
   "metadata": {},
   "outputs": [
    {
     "data": {
      "text/plain": [
       "300"
      ]
     },
     "execution_count": 42,
     "metadata": {},
     "output_type": "execute_result"
    }
   ],
   "source": [
    "len(train_texts)"
   ]
  },
  {
   "cell_type": "code",
   "execution_count": 45,
   "metadata": {},
   "outputs": [
    {
     "data": {
      "text/plain": [
       "256"
      ]
     },
     "execution_count": 45,
     "metadata": {},
     "output_type": "execute_result"
    }
   ],
   "source": [
    "len(train_texts[0])"
   ]
  },
  {
   "cell_type": "code",
   "execution_count": 46,
   "metadata": {},
   "outputs": [],
   "source": [
    "bigram = gensim.models.Phrases(train_texts)"
   ]
  },
  {
   "cell_type": "code",
   "execution_count": 47,
   "metadata": {},
   "outputs": [
    {
     "data": {
      "text/plain": [
       "['new_york', 'example']"
      ]
     },
     "execution_count": 47,
     "metadata": {},
     "output_type": "execute_result"
    }
   ],
   "source": [
    "bigram[['new', 'york', 'example']]"
   ]
  },
  {
   "cell_type": "code",
   "execution_count": 48,
   "metadata": {},
   "outputs": [],
   "source": [
    "from gensim.utils import lemmatize\n",
    "from nltk.corpus import stopwords"
   ]
  },
  {
   "cell_type": "code",
   "execution_count": 49,
   "metadata": {},
   "outputs": [],
   "source": [
    "stops = set(stopwords.words('english'))"
   ]
  },
  {
   "cell_type": "code",
   "execution_count": 50,
   "metadata": {},
   "outputs": [],
   "source": [
    "def process_texts(texts):\n",
    "    \"\"\"\n",
    "    Function to process texts. Following are the steps we take:\n",
    "    \n",
    "    1. Stopword Removal.\n",
    "    2. Collocation detection.\n",
    "    3. Lemmatization (not stem since stemming can reduce the interpretability).\n",
    "    \n",
    "    Parameters:\n",
    "    ----------\n",
    "    texts: Tokenized texts.\n",
    "    \n",
    "    Returns:\n",
    "    -------\n",
    "    texts: Pre-processed tokenized texts.\n",
    "    \"\"\"\n",
    "    texts = [[word for word in line if word not in stops] for line in texts]\n",
    "    texts = [bigram[line] for line in texts]\n",
    "    \n",
    "    from nltk.stem import WordNetLemmatizer\n",
    "    lemmatizer = WordNetLemmatizer()\n",
    "\n",
    "    texts = [[word for word in lemmatizer.lemmatize(' '.join(line), pos='v').split()] for line in texts]\n",
    "    return texts"
   ]
  },
  {
   "cell_type": "code",
   "execution_count": 51,
   "metadata": {},
   "outputs": [
    {
     "data": {
      "text/plain": [
       "[['federal_government',\n",
       "  'says',\n",
       "  'safe',\n",
       "  'afghani',\n",
       "  'asylum_seekers',\n",
       "  'australia',\n",
       "  'return',\n",
       "  'home',\n",
       "  'environment',\n",
       "  'becomes',\n",
       "  'secure',\n",
       "  'government',\n",
       "  'suspended',\n",
       "  'applications',\n",
       "  'interim_government',\n",
       "  'established',\n",
       "  'kabul',\n",
       "  'foreign_affairs',\n",
       "  'minister_alexander',\n",
       "  'downer',\n",
       "  'refused',\n",
       "  'say',\n",
       "  'long',\n",
       "  'claims',\n",
       "  'process',\n",
       "  'put',\n",
       "  'hold',\n",
       "  'says',\n",
       "  'major',\n",
       "  'threat',\n",
       "  'people',\n",
       "  'seeking',\n",
       "  'asylum',\n",
       "  'longer',\n",
       "  'many',\n",
       "  'afghans',\n",
       "  'tried',\n",
       "  'get',\n",
       "  'australia',\n",
       "  'matter',\n",
       "  'britain',\n",
       "  'countries',\n",
       "  'north',\n",
       "  'west',\n",
       "  'europe',\n",
       "  'claimed',\n",
       "  'fleeing',\n",
       "  'taliban',\n",
       "  'said',\n",
       "  'well',\n",
       "  'taliban',\n",
       "  'longer',\n",
       "  'power',\n",
       "  'afghanistan',\n",
       "  'taliban',\n",
       "  'finished',\n",
       "  'meanwhile',\n",
       "  'mass',\n",
       "  'airlift',\n",
       "  'detainees',\n",
       "  'christmas',\n",
       "  'island',\n",
       "  'pacific',\n",
       "  'island',\n",
       "  'nauru',\n",
       "  'total',\n",
       "  'people',\n",
       "  'flown',\n",
       "  'island',\n",
       "  'two',\n",
       "  'operations',\n",
       "  'using',\n",
       "  'chartered',\n",
       "  'aircraft',\n",
       "  'second',\n",
       "  'airlift',\n",
       "  'today',\n",
       "  'delivered',\n",
       "  'asylum_seekers',\n",
       "  'nauru',\n",
       "  'await',\n",
       "  'processing',\n",
       "  'claims',\n",
       "  'temporary',\n",
       "  'visas',\n",
       "  'department',\n",
       "  'immigration',\n",
       "  'says',\n",
       "  'detainees',\n",
       "  'remaining',\n",
       "  'christmas',\n",
       "  'island',\n",
       "  'spokesman',\n",
       "  'says',\n",
       "  'decision',\n",
       "  'regarding',\n",
       "  'future',\n",
       "  'yet',\n",
       "  'made']]"
      ]
     },
     "execution_count": 51,
     "metadata": {},
     "output_type": "execute_result"
    }
   ],
   "source": [
    "train_texts = process_texts(train_texts)\n",
    "train_texts[5:6]"
   ]
  },
  {
   "cell_type": "code",
   "execution_count": 52,
   "metadata": {},
   "outputs": [],
   "source": [
    "dictionary = Dictionary(train_texts)\n",
    "corpus = [dictionary.doc2bow(text) for text in train_texts]"
   ]
  },
  {
   "cell_type": "markdown",
   "metadata": {},
   "source": [
    "## Topic modeling with LSI\n",
    "This is a useful topic modeling algorithm in that it can rank topics by itself. Thus it outputs topics in a ranked order. However it does require a num_topics parameter (set to 200 by default) to determine the number of latent dimensions after the SVD."
   ]
  },
  {
   "cell_type": "code",
   "execution_count": 54,
   "metadata": {},
   "outputs": [],
   "source": [
    "lsimodel = LsiModel(corpus=corpus, num_topics=10, id2word=dictionary)"
   ]
  },
  {
   "cell_type": "code",
   "execution_count": 55,
   "metadata": {},
   "outputs": [
    {
     "data": {
      "text/plain": [
       "[(0,\n",
       "  '0.542*\"said\" + 0.349*\"says\" + 0.127*\"arafat\" + 0.122*\"palestinian\" + 0.118*\"people\" + 0.117*\"israeli\" + 0.112*\"two\" + 0.110*\"australian\" + 0.110*\"also\" + 0.107*\"australia\"'),\n",
       " (1,\n",
       "  '-0.407*\"says\" + 0.321*\"arafat\" + 0.315*\"palestinian\" + 0.273*\"israeli\" + 0.192*\"israel\" + 0.173*\"sharon\" + -0.145*\"australia\" + -0.144*\"australian\" + 0.140*\"west_bank\" + 0.136*\"hamas\"'),\n",
       " (2,\n",
       "  '0.349*\"says\" + -0.330*\"said\" + -0.202*\"afghanistan\" + -0.191*\"bin_laden\" + -0.179*\"taliban\" + -0.169*\"pakistan\" + 0.162*\"australia\" + 0.149*\"arafat\" + -0.126*\"tora_bora\" + 0.123*\"israeli\"'),\n",
       " (3,\n",
       "  '0.293*\"fire\" + 0.240*\"sydney\" + -0.214*\"says\" + 0.184*\"firefighters\" + 0.171*\"south\" + 0.165*\"new_south\" + 0.165*\"wales\" + 0.163*\"north\" + 0.161*\"fires\" + -0.152*\"afghanistan\"'),\n",
       " (4,\n",
       "  '-0.220*\"said\" + -0.172*\"test\" + -0.170*\"match\" + 0.154*\"afghanistan\" + 0.150*\"government\" + 0.148*\"says\" + -0.144*\"first\" + 0.142*\"fire\" + -0.139*\"australia\" + 0.136*\"force\"')]"
      ]
     },
     "execution_count": 55,
     "metadata": {},
     "output_type": "execute_result"
    }
   ],
   "source": [
    "lsimodel.show_topics(num_topics=5)"
   ]
  },
  {
   "cell_type": "code",
   "execution_count": 56,
   "metadata": {},
   "outputs": [],
   "source": [
    "lsitopics = lsimodel.show_topics(formatted=False)"
   ]
  },
  {
   "cell_type": "code",
   "execution_count": 57,
   "metadata": {},
   "outputs": [
    {
     "data": {
      "text/plain": [
       "[(0,\n",
       "  '0.542*\"said\" + 0.349*\"says\" + 0.127*\"arafat\" + 0.122*\"palestinian\" + 0.118*\"people\" + 0.117*\"israeli\" + 0.112*\"two\" + 0.110*\"australian\" + 0.110*\"also\" + 0.107*\"australia\"'),\n",
       " (1,\n",
       "  '-0.407*\"says\" + 0.321*\"arafat\" + 0.315*\"palestinian\" + 0.273*\"israeli\" + 0.192*\"israel\" + 0.173*\"sharon\" + -0.145*\"australia\" + -0.144*\"australian\" + 0.140*\"west_bank\" + 0.136*\"hamas\"'),\n",
       " (2,\n",
       "  '0.349*\"says\" + -0.330*\"said\" + -0.202*\"afghanistan\" + -0.191*\"bin_laden\" + -0.179*\"taliban\" + -0.169*\"pakistan\" + 0.162*\"australia\" + 0.149*\"arafat\" + -0.126*\"tora_bora\" + 0.123*\"israeli\"'),\n",
       " (3,\n",
       "  '0.293*\"fire\" + 0.240*\"sydney\" + -0.214*\"says\" + 0.184*\"firefighters\" + 0.171*\"south\" + 0.165*\"new_south\" + 0.165*\"wales\" + 0.163*\"north\" + 0.161*\"fires\" + -0.152*\"afghanistan\"'),\n",
       " (4,\n",
       "  '-0.220*\"said\" + -0.172*\"test\" + -0.170*\"match\" + 0.154*\"afghanistan\" + 0.150*\"government\" + 0.148*\"says\" + -0.144*\"first\" + 0.142*\"fire\" + -0.139*\"australia\" + 0.136*\"force\"'),\n",
       " (5,\n",
       "  '-0.282*\"said\" + 0.265*\"afghanistan\" + 0.204*\"force\" + 0.186*\"australia\" + -0.165*\"company\" + -0.126*\"says\" + 0.119*\"test\" + 0.114*\"match\" + -0.112*\"qantas\" + 0.109*\"still\"'),\n",
       " (6,\n",
       "  '0.510*\"pakistan\" + 0.328*\"india\" + 0.179*\"president\" + 0.174*\"indian\" + 0.144*\"musharraf\" + -0.121*\"metres\" + 0.107*\"tension\" + 0.105*\"australia\" + -0.103*\"taliban\" + -0.092*\"told\"'),\n",
       " (7,\n",
       "  '0.247*\"says\" + -0.218*\"two\" + -0.202*\"company\" + -0.168*\"australian\" + 0.153*\"said\" + -0.142*\"man\" + -0.138*\"police\" + -0.134*\"three\" + 0.126*\"bin_laden\" + 0.113*\"still\"'),\n",
       " (8,\n",
       "  '-0.324*\"metres\" + 0.292*\"qantas\" + 0.214*\"company\" + 0.191*\"workers\" + -0.168*\"event\" + 0.163*\"unions\" + -0.140*\"says\" + -0.122*\"india\" + -0.118*\"world\" + -0.112*\"water\"'),\n",
       " (9,\n",
       "  '0.330*\"metres\" + 0.199*\"event\" + 0.197*\"qantas\" + -0.169*\"people\" + -0.144*\"man\" + -0.144*\"police\" + 0.116*\"first\" + -0.115*\"says\" + 0.112*\"water\" + 0.111*\"workers\"')]"
      ]
     },
     "execution_count": 57,
     "metadata": {},
     "output_type": "execute_result"
    }
   ],
   "source": [
    "lsimodel.show_topics()"
   ]
  },
  {
   "cell_type": "markdown",
   "metadata": {},
   "source": [
    "## Topic modeling with HDP\n",
    "An HDP model is fully unsupervised. It can also determine the ideal number of topics it needs through posterior inference."
   ]
  },
  {
   "cell_type": "code",
   "execution_count": 58,
   "metadata": {},
   "outputs": [],
   "source": [
    "hdpmodel = HdpModel(corpus=corpus, id2word=dictionary)"
   ]
  },
  {
   "cell_type": "code",
   "execution_count": 59,
   "metadata": {},
   "outputs": [
    {
     "data": {
      "text/plain": [
       "[(0,\n",
       "  '0.006*said + 0.003*israeli + 0.003*palestinian + 0.002*three + 0.002*group + 0.002*west_bank + 0.002*krishna + 0.002*sharon + 0.002*hare + 0.002*killed + 0.002*ashes + 0.002*benares + 0.002*government + 0.002*arafat + 0.002*adventure_world + 0.002*near + 0.002*police + 0.002*canyoning + 0.002*israel + 0.002*hindus'),\n",
       " (1,\n",
       "  '0.006*said + 0.003*airport + 0.003*taliban + 0.002*eight + 0.002*one + 0.002*kandahar + 0.002*commission + 0.002*today + 0.002*killed + 0.002*opposition + 0.002*left + 0.002*half + 0.001*wounded + 0.001*civilians + 0.001*collapse + 0.001*end + 0.001*lali + 0.001*agha + 0.001*city + 0.001*gul'),\n",
       " (2,\n",
       "  '0.003*says + 0.003*match + 0.003*said + 0.002*israeli + 0.002*team + 0.002*rafter + 0.002*france + 0.002*tennis + 0.002*australia + 0.001*government + 0.001*attacks + 0.001*guarantee + 0.001*could + 0.001*john + 0.001*still + 0.001*want + 0.001*deciding + 0.001*house + 0.001*decision + 0.001*disappointed'),\n",
       " (3,\n",
       "  '0.004*says + 0.003*india + 0.003*government + 0.002*president + 0.002*afghan + 0.002*rabbani + 0.002*australia + 0.002*afghanistan + 0.002*would + 0.002*interim + 0.001*germany + 0.001*talks + 0.001*departmental + 0.001*factions + 0.001*agreement + 0.001*bonn + 0.001*said + 0.001*international + 0.001*australian + 0.001*lee'),\n",
       " (4,\n",
       "  '0.003*arafat + 0.003*israeli + 0.003*sharon + 0.003*one + 0.002*said + 0.002*palestinian + 0.002*interlaken + 0.002*hit + 0.002*gaza_strip + 0.002*charged + 0.002*inexperienced + 0.002*people + 0.002*west_bank + 0.002*official + 0.002*struck + 0.001*eight + 0.001*military + 0.001*elevator + 0.001*first + 0.001*israelis'),\n",
       " (5,\n",
       "  '0.003*says + 0.002*sydney + 0.002*storm + 0.002*trees + 0.002*ses + 0.002*said + 0.002*services + 0.002*areas + 0.002*homes + 0.001*brought + 0.001*hornsby + 0.001*around + 0.001*hit + 0.001*worst + 0.001*storms + 0.001*damage + 0.001*energy + 0.001*goodin + 0.001*leete + 0.001*available'),\n",
       " (6,\n",
       "  '0.003*two + 0.002*arrest + 0.002*source + 0.002*afp + 0.002*said + 0.002*palestinian + 0.002*arrested + 0.002*says + 0.002*best + 0.001*australia + 0.001*dependent + 0.001*city + 0.001*senior + 0.001*another + 0.001*israeli + 0.001*malaysian + 0.001*unsatisfactory + 0.001*police + 0.001*shot + 0.001*cairns'),\n",
       " (7,\n",
       "  '0.003*friedli + 0.003*know + 0.002*people + 0.002*company + 0.002*director + 0.002*replied + 0.002*whether + 0.002*think + 0.002*republic + 0.002*also + 0.002*swiss + 0.001*australians + 0.001*said + 0.001*defunct + 0.001*region + 0.001*two + 0.001*conference + 0.001*unforeseeable + 0.001*risk + 0.001*accident'),\n",
       " (8,\n",
       "  '0.003*team + 0.003*said + 0.003*australia + 0.002*rafter + 0.002*says + 0.002*doubles + 0.002*win + 0.002*good + 0.002*know + 0.001*make + 0.001*expect + 0.001*captain + 0.001*defeat + 0.001*extremely + 0.001*changes + 0.001*hewitt + 0.001*wayne + 0.001*cup + 0.001*australian + 0.001*arthurs'),\n",
       " (9,\n",
       "  '0.002*says + 0.002*senator + 0.002*owen + 0.002*justice + 0.001*senate + 0.001*said + 0.001*criminal + 0.001*collapse + 0.001*royal_commission + 0.001*offence + 0.001*royal + 0.001*report + 0.001*insurance + 0.001*possible + 0.001*bourne + 0.001*nettle + 0.001*finalised + 0.001*parliament + 0.001*greens + 0.001*staff'),\n",
       " (10,\n",
       "  '0.003*report + 0.002*company + 0.002*howard + 0.002*indonesia + 0.002*hih + 0.002*took + 0.002*apra + 0.002*revealed + 0.002*president + 0.002*megawati + 0.001*summit + 0.001*australia + 0.001*commission + 0.001*jakarta + 0.001*trading + 0.001*collapse + 0.001*told + 0.001*last_year + 0.001*meeting + 0.001*february'),\n",
       " (11,\n",
       "  '0.003*government + 0.002*says + 0.002*help + 0.002*bid + 0.002*lew + 0.001*would + 0.001*qantas + 0.001*review + 0.001*dominance + 0.001*said + 0.001*time + 0.001*per_cent + 0.001*limits + 0.001*assistance + 0.001*practices + 0.001*trade + 0.001*prime_minister + 0.001*retailer + 0.001*defending + 0.001*share'),\n",
       " (12,\n",
       "  '0.003*harrison + 0.003*said + 0.002*george + 0.002*shaped + 0.002*music + 0.002*died + 0.001*beatle + 0.001*tonight + 0.001*memory + 0.001*liverpool + 0.001*lord + 0.001*planted + 0.001*people + 0.001*losing + 0.001*come + 0.001*series + 0.001*tree + 0.001*baz + 0.001*vigil + 0.001*minute'),\n",
       " (13,\n",
       "  '0.004*company + 0.002*austar + 0.002*administrators + 0.002*staff + 0.002*entitlements + 0.002*million + 0.002*receive + 0.002*says + 0.001*creditors + 0.001*traveland + 0.001*today + 0.001*payments + 0.001*network + 0.001*said + 0.001*morning + 0.001*springwood + 0.001*pay + 0.001*richmond + 0.001*foley + 0.001*operating'),\n",
       " (14,\n",
       "  '0.002*says + 0.002*afghanistan + 0.002*troops + 0.002*australian + 0.001*said + 0.001*tora_bora + 0.001*qaeda + 0.001*senator_hill + 0.001*unknown + 0.001*guitarist + 0.001*hagel + 0.001*take + 0.001*pakistan + 0.001*forces + 0.001*months + 0.001*labor + 0.001*morning + 0.001*suitable + 0.001*interrogation + 0.001*terrorism'),\n",
       " (15,\n",
       "  '0.003*australia + 0.002*test + 0.002*cow + 0.002*japan + 0.002*third + 0.002*day + 0.002*says + 0.002*disease + 0.001*harsh + 0.001*adam + 0.001*palestinian_security + 0.001*skippers + 0.001*final + 0.001*win + 0.001*regain + 0.001*match + 0.001*sway + 0.001*god + 0.001*case + 0.001*mad'),\n",
       " (16,\n",
       "  '0.002*launceston + 0.002*virgin + 0.002*airline + 0.002*says + 0.002*australian + 0.001*terminal + 0.001*second + 0.001*reading + 0.001*said + 0.001*indefinitely + 0.001*boys + 0.001*alarming + 0.001*daily + 0.001*survey + 0.001*could + 0.001*flight + 0.001*fleet + 0.001*administrators + 0.001*women + 0.001*fatalities'),\n",
       " (17,\n",
       "  '0.002*north + 0.002*sydney + 0.002*hit + 0.002*damage + 0.001*wales + 0.001*carr + 0.001*downtown + 0.001*disaster + 0.001*said + 0.001*areas + 0.001*struck + 0.001*new_south + 0.001*state + 0.001*house + 0.001*back + 0.001*pelican + 0.001*natural + 0.001*freight + 0.001*uprising + 0.001*storms'),\n",
       " (18,\n",
       "  '0.003*afghanistan + 0.002*says + 0.002*powell + 0.002*taliban + 0.002*southern + 0.002*laden + 0.001*said + 0.001*also + 0.001*matter + 0.001*wants + 0.001*job + 0.001*officers + 0.001*bin_laden + 0.001*appearing + 0.001*mixed + 0.001*per_cent + 0.001*forces + 0.001*week + 0.001*time + 0.001*kandahar'),\n",
       " (19,\n",
       "  '0.002*says + 0.001*vaughan + 0.001*per_cent + 0.001*said + 0.001*arafat + 0.001*job + 0.001*sure + 0.001*nicole + 0.001*fine + 0.001*increase + 0.001*olivier + 0.001*australian + 0.001*ablution + 0.001*peres + 0.001*airways + 0.001*authorised + 0.001*agree + 0.001*employment + 0.001*monday + 0.001*sharon')]"
      ]
     },
     "execution_count": 59,
     "metadata": {},
     "output_type": "execute_result"
    }
   ],
   "source": [
    "hdpmodel.show_topics()"
   ]
  },
  {
   "cell_type": "markdown",
   "metadata": {},
   "source": [
    "## Topic modeling using LDA\n",
    "This is one the most popular topic modeling algorithms today. It is a generative model in that it assumes each document is a mixture of topics and in turn, each topic is a mixture of words. To understand it better you can watch this lecture by David Blei. Let's choose 10 topics to initialize this."
   ]
  },
  {
   "cell_type": "code",
   "execution_count": 60,
   "metadata": {},
   "outputs": [],
   "source": [
    "ldamodel = LdaModel(corpus=corpus, num_topics=10, id2word=dictionary)"
   ]
  },
  {
   "cell_type": "code",
   "execution_count": 63,
   "metadata": {},
   "outputs": [],
   "source": [
    "import pyLDAvis.gensim"
   ]
  },
  {
   "cell_type": "code",
   "execution_count": 62,
   "metadata": {},
   "outputs": [
    {
     "name": "stdout",
     "output_type": "stream",
     "text": [
      "Looking in indexes: https://pypi.douban.com/simple\n",
      "Collecting pyLDAvis\n",
      "\u001b[?25l  Downloading https://pypi.doubanio.com/packages/a5/3a/af82e070a8a96e13217c8f362f9a73e82d61ac8fff3a2561946a97f96266/pyLDAvis-2.1.2.tar.gz (1.6MB)\n",
      "\u001b[K     |████████████████████████████████| 1.6MB 869kB/s eta 0:00:01\n",
      "\u001b[?25hRequirement already satisfied: wheel>=0.23.0 in /home/lc/anaconda3/lib/python3.6/site-packages (from pyLDAvis) (0.31.1)\n",
      "Requirement already satisfied: numpy>=1.9.2 in /home/lc/anaconda3/lib/python3.6/site-packages (from pyLDAvis) (1.14.3)\n",
      "Requirement already satisfied: scipy>=0.18.0 in /home/lc/anaconda3/lib/python3.6/site-packages (from pyLDAvis) (1.1.0)\n",
      "Requirement already satisfied: pandas>=0.17.0 in /home/lc/anaconda3/lib/python3.6/site-packages (from pyLDAvis) (0.23.0)\n",
      "Collecting joblib>=0.8.4 (from pyLDAvis)\n",
      "\u001b[?25l  Downloading https://pypi.doubanio.com/packages/cd/c1/50a758e8247561e58cb87305b1e90b171b8c767b15b12a1734001f41d356/joblib-0.13.2-py2.py3-none-any.whl (278kB)\n",
      "\u001b[K     |████████████████████████████████| 286kB 6.9MB/s eta 0:00:01\n",
      "\u001b[?25hRequirement already satisfied: jinja2>=2.7.2 in /home/lc/anaconda3/lib/python3.6/site-packages (from pyLDAvis) (2.10)\n",
      "Requirement already satisfied: numexpr in /home/lc/anaconda3/lib/python3.6/site-packages (from pyLDAvis) (2.6.5)\n",
      "Requirement already satisfied: pytest in /home/lc/anaconda3/lib/python3.6/site-packages (from pyLDAvis) (3.5.1)\n",
      "Requirement already satisfied: future in /home/lc/anaconda3/lib/python3.6/site-packages (from pyLDAvis) (0.17.1)\n",
      "Collecting funcy (from pyLDAvis)\n",
      "  Downloading https://pypi.doubanio.com/packages/b3/23/d1f90f4e2af5f9d4921ab3797e33cf0503e3f130dd390a812f3bf59ce9ea/funcy-1.12-py2.py3-none-any.whl\n",
      "Requirement already satisfied: python-dateutil>=2.5.0 in /home/lc/anaconda3/lib/python3.6/site-packages (from pandas>=0.17.0->pyLDAvis) (2.7.3)\n",
      "Requirement already satisfied: pytz>=2011k in /home/lc/anaconda3/lib/python3.6/site-packages (from pandas>=0.17.0->pyLDAvis) (2018.4)\n",
      "Requirement already satisfied: MarkupSafe>=0.23 in /home/lc/anaconda3/lib/python3.6/site-packages (from jinja2>=2.7.2->pyLDAvis) (1.0)\n",
      "Requirement already satisfied: py>=1.5.0 in /home/lc/anaconda3/lib/python3.6/site-packages (from pytest->pyLDAvis) (1.5.3)\n",
      "Requirement already satisfied: six>=1.10.0 in /home/lc/anaconda3/lib/python3.6/site-packages (from pytest->pyLDAvis) (1.11.0)\n",
      "Requirement already satisfied: setuptools in /home/lc/anaconda3/lib/python3.6/site-packages (from pytest->pyLDAvis) (39.1.0)\n",
      "Requirement already satisfied: attrs>=17.4.0 in /home/lc/anaconda3/lib/python3.6/site-packages (from pytest->pyLDAvis) (18.1.0)\n",
      "Requirement already satisfied: more-itertools>=4.0.0 in /home/lc/anaconda3/lib/python3.6/site-packages (from pytest->pyLDAvis) (4.1.0)\n",
      "Requirement already satisfied: pluggy<0.7,>=0.5 in /home/lc/anaconda3/lib/python3.6/site-packages (from pytest->pyLDAvis) (0.6.0)\n",
      "Building wheels for collected packages: pyLDAvis\n",
      "  Building wheel for pyLDAvis (setup.py) ... \u001b[?25ldone\n",
      "\u001b[?25h  Stored in directory: /home/lc/.cache/pip/wheels/3e/02/05/df49a05080c8fc4c5652bce0c442c8416df1b3bb48550de79b\n",
      "Successfully built pyLDAvis\n",
      "Installing collected packages: joblib, funcy, pyLDAvis\n",
      "Successfully installed funcy-1.12 joblib-0.13.2 pyLDAvis-2.1.2\n"
     ]
    }
   ],
   "source": [
    "!pip install pyLDAvis"
   ]
  },
  {
   "cell_type": "code",
   "execution_count": 64,
   "metadata": {},
   "outputs": [],
   "source": [
    "pyLDAvis.enable_notebook()"
   ]
  },
  {
   "cell_type": "code",
   "execution_count": 65,
   "metadata": {},
   "outputs": [
    {
     "data": {
      "text/html": [
       "\n",
       "<link rel=\"stylesheet\" type=\"text/css\" href=\"https://cdn.rawgit.com/bmabey/pyLDAvis/files/ldavis.v1.0.0.css\">\n",
       "\n",
       "\n",
       "<div id=\"ldavis_el323501403197492030724171626301\"></div>\n",
       "<script type=\"text/javascript\">\n",
       "\n",
       "var ldavis_el323501403197492030724171626301_data = {\"mdsDat\": {\"x\": [0.02564311101863518, -0.04721793065750341, 0.04184765227153732, -0.008653000869800297, -0.011655655870175939, -0.019500262737407344, -0.028792497440686876, -0.011906375634622449, 0.025906398258368272, 0.03432856166165545], \"y\": [0.0058412685193347975, 0.011500814132499019, 0.004998249148108515, 0.018893160414854834, -0.013850477394058302, -0.05609672864055054, 0.04425216037922425, -0.017903431099017143, -0.008550684726861539, 0.010915669266466178], \"topics\": [1, 2, 3, 4, 5, 6, 7, 8, 9, 10], \"cluster\": [1, 1, 1, 1, 1, 1, 1, 1, 1, 1], \"Freq\": [17.535070419311523, 13.270120620727539, 13.173125267028809, 9.826040267944336, 9.561768531799316, 8.988723754882812, 7.6653666496276855, 7.504404544830322, 6.862267017364502, 5.613104343414307]}, \"tinfo\": {\"Category\": [\"Default\", \"Default\", \"Default\", \"Default\", \"Default\", \"Default\", \"Default\", \"Default\", \"Default\", \"Default\", \"Default\", \"Default\", \"Default\", \"Default\", \"Default\", \"Default\", \"Default\", \"Default\", \"Default\", \"Default\", \"Default\", \"Default\", \"Default\", \"Default\", \"Default\", \"Default\", \"Default\", \"Default\", \"Default\", \"Default\", \"Topic1\", \"Topic1\", \"Topic1\", \"Topic1\", \"Topic1\", \"Topic1\", \"Topic1\", \"Topic1\", \"Topic1\", \"Topic1\", \"Topic1\", \"Topic1\", \"Topic1\", \"Topic1\", \"Topic1\", \"Topic1\", \"Topic1\", \"Topic1\", \"Topic1\", \"Topic1\", \"Topic1\", \"Topic1\", \"Topic1\", \"Topic1\", \"Topic1\", \"Topic1\", \"Topic1\", \"Topic1\", \"Topic1\", \"Topic1\", \"Topic1\", \"Topic1\", \"Topic1\", \"Topic1\", \"Topic1\", \"Topic1\", \"Topic1\", \"Topic1\", \"Topic1\", \"Topic1\", \"Topic1\", \"Topic1\", \"Topic1\", \"Topic1\", \"Topic1\", \"Topic1\", \"Topic1\", \"Topic1\", \"Topic1\", \"Topic1\", \"Topic1\", \"Topic1\", \"Topic1\", \"Topic1\", \"Topic1\", \"Topic1\", \"Topic1\", \"Topic1\", \"Topic1\", \"Topic1\", \"Topic1\", \"Topic1\", \"Topic1\", \"Topic1\", \"Topic1\", \"Topic1\", \"Topic1\", \"Topic1\", \"Topic1\", \"Topic1\", \"Topic1\", \"Topic1\", \"Topic1\", \"Topic1\", \"Topic1\", \"Topic1\", \"Topic1\", \"Topic1\", \"Topic1\", \"Topic2\", \"Topic2\", \"Topic2\", \"Topic2\", \"Topic2\", \"Topic2\", \"Topic2\", \"Topic2\", \"Topic2\", \"Topic2\", \"Topic2\", \"Topic2\", \"Topic2\", \"Topic2\", \"Topic2\", \"Topic2\", \"Topic2\", \"Topic2\", \"Topic2\", \"Topic2\", \"Topic2\", \"Topic2\", \"Topic2\", \"Topic2\", \"Topic2\", \"Topic2\", \"Topic2\", \"Topic2\", \"Topic2\", \"Topic2\", \"Topic2\", \"Topic2\", \"Topic2\", \"Topic2\", \"Topic2\", \"Topic2\", \"Topic2\", \"Topic2\", \"Topic2\", \"Topic2\", \"Topic2\", \"Topic2\", \"Topic2\", \"Topic2\", \"Topic2\", \"Topic2\", \"Topic2\", \"Topic2\", \"Topic2\", \"Topic2\", \"Topic2\", \"Topic2\", \"Topic2\", \"Topic2\", \"Topic2\", \"Topic2\", \"Topic2\", \"Topic2\", \"Topic2\", \"Topic2\", \"Topic2\", \"Topic2\", \"Topic2\", \"Topic2\", \"Topic2\", \"Topic2\", \"Topic2\", \"Topic2\", \"Topic2\", \"Topic2\", \"Topic2\", \"Topic2\", \"Topic2\", \"Topic2\", \"Topic2\", \"Topic2\", \"Topic3\", \"Topic3\", \"Topic3\", \"Topic3\", \"Topic3\", \"Topic3\", \"Topic3\", \"Topic3\", \"Topic3\", \"Topic3\", \"Topic3\", \"Topic3\", \"Topic3\", \"Topic3\", \"Topic3\", \"Topic3\", \"Topic3\", \"Topic3\", \"Topic3\", \"Topic3\", \"Topic3\", \"Topic3\", \"Topic3\", \"Topic3\", \"Topic3\", \"Topic3\", \"Topic3\", \"Topic3\", \"Topic3\", \"Topic3\", \"Topic3\", \"Topic3\", \"Topic3\", \"Topic3\", \"Topic3\", \"Topic3\", \"Topic3\", \"Topic3\", \"Topic3\", \"Topic3\", \"Topic3\", \"Topic3\", \"Topic3\", \"Topic3\", \"Topic3\", \"Topic3\", \"Topic3\", \"Topic3\", \"Topic3\", \"Topic3\", \"Topic3\", \"Topic3\", \"Topic3\", \"Topic3\", \"Topic3\", \"Topic3\", \"Topic3\", \"Topic3\", \"Topic3\", \"Topic3\", \"Topic3\", \"Topic3\", \"Topic3\", \"Topic3\", \"Topic3\", \"Topic3\", \"Topic3\", \"Topic3\", \"Topic3\", \"Topic3\", \"Topic3\", \"Topic3\", \"Topic3\", \"Topic3\", \"Topic3\", \"Topic3\", \"Topic3\", \"Topic4\", \"Topic4\", \"Topic4\", \"Topic4\", \"Topic4\", \"Topic4\", \"Topic4\", \"Topic4\", \"Topic4\", \"Topic4\", \"Topic4\", \"Topic4\", \"Topic4\", \"Topic4\", \"Topic4\", \"Topic4\", \"Topic4\", \"Topic4\", \"Topic4\", \"Topic4\", \"Topic4\", \"Topic4\", \"Topic4\", \"Topic4\", \"Topic4\", \"Topic4\", \"Topic4\", \"Topic4\", \"Topic4\", \"Topic4\", \"Topic4\", \"Topic4\", \"Topic4\", \"Topic4\", \"Topic4\", \"Topic4\", \"Topic4\", \"Topic4\", \"Topic4\", \"Topic4\", \"Topic4\", \"Topic4\", \"Topic4\", \"Topic4\", \"Topic4\", \"Topic4\", \"Topic4\", \"Topic4\", \"Topic4\", \"Topic4\", \"Topic4\", \"Topic4\", \"Topic4\", \"Topic4\", \"Topic4\", \"Topic4\", \"Topic4\", \"Topic4\", \"Topic4\", \"Topic4\", \"Topic4\", \"Topic4\", \"Topic4\", \"Topic4\", \"Topic4\", \"Topic4\", \"Topic4\", \"Topic4\", \"Topic4\", \"Topic4\", \"Topic4\", \"Topic4\", \"Topic4\", \"Topic4\", \"Topic4\", \"Topic4\", \"Topic4\", \"Topic4\", \"Topic5\", \"Topic5\", \"Topic5\", \"Topic5\", \"Topic5\", \"Topic5\", \"Topic5\", \"Topic5\", \"Topic5\", \"Topic5\", \"Topic5\", \"Topic5\", \"Topic5\", \"Topic5\", \"Topic5\", \"Topic5\", \"Topic5\", \"Topic5\", \"Topic5\", \"Topic5\", \"Topic5\", \"Topic5\", \"Topic5\", \"Topic5\", \"Topic5\", \"Topic5\", \"Topic5\", \"Topic5\", \"Topic5\", \"Topic5\", \"Topic5\", \"Topic5\", \"Topic5\", \"Topic5\", \"Topic5\", \"Topic5\", \"Topic5\", \"Topic5\", \"Topic5\", \"Topic5\", \"Topic5\", \"Topic5\", \"Topic5\", \"Topic5\", \"Topic5\", \"Topic5\", \"Topic5\", \"Topic5\", \"Topic5\", \"Topic5\", \"Topic5\", \"Topic5\", \"Topic5\", \"Topic5\", \"Topic5\", \"Topic5\", \"Topic5\", \"Topic5\", \"Topic5\", \"Topic5\", \"Topic5\", \"Topic5\", \"Topic5\", \"Topic5\", \"Topic5\", \"Topic5\", \"Topic5\", \"Topic5\", \"Topic5\", \"Topic5\", \"Topic5\", \"Topic5\", \"Topic5\", \"Topic5\", \"Topic5\", \"Topic5\", \"Topic5\", \"Topic5\", \"Topic6\", \"Topic6\", \"Topic6\", \"Topic6\", \"Topic6\", \"Topic6\", \"Topic6\", \"Topic6\", \"Topic6\", \"Topic6\", \"Topic6\", \"Topic6\", \"Topic6\", \"Topic6\", \"Topic6\", \"Topic6\", \"Topic6\", \"Topic6\", \"Topic6\", \"Topic6\", \"Topic6\", \"Topic6\", \"Topic6\", \"Topic6\", \"Topic6\", \"Topic6\", \"Topic6\", \"Topic6\", \"Topic6\", \"Topic6\", \"Topic6\", \"Topic6\", \"Topic6\", \"Topic6\", \"Topic6\", \"Topic6\", \"Topic6\", \"Topic6\", \"Topic6\", \"Topic6\", \"Topic6\", \"Topic6\", \"Topic6\", \"Topic6\", \"Topic6\", \"Topic6\", \"Topic6\", \"Topic6\", \"Topic6\", \"Topic6\", \"Topic6\", \"Topic6\", \"Topic6\", \"Topic6\", \"Topic6\", \"Topic6\", \"Topic6\", \"Topic6\", \"Topic6\", \"Topic6\", \"Topic6\", \"Topic6\", \"Topic6\", \"Topic6\", \"Topic6\", \"Topic6\", \"Topic6\", \"Topic6\", \"Topic6\", \"Topic6\", \"Topic6\", \"Topic6\", \"Topic6\", \"Topic6\", \"Topic6\", \"Topic6\", \"Topic6\", \"Topic7\", \"Topic7\", \"Topic7\", \"Topic7\", \"Topic7\", \"Topic7\", \"Topic7\", \"Topic7\", \"Topic7\", \"Topic7\", \"Topic7\", \"Topic7\", \"Topic7\", \"Topic7\", \"Topic7\", \"Topic7\", \"Topic7\", \"Topic7\", \"Topic7\", \"Topic7\", \"Topic7\", \"Topic7\", \"Topic7\", \"Topic7\", \"Topic7\", \"Topic7\", \"Topic7\", \"Topic7\", \"Topic7\", \"Topic7\", \"Topic7\", \"Topic7\", \"Topic7\", \"Topic7\", \"Topic7\", \"Topic7\", \"Topic7\", \"Topic7\", \"Topic7\", \"Topic7\", \"Topic7\", \"Topic7\", \"Topic7\", \"Topic7\", \"Topic7\", \"Topic7\", \"Topic7\", \"Topic7\", \"Topic7\", \"Topic7\", \"Topic7\", \"Topic7\", \"Topic7\", \"Topic7\", \"Topic7\", \"Topic7\", \"Topic7\", \"Topic7\", \"Topic7\", \"Topic7\", \"Topic7\", \"Topic7\", \"Topic7\", \"Topic7\", \"Topic7\", \"Topic7\", \"Topic7\", \"Topic7\", \"Topic7\", \"Topic7\", \"Topic7\", \"Topic7\", \"Topic7\", \"Topic7\", \"Topic7\", \"Topic7\", \"Topic7\", \"Topic8\", \"Topic8\", \"Topic8\", \"Topic8\", \"Topic8\", \"Topic8\", \"Topic8\", \"Topic8\", \"Topic8\", \"Topic8\", \"Topic8\", \"Topic8\", \"Topic8\", \"Topic8\", \"Topic8\", \"Topic8\", \"Topic8\", \"Topic8\", \"Topic8\", \"Topic8\", \"Topic8\", \"Topic8\", \"Topic8\", \"Topic8\", \"Topic8\", \"Topic8\", \"Topic8\", \"Topic8\", \"Topic8\", \"Topic8\", \"Topic8\", \"Topic8\", \"Topic8\", \"Topic8\", \"Topic8\", \"Topic8\", \"Topic8\", \"Topic8\", \"Topic8\", \"Topic8\", \"Topic8\", \"Topic8\", \"Topic8\", \"Topic8\", \"Topic8\", \"Topic8\", \"Topic8\", \"Topic8\", \"Topic8\", \"Topic8\", \"Topic8\", \"Topic8\", \"Topic8\", \"Topic8\", \"Topic8\", \"Topic8\", \"Topic8\", \"Topic8\", \"Topic8\", \"Topic8\", \"Topic8\", \"Topic8\", \"Topic8\", \"Topic8\", \"Topic8\", \"Topic8\", \"Topic8\", \"Topic8\", \"Topic8\", \"Topic8\", \"Topic8\", \"Topic8\", \"Topic8\", \"Topic8\", \"Topic8\", \"Topic9\", \"Topic9\", \"Topic9\", \"Topic9\", \"Topic9\", \"Topic9\", \"Topic9\", \"Topic9\", \"Topic9\", \"Topic9\", \"Topic9\", \"Topic9\", \"Topic9\", \"Topic9\", \"Topic9\", \"Topic9\", \"Topic9\", \"Topic9\", \"Topic9\", \"Topic9\", \"Topic9\", \"Topic9\", \"Topic9\", \"Topic9\", \"Topic9\", \"Topic9\", \"Topic9\", \"Topic9\", \"Topic9\", \"Topic9\", \"Topic9\", \"Topic9\", \"Topic9\", \"Topic9\", \"Topic9\", \"Topic9\", \"Topic9\", \"Topic9\", \"Topic9\", \"Topic9\", \"Topic9\", \"Topic9\", \"Topic9\", \"Topic9\", \"Topic9\", \"Topic9\", \"Topic9\", \"Topic9\", \"Topic9\", \"Topic9\", \"Topic9\", \"Topic9\", \"Topic9\", \"Topic9\", \"Topic9\", \"Topic9\", \"Topic9\", \"Topic9\", \"Topic9\", \"Topic9\", \"Topic9\", \"Topic9\", \"Topic9\", \"Topic9\", \"Topic9\", \"Topic9\", \"Topic9\", \"Topic9\", \"Topic9\", \"Topic9\", \"Topic9\", \"Topic9\", \"Topic9\", \"Topic9\", \"Topic9\", \"Topic9\", \"Topic9\", \"Topic9\", \"Topic10\", \"Topic10\", \"Topic10\", \"Topic10\", \"Topic10\", \"Topic10\", \"Topic10\", \"Topic10\", \"Topic10\", \"Topic10\", \"Topic10\", \"Topic10\", \"Topic10\", \"Topic10\", \"Topic10\", \"Topic10\", \"Topic10\", \"Topic10\", \"Topic10\", \"Topic10\", \"Topic10\", \"Topic10\", \"Topic10\", \"Topic10\", \"Topic10\", \"Topic10\", \"Topic10\", \"Topic10\", \"Topic10\", \"Topic10\", \"Topic10\", \"Topic10\", \"Topic10\", \"Topic10\", \"Topic10\", \"Topic10\", \"Topic10\", \"Topic10\", \"Topic10\", \"Topic10\", \"Topic10\", \"Topic10\", \"Topic10\", \"Topic10\", \"Topic10\", \"Topic10\", \"Topic10\", \"Topic10\", \"Topic10\", \"Topic10\", \"Topic10\", \"Topic10\", \"Topic10\", \"Topic10\", \"Topic10\", \"Topic10\", \"Topic10\", \"Topic10\", \"Topic10\", \"Topic10\", \"Topic10\", \"Topic10\", \"Topic10\", \"Topic10\", \"Topic10\", \"Topic10\", \"Topic10\", \"Topic10\", \"Topic10\", \"Topic10\", \"Topic10\", \"Topic10\", \"Topic10\", \"Topic10\"], \"Freq\": [335.0, 43.0, 11.0, 119.0, 27.0, 67.0, 67.0, 32.0, 57.0, 115.0, 95.0, 91.0, 72.0, 30.0, 391.0, 44.0, 41.0, 108.0, 29.0, 5.0, 34.0, 48.0, 15.0, 29.0, 23.0, 42.0, 58.0, 36.0, 63.0, 11.0, 2.2979679107666016, 2.2306501865386963, 2.9623544216156006, 2.928520441055298, 2.6359665393829346, 2.694868564605713, 1.8979742527008057, 2.417429208755493, 1.802591323852539, 2.4493958950042725, 1.203833818435669, 1.203780174255371, 1.2037756443023682, 1.2036266326904297, 1.2035964727401733, 1.2035714387893677, 1.2035539150238037, 1.203420877456665, 1.203273057937622, 1.2030960321426392, 1.2026115655899048, 1.7520725727081299, 1.7191402912139893, 1.1637630462646484, 1.158077597618103, 1.1563605070114136, 2.2723629474639893, 2.2607197761535645, 4.036136627197266, 1.6764984130859375, 25.17315673828125, 2.759798288345337, 2.8057165145874023, 10.610523223876953, 16.364864349365234, 3.124112367630005, 8.849936485290527, 5.683598518371582, 2.5988478660583496, 2.9368462562561035, 3.773689031600952, 2.554234027862549, 2.1524524688720703, 5.3090500831604, 5.5557403564453125, 22.581806182861328, 14.51313304901123, 9.370574951171875, 8.283267974853516, 9.03710651397705, 9.644523620605469, 84.25386810302734, 11.546189308166504, 9.209188461303711, 25.035276412963867, 8.332258224487305, 59.560787200927734, 21.006620407104492, 23.89277458190918, 24.31894874572754, 14.450204849243164, 7.703301906585693, 15.228715896606445, 6.924335479736328, 11.665811538696289, 18.154457092285156, 15.398818969726562, 18.434139251708984, 18.738197326660156, 10.861300468444824, 13.00303840637207, 12.069817543029785, 12.50691032409668, 14.669124603271484, 11.269922256469727, 11.300782203674316, 12.220630645751953, 11.009770393371582, 10.185683250427246, 3.237363576889038, 4.059031963348389, 1.7406713962554932, 2.254179000854492, 1.6425093412399292, 1.086338758468628, 3.279526710510254, 1.0835068225860596, 1.6244546175003052, 1.0790091753005981, 1.0731414556503296, 1.537206768989563, 1.9909546375274658, 1.4840203523635864, 0.9639427065849304, 0.9561848044395447, 0.9345656633377075, 1.3789311647415161, 1.399915337562561, 3.7324635982513428, 0.90326327085495, 1.3386714458465576, 0.8889761567115784, 2.3319385051727295, 1.7429389953613281, 1.286763310432434, 0.8788193464279175, 0.8782094120979309, 1.2844516038894653, 3.852597713470459, 2.8130311965942383, 4.248849391937256, 3.992676258087158, 2.89162278175354, 3.8148276805877686, 1.7665809392929077, 4.179253101348877, 20.799848556518555, 19.918262481689453, 9.200313568115234, 8.237447738647461, 10.702692031860352, 12.717759132385254, 14.680006980895996, 15.220091819763184, 10.003320693969727, 3.4696428775787354, 4.838168621063232, 50.88819122314453, 7.240170001983643, 6.899085998535156, 13.279857635498047, 9.049238204956055, 9.127280235290527, 7.519962310791016, 8.310250282287598, 15.754576683044434, 30.896799087524414, 14.980307579040527, 9.579747200012207, 11.009245872497559, 14.669327735900879, 6.682409286499023, 7.564294338226318, 7.0394768714904785, 8.878408432006836, 7.588727951049805, 7.902687072753906, 11.372803688049316, 9.244026184082031, 8.47323226928711, 10.054771423339844, 10.26911735534668, 9.311799049377441, 7.798881530761719, 7.727817058563232, 1.9164859056472778, 1.6716227531433105, 1.6551765203475952, 2.172048807144165, 2.706737756729126, 1.5873512029647827, 1.5857878923416138, 1.4893994331359863, 1.5048017501831055, 1.0072308778762817, 0.9988316893577576, 2.0026614665985107, 1.4691927433013916, 1.440293788909912, 1.8784767389297485, 2.4731433391571045, 0.9645256400108337, 2.309302568435669, 0.9632880091667175, 0.9437678456306458, 0.9374477863311768, 1.7705329656600952, 1.381651759147644, 3.1267104148864746, 3.183854103088379, 2.2092902660369873, 1.3477473258972168, 3.6160030364990234, 3.010805130004883, 1.7245179414749146, 1.8010703325271606, 2.471517324447632, 4.908198356628418, 4.919116497039795, 3.1990461349487305, 5.412377834320068, 4.088476657867432, 11.629454612731934, 5.880934238433838, 2.466742992401123, 8.63086223602295, 27.763017654418945, 70.06864929199219, 55.231990814208984, 7.556432247161865, 5.1581645011901855, 8.295705795288086, 5.20609188079834, 19.884498596191406, 5.143344402313232, 11.478876113891602, 8.019696235656738, 12.583906173706055, 7.39061975479126, 15.456385612487793, 15.221647262573242, 7.76873254776001, 6.188600540161133, 8.071175575256348, 8.15256118774414, 12.62240982055664, 7.425854206085205, 5.209535121917725, 11.78109073638916, 11.30928897857666, 7.982656955718994, 7.288952827453613, 7.684879779815674, 9.147579193115234, 8.39865779876709, 8.702171325683594, 8.684428215026855, 8.238961219787598, 8.430248260498047, 8.918983459472656, 7.566683769226074, 7.4485955238342285, 4.255443096160889, 2.7382419109344482, 1.3859755992889404, 1.8658963441848755, 1.4130057096481323, 1.3922340869903564, 1.3846049308776855, 1.3625047206878662, 1.6454437971115112, 3.2623162269592285, 1.1655032634735107, 0.7893665432929993, 0.7791756391525269, 1.1268534660339355, 1.1580597162246704, 0.7653851509094238, 1.134993314743042, 0.7493633031845093, 0.7446885108947754, 0.7422022819519043, 0.7413835525512695, 0.7429407238960266, 4.508939743041992, 2.3324382305145264, 0.7378191351890564, 1.1110939979553223, 0.7349348664283752, 0.7324874997138977, 2.1720991134643555, 0.7310028672218323, 2.28951358795166, 1.9200222492218018, 2.1046531200408936, 1.097030758857727, 2.1442596912384033, 2.2929375171661377, 1.6783275604248047, 2.822392463684082, 4.248673915863037, 1.8529034852981567, 2.8533518314361572, 5.039503574371338, 49.129005432128906, 3.2241885662078857, 18.640472412109375, 4.427975177764893, 3.5011234283447266, 10.561525344848633, 4.300474643707275, 5.755461692810059, 11.61306381225586, 8.37511920928955, 11.944823265075684, 22.52490997314453, 8.303678512573242, 8.976144790649414, 6.737202167510986, 5.86831521987915, 11.161191940307617, 11.341612815856934, 8.898632049560547, 8.2266845703125, 7.024322986602783, 6.580770015716553, 6.423473834991455, 9.683483123779297, 4.637545108795166, 7.749702453613281, 6.761744499206543, 6.844889163970947, 7.853939056396484, 6.827491283416748, 6.585348606109619, 6.575833320617676, 7.29879903793335, 6.545799732208252, 5.86514139175415, 5.852717876434326, 4.5666327476501465, 1.720053791999817, 1.6198474168777466, 1.5712758302688599, 1.5376001596450806, 1.5292942523956299, 1.5160775184631348, 1.4718797206878662, 1.436820387840271, 1.4174104928970337, 3.2255074977874756, 0.9011169672012329, 0.900994598865509, 0.9009554982185364, 0.9008766412734985, 0.9008477926254272, 0.9006893038749695, 0.9006567001342773, 0.8361376523971558, 0.8288570046424866, 0.823960542678833, 0.8215382695198059, 0.820158064365387, 0.8148531317710876, 0.8146413564682007, 0.8137174248695374, 0.8092412352561951, 0.803663969039917, 0.8000786304473877, 0.7971803545951843, 1.5103387832641602, 1.1308966875076294, 2.4619922637939453, 1.5295106172561646, 3.38996958732605, 3.6311099529266357, 3.9561402797698975, 1.4644695520401, 1.6027694940567017, 14.138361930847168, 2.5330560207366943, 3.284735679626465, 9.525251388549805, 2.6701836585998535, 5.797756195068359, 8.182510375976562, 14.535449981689453, 31.896474838256836, 6.492375373840332, 3.0172057151794434, 3.2976739406585693, 6.763525009155273, 29.64228630065918, 9.638768196105957, 4.18892765045166, 11.24016284942627, 6.326933860778809, 8.268838882446289, 8.7310791015625, 6.808735370635986, 6.60615348815918, 5.076350688934326, 8.172800064086914, 9.627226829528809, 5.836489200592041, 9.784014701843262, 6.793838977813721, 6.570820331573486, 4.793972969055176, 7.389504909515381, 5.972100257873535, 6.52559232711792, 6.427877426147461, 5.726957321166992, 6.4630351066589355, 6.404632568359375, 5.801699161529541, 5.8271331787109375, 2.823091745376587, 2.8150501251220703, 2.119846820831299, 1.4603838920593262, 1.4602454900741577, 1.4597549438476562, 1.4595829248428345, 1.4470460414886475, 1.4394124746322632, 2.279285430908203, 1.6674312353134155, 3.509817123413086, 2.1649985313415527, 2.743194818496704, 1.195669174194336, 0.7649841904640198, 0.7649548649787903, 0.7649012804031372, 0.7648785710334778, 0.7648432850837708, 0.7648287415504456, 0.7646210789680481, 0.7596341371536255, 0.75895094871521, 0.757959246635437, 0.7566766142845154, 0.7566624283790588, 0.7562498450279236, 0.7560679316520691, 0.7550129890441895, 1.5268133878707886, 2.8060030937194824, 1.4570213556289673, 2.382018804550171, 4.689407825469971, 1.0980805158615112, 1.7132892608642578, 1.3718271255493164, 3.2415690422058105, 3.9192581176757812, 6.611379146575928, 3.0747482776641846, 2.3441781997680664, 2.712327718734741, 3.537123680114746, 5.646084308624268, 13.533370018005371, 30.785757064819336, 10.762383460998535, 7.4896650314331055, 6.891184329986572, 6.067841053009033, 27.082263946533203, 9.879151344299316, 10.762032508850098, 6.14044713973999, 9.883771896362305, 10.746859550476074, 3.7973387241363525, 6.135661602020264, 7.732434272766113, 5.540615558624268, 6.793156147003174, 9.366714477539062, 7.290501117706299, 4.591378688812256, 5.654307842254639, 5.4452805519104, 5.68897819519043, 4.528330326080322, 5.977841854095459, 6.811403751373291, 5.20761251449585, 5.71728515625, 6.0865302085876465, 5.291824817657471, 5.061245918273926, 2.7488954067230225, 1.3497930765151978, 3.1805312633514404, 2.187002182006836, 1.1574946641921997, 1.9174870252609253, 0.7214998602867126, 0.712645411491394, 1.4333096742630005, 0.712294340133667, 0.7030647397041321, 0.7024155259132385, 1.0399165153503418, 0.6993051767349243, 0.6959570050239563, 1.015340805053711, 0.679116427898407, 0.6763143539428711, 1.6831108331680298, 0.6491073966026306, 0.6386966705322266, 0.6337941884994507, 1.234244704246521, 0.6238182783126831, 0.9061896800994873, 0.617429792881012, 0.6241664886474609, 1.2074253559112549, 0.6200156807899475, 1.8704825639724731, 3.0366008281707764, 1.0897287130355835, 1.609866738319397, 1.1083095073699951, 1.684058427810669, 2.0365569591522217, 3.041928768157959, 6.506164073944092, 2.8626885414123535, 2.634711503982544, 2.253939151763916, 3.464157819747925, 5.413208961486816, 6.351871013641357, 2.313103675842285, 5.113049507141113, 3.148801565170288, 8.3012056350708, 6.573148727416992, 22.838668823242188, 11.6580228805542, 3.3892245292663574, 9.983464241027832, 7.160640239715576, 4.3299713134765625, 5.8942646980285645, 19.006935119628906, 4.993751049041748, 6.812496662139893, 6.188569068908691, 5.489593982696533, 5.124697685241699, 3.9370932579040527, 6.022940158843994, 7.09454345703125, 5.69730806350708, 5.884806156158447, 5.961816787719727, 4.450826644897461, 4.713644027709961, 5.5543951988220215, 3.995359182357788, 4.9046759605407715, 4.532049655914307, 4.57641077041626, 4.119964122772217, 4.225048065185547, 6.124470233917236, 2.963461399078369, 2.123649835586548, 1.0611207485198975, 0.9632351398468018, 1.321961522102356, 0.9277380704879761, 3.0657405853271484, 0.931342601776123, 0.6199227571487427, 0.6183602809906006, 0.5928662419319153, 0.8864662051200867, 0.5857184529304504, 0.5826050639152527, 1.372757911682129, 0.5950886011123657, 2.4816558361053467, 1.6773799657821655, 0.8530744910240173, 2.7782297134399414, 1.611332654953003, 0.5732623338699341, 0.5833073854446411, 3.2106070518493652, 1.722150206565857, 0.5373328924179077, 0.7889152765274048, 0.5358911752700806, 0.8142491579055786, 1.0626442432403564, 1.0720086097717285, 1.1106690168380737, 1.0375914573669434, 3.6053690910339355, 2.3844542503356934, 0.9896308779716492, 4.232576847076416, 3.796029567718506, 2.626699686050415, 2.6891937255859375, 2.233120918273926, 1.786628007888794, 10.659229278564453, 4.132153511047363, 24.398496627807617, 26.868900299072266, 8.217647552490234, 2.8337862491607666, 3.455554962158203, 5.021915435791016, 9.220881462097168, 3.259935140609741, 4.413571357727051, 7.989914894104004, 7.901131629943848, 5.757020473480225, 4.571982383728027, 5.599455833435059, 6.142883777618408, 5.633724212646484, 4.007876396179199, 4.863931655883789, 5.14902400970459, 6.026981353759766, 5.556589603424072, 5.05895471572876, 5.679087162017822, 4.6403961181640625, 4.866506576538086, 4.570070743560791, 4.054935932159424, 4.158802509307861, 4.286378860473633, 4.053382873535156, 2.3454179763793945, 1.3363627195358276, 1.2403863668441772, 1.5603524446487427, 1.8585535287857056, 2.0637471675872803, 0.6709703803062439, 0.6700595617294312, 1.0606426000595093, 1.0504623651504517, 0.6574887633323669, 0.6568189263343811, 0.6528255343437195, 2.0065419673919678, 0.6414941549301147, 0.9085627794265747, 0.9044433832168579, 0.8874098062515259, 2.4078378677368164, 0.5784702301025391, 0.591801643371582, 0.8551622629165649, 2.0850160121917725, 0.5654239058494568, 0.5759803652763367, 0.8033283948898315, 0.5606400370597839, 0.8639079928398132, 0.8581357598304749, 0.5461457967758179, 1.9198298454284668, 0.7798437476158142, 1.0947844982147217, 2.740560293197632, 7.6446404457092285, 1.2195055484771729, 1.0520620346069336, 1.4218707084655762, 1.4017760753631592, 33.758731842041016, 1.528239130973816, 4.00670862197876, 4.117712020874023, 4.053648948669434, 11.679254531860352, 5.3774495124816895, 9.223699569702148, 2.2705557346343994, 2.911433219909668, 19.432464599609375, 3.803558826446533, 3.398602247238159, 4.119686603546143, 2.5976145267486572, 3.373748540878296, 2.248060941696167, 7.192999839782715, 3.3828485012054443, 3.080410957336426, 6.275947093963623, 4.980842590332031, 4.108727931976318, 5.708942890167236, 3.8846237659454346, 5.453521251678467, 4.118594646453857, 3.5693981647491455, 4.200799942016602, 4.530490398406982, 3.867098331451416, 3.785691499710083, 3.8325252532958984, 3.8909170627593994, 3.2227792739868164, 3.6077589988708496, 3.5138916969299316, 3.530595064163208, 3.4408607482910156, 1.0103802680969238, 1.004475474357605, 0.6180337071418762, 0.9082658290863037, 0.6134409308433533, 0.6118571162223816, 0.6040065288543701, 0.6034179329872131, 0.6001423001289368, 0.8440713882446289, 1.1256486177444458, 0.55037522315979, 0.5339184403419495, 0.526272177696228, 0.5240146517753601, 0.523288905620575, 0.7284314632415771, 0.5099089741706848, 0.7229011654853821, 0.9484086632728577, 0.47378113865852356, 0.46242979168891907, 0.9047914743423462, 0.7109748721122742, 0.4540537893772125, 0.4529792070388794, 0.45260554552078247, 0.6716185212135315, 0.44619399309158325, 0.44214296340942383, 0.8490626811981201, 2.2599079608917236, 1.0928064584732056, 2.19575572013855, 0.6534403562545776, 1.6483500003814697, 1.305411696434021, 4.45721435546875, 7.548243045806885, 1.6353572607040405, 23.77263641357422, 3.283583879470825, 1.3905582427978516, 3.327345848083496, 4.751712799072266, 3.6729471683502197, 7.8639678955078125, 3.3325867652893066, 14.890666961669922, 7.1747283935546875, 7.00390100479126, 4.577619552612305, 1.9116963148117065, 5.767329216003418, 4.671201229095459, 5.740218639373779, 4.207493305206299, 5.655450344085693, 4.4516520500183105, 3.8910765647888184, 3.9156434535980225, 4.162327289581299, 4.119505882263184, 4.060041427612305, 2.7398126125335693, 2.4598615169525146, 2.7499263286590576, 3.4147002696990967, 2.9723010063171387, 3.2689919471740723, 3.3767952919006348, 3.430431842803955, 3.2132811546325684, 3.5369434356689453], \"Term\": [\"says\", \"taliban\", \"space\", \"australian\", \"india\", \"israeli\", \"palestinian\", \"report\", \"united_states\", \"australia\", \"government\", \"also\", \"new\", \"qantas\", \"said\", \"israel\", \"per_cent\", \"people\", \"power\", \"world_heritage\", \"test\", \"fire\", \"aircraft\", \"union\", \"indian\", \"president\", \"arafat\", \"hamas\", \"today\", \"cancer\", \"rodriguez\", \"freeman\", \"habeel\", \"rehman\", \"salaries\", \"mohamad\", \"fazalur\", \"peru\", \"immediate\", \"saa\", \"pesos\", \"checks\", \"pensions\", \"permanent\", \"argentine\", \"retirees\", \"convened\", \"facilitating\", \"chairmen\", \"adolfo\", \"composed\", \"elder\", \"loaded\", \"olympic\", \"olympics\", \"cathy\", \"alcohol\", \"forests\", \"elders\", \"luggage\", \"taliban\", \"federation\", \"pashtun\", \"pentagon\", \"bin_laden\", \"republic\", \"training\", \"surrender\", \"fireworks\", \"travelled\", \"asic\", \"aip\", \"corowa\", \"karzai\", \"argentina\", \"afghanistan\", \"pakistan\", \"agreement\", \"kandahar\", \"process\", \"laden\", \"said\", \"afghan\", \"leaders\", \"government\", \"leader\", \"says\", \"would\", \"people\", \"australian\", \"man\", \"opposition\", \"told\", \"country\", \"think\", \"also\", \"new\", \"one\", \"australia\", \"force\", \"could\", \"united_states\", \"police\", \"two\", \"killed\", \"four\", \"first\", \"day\", \"three\", \"selectors\", \"drug\", \"sway\", \"templeton\", \"replaces\", \"dismissing\", \"goshen\", \"outburst\", \"scg\", \"gestures\", \"crude\", \"campaigns\", \"franklin\", \"romaszko\", \"disgruntled\", \"preliminary\", \"dispatcher\", \"upside\", \"millwork\", \"factory\", \"chicago\", \"alarm\", \"tended\", \"shooting\", \"saadi\", \"eden\", \"extreme\", \"goalkicker\", \"raft\", \"bowler\", \"centrelink\", \"macgill\", \"jenin\", \"squad\", \"lockett\", \"spin\", \"tanks\", \"israeli\", \"palestinian\", \"west_bank\", \"official\", \"test\", \"israel\", \"company\", \"arafat\", \"hamas\", \"entitlements\", \"shot\", \"said\", \"south_africa\", \"pay\", \"police\", \"attack\", \"five\", \"match\", \"new_south\", \"two\", \"says\", \"one\", \"sydney\", \"told\", \"australian\", \"sharon\", \"wales\", \"union\", \"around\", \"military\", \"yesterday\", \"people\", \"today\", \"killed\", \"also\", \"australia\", \"would\", \"three\", \"still\", \"interrogated\", \"williams_says\", \"mcgauran\", \"megawati\", \"redmond\", \"reactor\", \"demonstrators\", \"malaysian\", \"morrow\", \"arabian\", \"context\", \"termination\", \"smuggling\", \"antibiotics\", \"transfer\", \"relatively\", \"ridiculous\", \"bacteria\", \"talked\", \"judgment\", \"campaigners\", \"obesity\", \"negligence\", \"custody\", \"woman\", \"february\", \"culpable\", \"provisional_liquidation\", \"summit\", \"imagine\", \"cover\", \"infected\", \"hewitt\", \"howard\", \"markets\", \"matter\", \"rafter\", \"staff\", \"governor_general\", \"appropriate\", \"economy\", \"australia\", \"said\", \"says\", \"hospital\", \"point\", \"federal\", \"department\", \"australian\", \"hollingworth\", \"still\", \"team\", \"could\", \"action\", \"two\", \"people\", \"since\", \"court\", \"well\", \"year_old\", \"one\", \"hours\", \"rate\", \"also\", \"would\", \"per_cent\", \"centre\", \"made\", \"told\", \"company\", \"today\", \"police\", \"united_states\", \"new\", \"government\", \"fire\", \"four\", \"products\", \"boje\", \"talk\", \"genetically\", \"modified\", \"hooke\", \"nicky\", \"grocery\", \"breathing\", \"krishna\", \"permission\", \"cutting\", \"ingredients\", \"retire\", \"relatives\", \"brands\", \"oxygen\", \"leads\", \"untrue\", \"amongst\", \"skepticism\", \"masts\", \"zinni\", \"hare\", \"cadibarra\", \"drip\", \"ausmaid\", \"rialto\", \"doctors\", \"honors\", \"benares\", \"ganges\", \"consumers\", \"attached\", \"ashes\", \"afroz\", \"asking\", \"technology\", \"forced\", \"phillips\", \"suharto\", \"violence\", \"said\", \"harrison\", \"australian\", \"region\", \"mission\", \"israeli\", \"head\", \"india\", \"would\", \"man\", \"one\", \"says\", \"united_states\", \"palestinian\", \"meeting\", \"get\", \"people\", \"australia\", \"first\", \"today\", \"sydney\", \"yesterday\", \"made\", \"government\", \"labor\", \"police\", \"killed\", \"day\", \"also\", \"could\", \"arafat\", \"told\", \"two\", \"three\", \"fire\", \"security\", \"world_heritage\", \"amalgamation\", \"logged\", \"bradstreet\", \"rainforest\", \"schneiders\", \"dempsey\", \"sales\", \"dun\", \"stone\", \"projects\", \"liberals\", \"muscle\", \"merger\", \"categorically\", \"groupings\", \"merging\", \"liberal\", \"ravenshoe\", \"brett\", \"rainforests\", \"pleaded\", \"wilderness\", \"wet\", \"jail_sentence\", \"applauded\", \"prosecuted\", \"drawing\", \"questioned\", \"tropics\", \"protected\", \"boxes\", \"sheikh\", \"projections\", \"cost\", \"trees\", \"argentina\", \"currency\", \"extra\", \"new\", \"coalition\", \"management\", \"fire\", \"survey\", \"militants\", \"president\", \"two\", \"says\", \"north\", \"parties\", \"first_test\", \"hamas\", \"said\", \"three\", \"far\", \"government\", \"national\", \"day\", \"palestinian\", \"force\", \"per_cent\", \"put\", \"afghanistan\", \"one\", \"south\", \"australia\", \"security\", \"around\", \"years\", \"first\", \"sydney\", \"police\", \"could\", \"time\", \"would\", \"people\", \"arafat\", \"israeli\", \"ticket\", \"gutnick\", \"mitsubishi\", \"quake\", \"richter\", \"burakin\", \"earthquake\", \"szondy\", \"maker\", \"knop\", \"lew\", \"club\", \"farina\", \"petrol\", \"hilton\", \"sleep\", \"measuring\", \"ballidu\", \"epicentre\", \"larger\", \"wheatbelt\", \"shook\", \"settle\", \"flower\", \"differences\", \"magna\", \"cherry\", \"overwhelmingly\", \"regardless\", \"demon\", \"gabriel\", \"lung\", \"haitian\", \"japanese\", \"cancer\", \"upgrade\", \"soccer\", \"emissions\", \"virus\", \"east_timor\", \"radio\", \"car\", \"shuttle\", \"assistance\", \"wants\", \"indian\", \"government\", \"says\", \"new\", \"per_cent\", \"attack\", \"members\", \"said\", \"first\", \"also\", \"centre\", \"would\", \"people\", \"station\", \"pakistan\", \"israeli\", \"another\", \"say\", \"australia\", \"palestinian\", \"groups\", \"president\", \"international\", \"israel\", \"official\", \"today\", \"australian\", \"force\", \"three\", \"two\", \"could\", \"security\", \"gambier\", \"lubbers\", \"farmers\", \"truss\", \"subsidies\", \"dixon\", \"legalistic\", \"immigrants\", \"rfds\", \"mistrust\", \"contributor\", \"ruud\", \"killmier\", \"geneva\", \"favours\", \"nurse\", \"alsosaid\", \"openly\", \"generous\", \"steep\", \"republics\", \"debated\", \"mount\", \"annually\", \"ceasefire\", \"intent\", \"ukraine\", \"paedophiles\", \"insecurity\", \"farm\", \"zimbabwe\", \"plant\", \"violent\", \"augusta\", \"hiv\", \"refugees\", \"crash\", \"union\", \"rejected\", \"changes\", \"wage_freeze\", \"aircraft\", \"qantas\", \"year_old\", \"struck\", \"power\", \"right\", \"today\", \"israel\", \"says\", \"australia\", \"offer\", \"one\", \"arafat\", \"unions\", \"world\", \"said\", \"area\", \"palestinian\", \"israeli\", \"four\", \"sydney\", \"tora_bora\", \"first\", \"australian\", \"three\", \"government\", \"two\", \"back\", \"killed\", \"people\", \"workers\", \"would\", \"day\", \"could\", \"south\", \"also\", \"space\", \"friedli\", \"replied\", \"preventable\", \"unforeseeable\", \"dying\", \"organised\", \"russian\", \"dan\", \"ineffective\", \"illegally\", \"deterring\", \"walz\", \"housed\", \"works\", \"cow\", \"objectives\", \"shuttle\", \"launch\", \"bursch\", \"endeavour\", \"ruddock\", \"airliners\", \"defense\", \"powell\", \"marines\", \"abandon\", \"nasa\", \"spacewalk\", \"crompton\", \"arrivals\", \"alei\", \"nautical\", \"earth\", \"station\", \"appeared\", \"astronauts\", \"detainees\", \"southern\", \"crew\", \"ground\", \"pacific\", \"yachts\", \"also\", \"metres\", \"says\", \"said\", \"three\", \"due\", \"overnight\", \"south\", \"people\", \"accused\", \"second\", \"one\", \"two\", \"say\", \"area\", \"killed\", \"afghanistan\", \"day\", \"melbourne\", \"taliban\", \"time\", \"first\", \"would\", \"could\", \"government\", \"four\", \"told\", \"still\", \"think\", \"arafat\", \"australia\", \"israeli\", \"casinos\", \"gambling\", \"gaming\", \"dfat\", \"mcmenamin\", \"sultan\", \"poker\", \"tables\", \"prostitutes\", \"tours\", \"levies\", \"taxes\", \"expense\", \"blue\", \"machines\", \"lawrence\", \"fares\", \"alp\", \"virgin\", \"generated\", \"promote\", \"governments\", \"child_sex\", \"compromised\", \"invisible\", \"encourage\", \"revamped\", \"psychological\", \"dropping\", \"obliterated\", \"growing\", \"arrive\", \"villawood\", \"senator_hill\", \"report\", \"chechen\", \"export\", \"launceston\", \"rabbani\", \"says\", \"transport\", \"terrorism\", \"found\", \"troops\", \"australian\", \"year\", \"also\", \"ansett\", \"aircraft\", \"said\", \"christmas\", \"last_year\", \"eight\", \"flight\", \"hospital\", \"prepared\", \"people\", \"children\", \"adelaide\", \"two\", \"could\", \"president\", \"one\", \"made\", \"australia\", \"man\", \"well\", \"three\", \"government\", \"security\", \"say\", \"arafat\", \"first\", \"india\", \"afghanistan\", \"company\", \"would\", \"told\", \"missile\", \"hijackings\", \"truckloads\", \"hoax\", \"blocking\", \"bombarding\", \"intensified\", \"climax\", \"suggesting\", \"annan\", \"advani\", \"pledging\", \"participant\", \"tech\", \"conspiracy\", \"retooled\", \"nobel\", \"dramatically\", \"essential\", \"prize\", \"background\", \"suspicion\", \"confessed\", \"lessons\", \"ghana\", \"kofi\", \"psychiatrists\", \"fanned\", \"accepted\", \"oslo\", \"musical\", \"downer\", \"moussaoui\", \"nauru\", \"escaping\", \"ice\", \"yallourn\", \"india\", \"united_states\", \"protect\", \"says\", \"best\", \"created\", \"arrested\", \"think\", \"power\", \"people\", \"know\", \"said\", \"australian\", \"australia\", \"still\", \"surrender\", \"government\", \"told\", \"two\", \"company\", \"one\", \"today\", \"fire\", \"around\", \"police\", \"afghanistan\", \"first\", \"including\", \"trying\", \"month\", \"say\", \"well\", \"time\", \"day\", \"new\", \"man\", \"also\"], \"Total\": [335.0, 43.0, 11.0, 119.0, 27.0, 67.0, 67.0, 32.0, 57.0, 115.0, 95.0, 91.0, 72.0, 30.0, 391.0, 44.0, 41.0, 108.0, 29.0, 5.0, 34.0, 48.0, 15.0, 29.0, 23.0, 42.0, 58.0, 36.0, 63.0, 11.0, 2.9913978576660156, 2.9871747493743896, 3.9671123027801514, 3.954360008239746, 3.7709403038024902, 3.901416063308716, 2.890167236328125, 3.7348053455352783, 2.8146493434906006, 3.8423633575439453, 1.8972606658935547, 1.8972069025039673, 1.8972022533416748, 1.8970524072647095, 1.8970237970352173, 1.8969995975494385, 1.8969799280166626, 1.8968489170074463, 1.8966995477676392, 1.8965256214141846, 1.8960392475128174, 2.8183059692382812, 2.7945804595947266, 1.8945379257202148, 1.894384503364563, 1.894126057624817, 3.7513208389282227, 3.7340750694274902, 6.673336505889893, 2.7803304195404053, 43.998626708984375, 4.730294227600098, 4.875611305236816, 21.073537826538086, 34.500572204589844, 5.54756498336792, 18.480850219726562, 11.212691307067871, 4.567669868469238, 5.343495845794678, 7.191677570343018, 4.604955673217773, 3.768091917037964, 11.093148231506348, 11.794488906860352, 67.9922866821289, 39.8397331237793, 23.130504608154297, 19.8847713470459, 22.22015953063965, 24.158004760742188, 391.2632141113281, 31.52299690246582, 24.125242233276367, 95.18248748779297, 21.66551971435547, 335.66522216796875, 85.53904724121094, 108.63215637207031, 119.34968566894531, 54.242008209228516, 21.130035400390625, 64.68268585205078, 18.091386795043945, 43.76508331298828, 91.88826751708984, 72.17305755615234, 101.19676971435547, 115.66448974609375, 43.63358688354492, 65.21228790283203, 57.775455474853516, 65.51909637451172, 99.67998504638672, 52.814449310302734, 53.41447830200195, 73.30345153808594, 59.4179573059082, 67.5343246459961, 4.69563627243042, 6.302323341369629, 2.7639012336730957, 3.689575672149658, 2.7410106658935547, 1.8232908248901367, 5.506381034851074, 1.8226044178009033, 2.741424083709717, 1.8217568397521973, 1.820318341255188, 2.6745595932006836, 3.5606629848480225, 2.6805195808410645, 1.791794776916504, 1.7862248420715332, 1.785567045211792, 2.646793842315674, 2.697197437286377, 7.215595722198486, 1.776648998260498, 2.639698028564453, 1.7534935474395752, 4.599812030792236, 3.498656988143921, 2.5871636867523193, 1.7679226398468018, 1.7859346866607666, 2.6204240322113037, 7.913384437561035, 5.822916030883789, 8.914562225341797, 8.615466117858887, 6.188260078430176, 8.383491516113281, 3.6941683292388916, 9.9380521774292, 67.24568176269531, 67.81389617919922, 26.748779296875, 24.459213256835938, 34.52031326293945, 44.89060592651367, 55.67074966430664, 58.70592498779297, 36.13124465942383, 8.708212852478027, 14.029253959655762, 391.2632141113281, 25.084598541259766, 24.062644958496094, 65.51909637451172, 37.81800842285156, 38.670772552490234, 29.34513282775879, 34.796363830566406, 99.67998504638672, 335.66522216796875, 101.19676971435547, 46.995628356933594, 64.68268585205078, 119.34968566894531, 25.739707946777344, 34.277469635009766, 29.802892684936523, 50.628509521484375, 36.7087516784668, 41.86396789550781, 108.63215637207031, 63.29407501220703, 52.814449310302734, 91.88826751708984, 115.66448974609375, 85.53904724121094, 67.5343246459961, 54.421592712402344, 2.6540603637695312, 2.5941083431243896, 2.603731632232666, 3.462975263595581, 4.346550464630127, 2.5916576385498047, 2.590010166168213, 2.5485918521881104, 2.5752406120300293, 1.728271484375, 1.729052186012268, 3.5095162391662598, 2.5753982067108154, 2.5371410846710205, 3.3497164249420166, 4.44130802154541, 1.7363004684448242, 4.159426212310791, 1.736757516860962, 1.7402327060699463, 1.741025686264038, 3.306122303009033, 2.611144781112671, 5.9159393310546875, 6.062290191650391, 4.210524082183838, 2.5914194583892822, 7.066798686981201, 5.91977071762085, 3.4010732173919678, 3.553163528442383, 4.9737067222595215, 10.757142066955566, 10.9677095413208, 6.984448432922363, 13.048019409179688, 9.426922798156738, 32.812164306640625, 14.899518966674805, 5.179741859436035, 24.988832473754883, 115.66448974609375, 391.2632141113281, 335.66522216796875, 24.004627227783203, 14.344482421875, 30.441225051879883, 15.446584701538086, 119.34968566894531, 15.5178804397583, 54.421592712402344, 31.674129486083984, 65.21228790283203, 28.170072555541992, 99.67998504638672, 108.63215637207031, 33.80108642578125, 22.695758819580078, 36.84178161621094, 39.48051452636719, 101.19676971435547, 34.77878189086914, 16.760717391967773, 91.88826751708984, 85.53904724121094, 41.604393005371094, 34.15085220336914, 40.405914306640625, 64.68268585205078, 55.67074966430664, 63.29407501220703, 65.51909637451172, 57.775455474853516, 72.17305755615234, 95.18248748779297, 48.85979461669922, 53.41447830200195, 5.495141983032227, 4.0111918449401855, 2.3193233013153076, 3.1384756565093994, 2.378051519393921, 2.3821167945861816, 2.4149720668792725, 2.3881266117095947, 3.1722898483276367, 6.453251361846924, 2.3159303665161133, 1.581533670425415, 1.5837228298187256, 2.3079028129577637, 2.3761935234069824, 1.5864388942718506, 2.3702144622802734, 1.5678775310516357, 1.562190055847168, 1.562190294265747, 1.561962366104126, 1.5677255392074585, 9.536293029785156, 4.94022274017334, 1.5684772729873657, 2.364088773727417, 1.5665136575698853, 1.5613863468170166, 4.652097225189209, 1.567348599433899, 4.91632604598999, 4.1435651779174805, 4.6906232833862305, 2.399447441101074, 4.968647003173828, 5.367167949676514, 3.9666905403137207, 7.2211503982543945, 12.959115028381348, 4.80722188949585, 8.409008979797363, 17.665739059448242, 391.2632141113281, 10.286140441894531, 119.34968566894531, 16.560203552246094, 11.847004890441895, 67.24568176269531, 17.242279052734375, 27.413555145263672, 85.53904724121094, 54.242008209228516, 101.19676971435547, 335.66522216796875, 57.775455474853516, 67.81389617919922, 41.09897232055664, 31.985809326171875, 108.63215637207031, 115.66448974609375, 73.30345153808594, 63.29407501220703, 46.995628356933594, 41.86396789550781, 40.405914306640625, 95.18248748779297, 20.976242065429688, 65.51909637451172, 52.814449310302734, 59.4179573059082, 91.88826751708984, 65.21228790283203, 58.70592498779297, 64.68268585205078, 99.67998504638672, 67.5343246459961, 48.85979461669922, 52.68521499633789, 5.659829139709473, 2.4410288333892822, 2.4274253845214844, 2.425123929977417, 2.416025400161743, 2.4147567749023438, 2.413173198699951, 2.4128527641296387, 2.4096896648406982, 2.405970335006714, 5.527381420135498, 1.6220885515213013, 1.6219664812088013, 1.6219273805618286, 1.6218489408493042, 1.6218199729919434, 1.621661901473999, 1.6216297149658203, 1.613124966621399, 1.6120786666870117, 1.6115293502807617, 1.6113609075546265, 1.6110564470291138, 1.610052227973938, 1.610161542892456, 1.6101748943328857, 1.6095771789550781, 1.608595848083496, 1.6114557981491089, 1.6076263189315796, 3.2343709468841553, 2.362785816192627, 5.6213483810424805, 3.3356688022613525, 8.7457914352417, 10.518181800842285, 11.794488906860352, 3.4103167057037354, 3.855783224105835, 72.17305755615234, 7.283874034881592, 10.524290084838867, 48.85979461669922, 8.140498161315918, 25.0538387298584, 42.240028381347656, 99.67998504638672, 335.66522216796875, 31.949548721313477, 10.074812889099121, 11.575860023498535, 36.13124465942383, 391.2632141113281, 67.5343246459961, 17.418481826782227, 95.18248748779297, 35.81474304199219, 59.4179573059082, 67.81389617919922, 43.63358688354492, 41.604393005371094, 25.922998428344727, 67.9922866821289, 101.19676971435547, 37.65343475341797, 115.66448974609375, 52.68521499633789, 50.628509521484375, 25.8730525970459, 73.30345153808594, 46.995628356933594, 65.51909637451172, 65.21228790283203, 50.64336395263672, 85.53904724121094, 108.63215637207031, 58.70592498779297, 67.24568176269531, 3.584725856781006, 3.584987163543701, 2.8890278339385986, 2.1937453746795654, 2.1936087608337402, 2.1931188106536865, 2.192948579788208, 2.193848133087158, 2.1942288875579834, 3.84686017036438, 2.93580961227417, 6.270615577697754, 3.903998613357544, 5.169910907745361, 2.3208653926849365, 1.4983413219451904, 1.4983125925064087, 1.4982590675354004, 1.4982362985610962, 1.4982013702392578, 1.4981869459152222, 1.4979807138442993, 1.4985826015472412, 1.498308777809143, 1.4983199834823608, 1.4983385801315308, 1.4984130859375, 1.4984272718429565, 1.4982450008392334, 1.4983488321304321, 3.0898284912109375, 5.91202449798584, 3.007744312286377, 5.231597900390625, 11.368221282958984, 2.2662875652313232, 3.805197238922119, 2.9783432483673096, 8.531519889831543, 10.753569602966309, 21.237628936767578, 8.735323905944824, 6.421049118041992, 7.914116859436035, 11.93835163116455, 23.754758834838867, 95.18248748779297, 335.66522216796875, 72.17305755615234, 41.604393005371094, 37.81800842285156, 30.73801040649414, 391.2632141113281, 73.30345153808594, 91.88826751708984, 34.15085220336914, 85.53904724121094, 108.63215637207031, 14.241971969604492, 39.8397331237793, 67.24568176269531, 32.708740234375, 54.26847457885742, 115.66448974609375, 67.81389617919922, 23.613964080810547, 42.240028381347656, 38.61717987060547, 44.89060592651367, 24.459213256835938, 63.29407501220703, 119.34968566894531, 43.63358688354492, 67.5343246459961, 99.67998504638672, 65.21228790283203, 52.68521499633789, 4.398063659667969, 2.1979262828826904, 5.257989406585693, 3.7677667140960693, 2.274052143096924, 3.7671585083007812, 1.5008035898208618, 1.500916600227356, 3.019105911254883, 1.5008835792541504, 1.5003833770751953, 1.501178503036499, 2.2233898639678955, 1.5007238388061523, 1.5006622076034546, 2.2251551151275635, 1.500598669052124, 1.5007071495056152, 3.977870464324951, 1.5386676788330078, 1.5451054573059082, 1.5347719192504883, 2.995819330215454, 1.552239179611206, 2.2555718421936035, 1.5375339984893799, 1.5594236850738525, 3.021918773651123, 1.5529043674468994, 4.697146892547607, 7.950275421142578, 2.8095152378082275, 4.52234411239624, 3.0021016597747803, 4.984948635101318, 6.374307632446289, 10.4730806350708, 29.802892684936523, 10.439033508300781, 9.4545259475708, 7.896722793579102, 15.607149124145508, 30.382659912109375, 39.48051452636719, 8.857569694519043, 29.20121955871582, 14.188786506652832, 63.29407501220703, 44.89060592651367, 335.66522216796875, 115.66448974609375, 16.49036979675293, 101.19676971435547, 58.70592498779297, 25.25069236755371, 45.7296028137207, 391.2632141113281, 35.28673553466797, 67.81389617919922, 67.24568176269531, 53.41447830200195, 46.995628356933594, 25.803512573242188, 73.30345153808594, 119.34968566894531, 67.5343246459961, 95.18248748779297, 99.67998504638672, 40.22589111328125, 52.814449310302734, 108.63215637207031, 28.783008575439453, 85.53904724121094, 59.4179573059082, 65.21228790283203, 37.65343475341797, 91.88826751708984, 11.40453052520752, 5.658098220825195, 4.232714653015137, 2.154597520828247, 2.138702630996704, 2.953746795654297, 2.1303348541259766, 7.237754821777344, 2.211735963821411, 1.4814319610595703, 1.4809529781341553, 1.4762672185897827, 2.2130370140075684, 1.4749037027359009, 1.4743210077285767, 3.509199380874634, 1.5361089706420898, 6.421049118041992, 4.341516494750977, 2.2118232250213623, 7.21851110458374, 4.214040279388428, 1.5072405338287354, 1.5439783334732056, 8.576859474182129, 4.6885085105896, 1.465867042541504, 2.2107882499694824, 1.506517767906189, 2.290813684463501, 2.994544744491577, 3.05989146232605, 3.2847776412963867, 3.084684133529663, 14.241971969604492, 8.688002586364746, 2.9176852703094482, 19.208589553833008, 16.988258361816406, 10.675480842590332, 11.116713523864746, 8.84480094909668, 6.557329177856445, 91.88826751708984, 23.209531784057617, 335.66522216796875, 391.2632141113281, 67.5343246459961, 14.520423889160156, 20.141345977783203, 37.65343475341797, 108.63215637207031, 18.493541717529297, 31.54621124267578, 101.19676971435547, 99.67998504638672, 54.26847457885742, 35.28673553466797, 52.814449310302734, 67.9922866821289, 59.4179573059082, 28.419321060180664, 43.998626708984375, 50.64336395263672, 73.30345153808594, 85.53904724121094, 65.21228790283203, 95.18248748779297, 53.41447830200195, 64.68268585205078, 54.421592712402344, 43.76508331298828, 58.70592498779297, 115.66448974609375, 67.24568176269531, 3.5371103286743164, 2.1939449310302734, 2.176267147064209, 3.0331385135650635, 3.960972309112549, 4.586913585662842, 1.4925808906555176, 1.492164134979248, 2.3822598457336426, 2.3642451763153076, 1.4902313947677612, 1.489828109741211, 1.4892297983169556, 4.609522819519043, 1.4869065284729004, 2.2094645500183105, 2.2431259155273438, 2.2090206146240234, 6.128426551818848, 1.4748955965042114, 1.5625675916671753, 2.2717807292938232, 5.539466857910156, 1.5106103420257568, 1.5628132820129395, 2.2016799449920654, 1.5379163026809692, 2.3743369579315186, 2.3612892627716064, 1.5034607648849487, 5.475032806396484, 2.1700315475463867, 3.1062748432159424, 8.253457069396973, 32.57866668701172, 3.7022671699523926, 3.1308560371398926, 4.587259292602539, 4.5882134437561035, 335.66522216796875, 5.221471786499023, 22.73918914794922, 23.718521118164062, 23.676206588745117, 119.34968566894531, 38.958805084228516, 91.88826751708984, 10.426214218139648, 15.607149124145508, 391.2632141113281, 24.9466552734375, 20.68405532836914, 29.055818557739258, 13.519461631774902, 24.004627227783203, 11.087407112121582, 108.63215637207031, 25.399736404418945, 21.63813018798828, 99.67998504638672, 65.21228790283203, 42.240028381347656, 101.19676971435547, 40.405914306640625, 115.66448974609375, 54.242008209228516, 36.84178161621094, 67.5343246459961, 95.18248748779297, 52.68521499633789, 54.26847457885742, 58.70592498779297, 73.30345153808594, 27.413555145263672, 67.9922866821289, 55.67074966430664, 85.53904724121094, 64.68268585205078, 2.1332993507385254, 2.138387680053711, 1.3819527626037598, 2.044665813446045, 1.3829768896102905, 1.3831210136413574, 1.384657382965088, 1.3846105337142944, 1.3856236934661865, 2.0716636180877686, 2.795217514038086, 1.4531598091125488, 1.4682114124298096, 1.4749082326889038, 1.477100133895874, 1.4778985977172852, 2.101172685623169, 1.489412546157837, 2.1579434871673584, 2.851787567138672, 1.4384760856628418, 1.4307714700698853, 2.811079502105713, 2.2280759811401367, 1.4340819120407104, 1.430964469909668, 1.4428493976593018, 2.1515052318573, 1.4432730674743652, 1.438405990600586, 2.8020052909851074, 7.987885475158691, 3.828789710998535, 8.403757095336914, 2.164875030517578, 6.978601455688477, 5.293476581573486, 27.413555145263672, 57.775455474853516, 7.313050746917725, 335.66522216796875, 19.974061965942383, 5.95068359375, 24.082275390625, 43.76508331298828, 29.20121955871582, 108.63215637207031, 28.22879981994629, 391.2632141113281, 119.34968566894531, 115.66448974609375, 54.421592712402344, 11.212691307067871, 95.18248748779297, 64.68268585205078, 99.67998504638672, 55.67074966430664, 101.19676971435547, 63.29407501220703, 48.85979461669922, 50.628509521484375, 65.51909637451172, 67.9922866821289, 73.30345153808594, 28.116159439086914, 21.48427963256836, 28.956863403320312, 54.26847457885742, 36.84178161621094, 50.64336395263672, 59.4179573059082, 72.17305755615234, 54.242008209228516, 91.88826751708984], \"loglift\": [30.0, 29.0, 28.0, 27.0, 26.0, 25.0, 24.0, 23.0, 22.0, 21.0, 20.0, 19.0, 18.0, 17.0, 16.0, 15.0, 14.0, 13.0, 12.0, 11.0, 10.0, 9.0, 8.0, 7.0, 6.0, 5.0, 4.0, 3.0, 2.0, 1.0, 1.4773000478744507, 1.4488999843597412, 1.4488999843597412, 1.440600037574768, 1.3828999996185303, 1.371000051498413, 1.3203999996185303, 1.305999994277954, 1.2954000234603882, 1.2906999588012695, 1.2861000299453735, 1.2861000299453735, 1.2860000133514404, 1.2860000133514404, 1.2860000133514404, 1.2860000133514404, 1.2860000133514404, 1.2858999967575073, 1.2858999967575073, 1.2857999801635742, 1.2856999635696411, 1.2655999660491943, 1.2551000118255615, 1.2537000179290771, 1.2488000392913818, 1.247499942779541, 1.2396999597549438, 1.2391999959945679, 1.2381000518798828, 1.2351000308990479, 1.1826000213623047, 1.2021000385284424, 1.1884000301361084, 1.054800033569336, 0.9951000213623047, 1.1668000221252441, 1.0046000480651855, 1.0614999532699585, 1.1770000457763672, 1.1424000263214111, 1.0960999727249146, 1.1516000032424927, 1.180999994277954, 1.00409996509552, 0.9882000088691711, 0.638700008392334, 0.7311999797821045, 0.8374000191688538, 0.8652999997138977, 0.8413000106811523, 0.822700023651123, 0.2054000049829483, 0.7365999817848206, 0.777899980545044, 0.40549999475479126, 0.7853999733924866, 0.011900000274181366, 0.3368000090122223, 0.22660000622272491, 0.1501999944448471, 0.41819998621940613, 0.7318999767303467, 0.2946999967098236, 0.7806000113487244, 0.4187999963760376, 0.1193000003695488, 0.19619999825954437, 0.038100000470876694, -0.07919999957084656, 0.35030001401901245, 0.12849999964237213, 0.17509999871253967, 0.08489999920129776, -0.1753000020980835, 0.19629999995231628, 0.18780000507831573, -0.05050000175833702, 0.0551999993622303, -0.15070000290870667, 1.6477999687194824, 1.579699993133545, 1.5572999715805054, 1.526900053024292, 1.507599949836731, 1.5017999410629272, 1.5013999938964844, 1.4996000528335571, 1.4962999820709229, 1.49590003490448, 1.4911999702453613, 1.4658000469207764, 1.4383000135421753, 1.4284000396728516, 1.3997000455856323, 1.394700050354004, 1.3722000122070312, 1.3675999641418457, 1.3638999462127686, 1.3604999780654907, 1.3431999683380127, 1.3407000303268433, 1.340399980545044, 1.3402999639511108, 1.3228000402450562, 1.3212000131607056, 1.3207000494003296, 1.3098000288009644, 1.3066999912261963, 1.2998000383377075, 1.292099952697754, 1.2785999774932861, 1.250599980354309, 1.2588000297546387, 1.232300043106079, 1.2819000482559204, 1.15339994430542, 0.8461999893188477, 0.7944999933242798, 0.9524000287055969, 0.9312999844551086, 0.8485999703407288, 0.758400022983551, 0.6866999864578247, 0.669700026512146, 0.7354000210762024, 1.0994000434875488, 0.9549999833106995, -0.020099999383091927, 0.7770000100135803, 0.7703999876976013, 0.4235999882221222, 0.5896000266075134, 0.5758000016212463, 0.6581000089645386, 0.5875999927520752, 0.17479999363422394, -0.36579999327659607, 0.10930000245571136, 0.4293000102043152, 0.24889999628067017, -0.07660000026226044, 0.6711000204086304, 0.5085999965667725, 0.5766000151634216, 0.27880001068115234, 0.4433000087738037, 0.352400004863739, -0.2371000051498413, 0.0957999974489212, 0.18979999423027039, -0.19290000200271606, -0.4018999934196472, -0.1979999989271164, -0.13899999856948853, 0.06769999861717224, 1.7014000415802002, 1.587499976158142, 1.5740000009536743, 1.5605000257492065, 1.5534000396728516, 1.5368000268936157, 1.5363999605178833, 1.489799976348877, 1.4896999597549438, 1.4871000051498413, 1.4781999588012695, 1.465999960899353, 1.4657000303268433, 1.460800051689148, 1.4486000537872314, 1.441499948501587, 1.4391000270843506, 1.438599944114685, 1.437600016593933, 1.4150999784469604, 1.4078999757766724, 1.402500033378601, 1.3904999494552612, 1.389299988746643, 1.3830000162124634, 1.382099986076355, 1.3732000589370728, 1.3569999933242798, 1.3509000539779663, 1.3478000164031982, 1.347499966621399, 1.3277000188827515, 1.242300033569336, 1.2252000570297241, 1.2461999654769897, 1.1469999551773071, 1.19159996509552, 0.9897000193595886, 1.0973999500274658, 1.285099983215332, 0.9639000296592712, 0.6000000238418579, 0.30709999799728394, 0.2223999947309494, 0.8711000084877014, 1.0041999816894531, 0.7268999814987183, 0.9394000172615051, 0.23489999771118164, 0.9226999878883362, 0.4706999957561493, 0.6534000039100647, 0.38179999589920044, 0.6888999938964844, 0.16300000250339508, 0.0617000013589859, 0.5565999746322632, 0.7275000214576721, 0.5087000131607056, 0.4494999945163727, -0.05460000038146973, 0.4830000102519989, 0.8583999872207642, -0.02710000053048134, 0.003599999938160181, 0.37610000371932983, 0.48260000348091125, 0.36730000376701355, 0.07100000232458115, 0.1356000006198883, 0.04280000180006027, 0.006200000178068876, 0.07930000126361847, -0.12020000070333481, -0.34060001373291016, 0.16179999709129333, 0.05689999833703041, 2.064500093460083, 1.9384000301361084, 1.805299997329712, 1.8000999689102173, 1.7996000051498413, 1.7831000089645386, 1.7639000415802002, 1.7589000463485718, 1.663699984550476, 1.6380000114440918, 1.6334999799728394, 1.6252000331878662, 1.61080002784729, 1.6031999588012695, 1.6014000177383423, 1.5913000106811523, 1.583799958229065, 1.5819000005722046, 1.579300045967102, 1.5758999586105347, 1.5750000476837158, 1.5734000205993652, 1.5710999965667725, 1.569599986076355, 1.565999984741211, 1.5650999546051025, 1.5633000135421753, 1.5633000135421753, 1.558500051498413, 1.5573999881744385, 1.555899977684021, 1.5508999824523926, 1.5187000036239624, 1.537500023841858, 1.4797999858856201, 1.4696999788284302, 1.4600000381469727, 1.3806999921798706, 1.2049000263214111, 1.3667999505996704, 1.239300012588501, 1.0657999515533447, 0.2451999932527542, 1.159999966621399, 0.4634000062942505, 1.001099944114685, 1.101099967956543, 0.4690000116825104, 0.9315000176429749, 0.7591999769210815, 0.32330000400543213, 0.45190000534057617, 0.1834000051021576, -0.3813999891281128, 0.38029998540878296, 0.29789999127388, 0.5117999911308289, 0.6244000196456909, 0.044599998742341995, -0.002099999925121665, 0.21140000224113464, 0.27970001101493835, 0.4194999933242798, 0.4699000120162964, 0.4810999929904938, 0.03480000048875809, 0.8108999729156494, 0.18539999425411224, 0.26460000872612, 0.1589999943971634, -0.13940000534057617, 0.06340000033378601, 0.1324000060558319, 0.03400000184774399, -0.29409998655319214, -0.013700000010430813, 0.20020000636577606, 0.12269999831914902, 2.1328001022338867, 1.9973000288009644, 1.9428999423980713, 1.9134000539779663, 1.8954999446868896, 1.8905999660491943, 1.882599949836731, 1.8530999422073364, 1.830299973487854, 1.8183000087738037, 1.8087999820709229, 1.759600043296814, 1.7595000267028809, 1.7595000267028809, 1.7594000101089478, 1.7594000101089478, 1.7594000101089478, 1.7592999935150146, 1.6902999877929688, 1.6821999549865723, 1.6765999794006348, 1.673699975013733, 1.6721999645233154, 1.6663999557495117, 1.666100025177002, 1.6648999452590942, 1.6598000526428223, 1.653499960899353, 1.6471999883651733, 1.6460000276565552, 1.5858999490737915, 1.6105999946594238, 1.5218000411987305, 1.5677000284194946, 1.3996000289916992, 1.2838000059127808, 1.2549999952316284, 1.5020999908447266, 1.469599962234497, 0.717199981212616, 1.291200041770935, 1.1829999685287476, 0.7124000191688538, 1.232699990272522, 0.8838000297546387, 0.7059999704360962, 0.421999990940094, -0.006200000178068876, 0.7538999915122986, 1.141700029373169, 1.0916999578475952, 0.6718000173568726, -0.23280000686645508, 0.40059998631477356, 0.9222999811172485, 0.2110999971628189, 0.6139000058174133, 0.37529999017715454, 0.29750001430511475, 0.48980000615119934, 0.5072000026702881, 0.7168999910354614, 0.2287999987602234, -0.005100000184029341, 0.4830999970436096, -0.12250000238418579, 0.29910001158714294, 0.30550000071525574, 0.6615999937057495, 0.05290000140666962, 0.28439998626708984, 0.040800001472234726, 0.030400000512599945, 0.16779999434947968, -0.23549999296665192, -0.48350000381469727, 0.032999999821186066, -0.09839999675750732, 2.1703999042510986, 2.1673998832702637, 2.099600076675415, 2.0023000240325928, 2.0023000240325928, 2.0020999908447266, 2.0020999908447266, 1.9931000471115112, 1.9875999689102173, 1.8858000040054321, 1.843500018119812, 1.8288999795913696, 1.819599986076355, 1.7755000591278076, 1.746000051498413, 1.736899971961975, 1.736899971961975, 1.736899971961975, 1.736899971961975, 1.736799955368042, 1.736799955368042, 1.7367000579833984, 1.7297999858856201, 1.7289999723434448, 1.7276999950408936, 1.7259999513626099, 1.7259999513626099, 1.7253999710083008, 1.7252999544143677, 1.7237999439239502, 1.704300045967102, 1.6640000343322754, 1.684399962425232, 1.6224000453948975, 1.5236999988555908, 1.6845999956130981, 1.611199975013733, 1.6339999437332153, 1.441499948501587, 1.399899959564209, 1.2422000169754028, 1.3650000095367432, 1.4016000032424927, 1.3384000062942505, 1.1928000450134277, 0.9724000096321106, 0.4586000144481659, 0.020099999383091927, 0.5062000155448914, 0.6945000290870667, 0.7067000269889832, 0.7867000102996826, -0.2612999975681305, 0.4050000011920929, 0.2646999955177307, 0.6933000087738037, 0.25110000371932983, 0.0957999974489212, 1.0872999429702759, 0.5385000109672546, 0.24629999697208405, 0.6337000131607056, 0.3312000036239624, -0.10429999977350235, 0.17900000512599945, 0.7714999914169312, 0.39820000529289246, 0.450300008058548, 0.3434999883174896, 0.7225000262260437, 0.0494999997317791, -0.4542999863624573, 0.28349998593330383, -0.05990000069141388, -0.38670000433921814, -0.1023000031709671, 0.06650000065565109, 2.0985000133514404, 2.080899953842163, 2.0657999515533447, 2.0244998931884766, 1.8932000398635864, 1.8932000398635864, 1.8359999656677246, 1.8236000537872314, 1.8235000371932983, 1.823099970817566, 1.8104000091552734, 1.809000015258789, 1.8085999488830566, 1.804800033569336, 1.8000999689102173, 1.7839000225067139, 1.7755999565124512, 1.771399974822998, 1.708400011062622, 1.705399990081787, 1.684999942779541, 1.684000015258789, 1.6816999912261963, 1.6569000482559204, 1.656499981880188, 1.6561000347137451, 1.6527999639511108, 1.6511000394821167, 1.6503000259399414, 1.6476999521255493, 1.6059999465942383, 1.621399998664856, 1.535599946975708, 1.5720000267028809, 1.483199954032898, 1.42739999294281, 1.3321000337600708, 1.0465999841690063, 1.2747000455856323, 1.2906999588012695, 1.3147000074386597, 1.0631999969482422, 0.8434000015258789, 0.7414000034332275, 1.2258000373840332, 0.8259999752044678, 1.062999963760376, 0.5371000170707703, 0.6471999883651733, -0.11919999867677689, 0.27379998564720154, 0.986299991607666, 0.2522999942302704, 0.4645000100135803, 0.8051999807357788, 0.5196999907493591, -0.4560999870300293, 0.613099992275238, 0.2703999876976013, 0.18279999494552612, 0.29319998621940613, 0.35249999165534973, 0.6883999705314636, 0.06939999759197235, -0.25429999828338623, 0.0957999974489212, -0.2150000035762787, -0.24809999763965607, 0.367000013589859, 0.15209999680519104, -0.4049000144004822, 0.5938000082969666, -0.29030001163482666, -0.004999999888241291, -0.08829999715089798, 0.35589998960494995, -0.5110999941825867, 1.968000054359436, 1.9429999589920044, 1.899999976158142, 1.8813999891281128, 1.7920000553131104, 1.7856999635696411, 1.7583999633789062, 1.7307000160217285, 1.7247999906539917, 1.718500018119812, 1.7163000106811523, 1.67739999294281, 1.6748000383377075, 1.666200041770935, 1.6612000465393066, 1.6511000394821167, 1.6413999795913696, 1.6390000581741333, 1.638700008392334, 1.6369999647140503, 1.6347999572753906, 1.6282999515533447, 1.6230000257492065, 1.6162999868392944, 1.607100009918213, 1.5880999565124512, 1.5860999822616577, 1.5592000484466553, 1.5561000108718872, 1.555299997329712, 1.5535999536514282, 1.5407999753952026, 1.5053000450134277, 1.500100016593933, 1.21589994430542, 1.2967000007629395, 1.5084999799728394, 1.0771000385284424, 1.0910999774932861, 1.1875, 1.1705000400543213, 1.2132999897003174, 1.2893999814987183, 0.43549999594688416, 0.8639000058174133, -0.03189999982714653, -0.08869999647140503, 0.48330000042915344, 0.9556999802589417, 0.8269000053405762, 0.5751000046730042, 0.12319999933242798, 0.8539999723434448, 0.6229000091552734, 0.05079999938607216, 0.05469999834895134, 0.34619998931884766, 0.5461000204086304, 0.3456000089645386, 0.18559999763965607, 0.23389999568462372, 0.6309000253677368, 0.3874000012874603, 0.3037000000476837, 0.09130000323057175, -0.14429999887943268, 0.03319999948143959, -0.22930000722408295, 0.14640000462532043, 0.0026000000070780516, 0.11240000277757645, 0.21080000698566437, -0.0575999990105629, -0.7056000232696533, -0.2190999984741211, 2.2683000564575195, 2.1833999156951904, 2.1168999671936035, 2.014400005340576, 1.9223999977111816, 1.8803999423980713, 1.8796000480651855, 1.878499984741211, 1.8700000047683716, 1.867900013923645, 1.8609000444412231, 1.8601000308990479, 1.8544000387191772, 1.8473999500274658, 1.8385000228881836, 1.7905000448226929, 1.770799994468689, 1.7670999765396118, 1.7448999881744385, 1.7431999444961548, 1.7081999778747559, 1.7021000385284424, 1.7020000219345093, 1.6964000463485718, 1.680999994277954, 1.6708999872207642, 1.6699999570846558, 1.6680999994277954, 1.6669000387191772, 1.6664999723434448, 1.6311999559402466, 1.6556999683380127, 1.636299967765808, 1.57669997215271, 1.2295000553131104, 1.568600058555603, 1.5886000394821167, 1.5077999830245972, 1.493399977684021, 0.3822999894618988, 1.4505000114440918, 0.9430000185966492, 0.9282000064849854, 0.9143000245094299, 0.3549000024795532, 0.6988000273704529, 0.38029998540878296, 1.1548000574111938, 1.0, -0.32330000400543213, 0.79830002784729, 0.8730999827384949, 0.7257000207901001, 1.0296000242233276, 0.7168999910354614, 1.083400011062622, -0.0357000008225441, 0.663100004196167, 0.7297000288963318, -0.08609999716281891, 0.1071000024676323, 0.3488999903202057, -0.19589999318122864, 0.33719998598098755, -0.37529999017715454, 0.10119999945163727, 0.3449000120162964, -0.0982000008225441, -0.36579999327659607, 0.06729999929666519, 0.01640000008046627, -0.04989999905228615, -0.25679999589920044, 0.5382999777793884, -0.2572000026702881, -0.0835999995470047, -0.508400022983551, -0.25459998846054077, 2.132699966430664, 2.124500036239624, 2.0754001140594482, 2.0685999393463135, 2.067199945449829, 2.064500093460083, 2.0504000186920166, 2.049499988555908, 2.043299913406372, 1.982200026512146, 1.9704999923706055, 1.9091999530792236, 1.868499994277954, 1.8494999408721924, 1.8437000513076782, 1.8417999744415283, 1.8207000494003296, 1.8082000017166138, 1.7863999605178833, 1.7791999578475952, 1.7695000171661377, 1.750599980354309, 1.746399998664856, 1.7378000020980835, 1.7300000190734863, 1.7297999858856201, 1.7207000255584717, 1.7158000469207764, 1.7062000036239624, 1.7003999948501587, 1.6861000061035156, 1.6174999475479126, 1.6262999773025513, 1.5378999710083008, 1.6821999549865723, 1.437000036239624, 1.4801000356674194, 1.063599944114685, 0.8447999954223633, 1.3823000192642212, 0.23250000178813934, 1.0745999813079834, 1.426300048828125, 0.9007999897003174, 0.6596999764442444, 0.8069000244140625, 0.25440001487731934, 0.7434999942779541, -0.3885999917984009, 0.06859999895095825, 0.07580000162124634, 0.40450000762939453, 1.1109999418258667, 0.07649999856948853, 0.25200000405311584, 0.025599999353289604, 0.29750001430511475, -0.004399999976158142, 0.22550000250339508, 0.3497999906539917, 0.320499986410141, 0.12380000203847885, 0.07639999687671661, -0.013299999758601189, 0.5515999794006348, 0.7128000259399414, 0.5257999897003174, 0.11420000344514847, 0.3628000020980835, 0.1396999955177307, 0.012400000356137753, -0.1662999987602234, 0.05389999970793724, -0.37720000743865967], \"logprob\": [30.0, 29.0, 28.0, 27.0, 26.0, 25.0, 24.0, 23.0, 22.0, 21.0, 20.0, 19.0, 18.0, 17.0, 16.0, 15.0, 14.0, 13.0, 12.0, 11.0, 10.0, 9.0, 8.0, 7.0, 6.0, 5.0, 4.0, 3.0, 2.0, 1.0, -7.804100036621094, -7.833799839019775, -7.55019998550415, -7.561600208282471, -7.666900157928467, -7.644800186157227, -7.9953999519348145, -7.753399848937988, -8.046899795532227, -7.740300178527832, -8.450599670410156, -8.450699806213379, -8.450699806213379, -8.450799942016602, -8.450799942016602, -8.450799942016602, -8.450900077819824, -8.451000213623047, -8.45110034942627, -8.451199531555176, -8.451600074768066, -8.075300216674805, -8.094300270080566, -8.48449993133545, -8.489399909973145, -8.490900039672852, -7.815299987792969, -7.820499897003174, -7.240900039672852, -8.119400024414062, -5.410399913787842, -7.620999813079834, -7.604499816894531, -6.2743000984191895, -5.841000080108643, -7.497000217437744, -6.455699920654297, -6.898600101470947, -7.681099891662598, -7.558800220489502, -7.30810022354126, -7.698400020599365, -7.869500160217285, -6.966700077056885, -6.921299934387207, -5.519000053405762, -5.961100101470947, -6.398600101470947, -6.521900177001953, -6.434800148010254, -6.369800090789795, -4.202300071716309, -6.189799785614014, -6.415900230407715, -5.415900230407715, -6.515999794006348, -4.549099922180176, -5.591300010681152, -5.462600231170654, -5.444900035858154, -5.965400218963623, -6.5945000648498535, -5.913000106811523, -6.701099872589111, -6.179500102996826, -5.737199783325195, -5.901899814605713, -5.72189998626709, -5.705599784851074, -6.250899791717529, -6.071000099182129, -6.145400047302246, -6.109899997711182, -5.950399875640869, -6.214000225067139, -6.211299896240234, -6.132999897003174, -6.237400054931641, -6.315199851989746, -7.182700157165527, -6.956500053405762, -7.803199768066406, -7.5447001457214355, -7.861199855804443, -8.2746000289917, -7.1697998046875, -8.277299880981445, -7.872300148010254, -8.281399726867676, -8.28689956665039, -7.927499771118164, -7.668799877166748, -7.962699890136719, -8.394200325012207, -8.402299880981445, -8.425100326538086, -8.036100387573242, -8.020999908447266, -7.04040002822876, -8.459199905395508, -8.065799713134766, -8.475099563598633, -7.510799884796143, -7.8018999099731445, -8.105299949645996, -8.486599922180176, -8.487299919128418, -8.107099533081055, -7.008699893951416, -7.323200225830078, -6.910799980163574, -6.9730000495910645, -7.295599937438965, -7.018599987030029, -7.788400173187256, -6.927299976348877, -5.322500228881836, -5.365799903869629, -6.138199806213379, -6.248799800872803, -5.986999988555908, -5.814499855041504, -5.671000003814697, -5.634799957275391, -6.054500102996826, -7.113399982452393, -6.780900001525879, -4.427800178527832, -6.377799987792969, -6.42609977722168, -5.771200180053711, -6.154799938201904, -6.146200180053711, -6.339900016784668, -6.239999771118164, -5.600299835205078, -4.926799774169922, -5.650700092315674, -6.097799777984619, -5.958700180053711, -5.6717000007629395, -6.458000183105469, -6.334000110626221, -6.405900001525879, -6.173799991607666, -6.3308000564575195, -6.290299892425537, -5.926199913024902, -6.133500099182129, -6.2204999923706055, -6.0493998527526855, -6.028299808502197, -6.126200199127197, -6.303500175476074, -6.312600135803223, -7.6996002197265625, -7.836299896240234, -7.846199989318848, -7.574399948120117, -7.354400157928467, -7.8881001472473145, -7.888999938964844, -7.951700210571289, -7.941500186920166, -8.342900276184082, -8.351300239562988, -7.655600070953369, -7.965400218963623, -7.985300064086914, -7.719699859619141, -7.4446001052856445, -8.386199951171875, -7.513199806213379, -8.387499809265137, -8.407999992370605, -8.41469955444336, -7.778800010681152, -8.026800155639648, -7.210100173950195, -7.191999912261963, -7.557400226593018, -8.0516996383667, -7.064700126647949, -7.247900009155273, -7.805200099945068, -7.76170015335083, -7.445300102233887, -6.759200096130371, -6.756999969482422, -7.187300205230713, -6.661399841308594, -6.94189977645874, -5.896599769592285, -6.578400135040283, -7.447199821472168, -6.194799900054932, -5.026400089263916, -4.100599765777588, -4.338600158691406, -6.327700138092041, -6.709499835968018, -6.234399795532227, -6.700300216674805, -5.360199928283691, -6.712399959564209, -5.909599781036377, -6.268199920654297, -5.817699909210205, -6.349899768829346, -5.612100124359131, -5.627399921417236, -6.300000190734863, -6.527400016784668, -6.2617998123168945, -6.251800060272217, -5.814599990844727, -6.345200061798096, -6.6996002197265625, -5.883600234985352, -5.924499988555908, -6.272799968719482, -6.363800048828125, -6.3109002113342285, -6.136600017547607, -6.2220001220703125, -6.186500072479248, -6.188600063323975, -6.241199970245361, -6.218299865722656, -6.161900043487549, -6.326399803161621, -6.342100143432617, -6.608799934387207, -7.049699783325195, -7.730599880218506, -7.433199882507324, -7.711299896240234, -7.726099967956543, -7.731599807739258, -7.747700214385986, -7.559000015258789, -6.874499797821045, -7.903800010681152, -8.293499946594238, -8.306500434875488, -7.9375, -7.910200119018555, -8.324399948120117, -7.930300235748291, -8.345499992370605, -8.351799964904785, -8.35509967803955, -8.356200218200684, -8.354100227355957, -6.550899982452393, -7.210100173950195, -8.361000061035156, -7.951600074768066, -8.364899635314941, -8.368300437927246, -7.281300067901611, -8.37030029296875, -7.228600025177002, -7.404600143432617, -7.31279993057251, -7.964399814605713, -7.2941999435424805, -7.227099895477295, -7.5391998291015625, -7.019400119781494, -6.610400199890137, -7.440199851989746, -7.008500099182129, -6.439700126647949, -4.162499904632568, -6.886300086975098, -5.1315999031066895, -6.568999767303467, -6.803899765014648, -5.69980001449585, -6.598199844360352, -6.30679988861084, -5.604800224304199, -5.931700229644775, -5.576700210571289, -4.942399978637695, -5.940299987792969, -5.862400054931641, -6.1493000984191895, -6.287399768829346, -5.644499778747559, -5.628499984741211, -5.871099948883057, -5.9496002197265625, -6.107600212097168, -6.172800064086914, -6.197000026702881, -5.786600112915039, -6.522799968719482, -6.009300231933594, -6.145699977874756, -6.133500099182129, -5.995999813079834, -6.136000156402588, -6.172100067138672, -6.173600196838379, -6.069300174713135, -6.178199768066406, -6.287899971008301, -6.29010009765625, -6.510900020599365, -7.487400054931641, -7.547399997711182, -7.5777997970581055, -7.5995001792907715, -7.604899883270264, -7.61359977722168, -7.643199920654297, -7.667300224304199, -7.6809000968933105, -6.85860013961792, -8.13379955291748, -8.133999824523926, -8.133999824523926, -8.134099960327148, -8.134099960327148, -8.134300231933594, -8.134300231933594, -8.208700180053711, -8.217399597167969, -8.223299980163574, -8.226300239562988, -8.227999687194824, -8.23449993133545, -8.234700202941895, -8.235899925231934, -8.241399765014648, -8.248299598693848, -8.252799987792969, -8.256400108337402, -7.617400169372559, -7.906700134277344, -7.128699779510498, -7.604800224304199, -6.808899879455566, -6.740200042724609, -6.654399871826172, -7.648200035095215, -7.558000087738037, -5.380799770355225, -7.100299835205078, -6.840400218963623, -5.7758002281188965, -7.047599792480469, -6.272200107574463, -5.927700042724609, -5.353099822998047, -4.567200183868408, -6.15910005569458, -6.9253997802734375, -6.83650016784668, -6.118199825286865, -4.640500068664551, -5.763899803161621, -6.597300052642822, -5.610199928283691, -6.184899806976318, -5.917200088500977, -5.862800121307373, -6.111499786376953, -6.14169979095459, -6.405099868774414, -5.928899765014648, -5.765100002288818, -6.265600204467773, -5.749000072479248, -6.113699913024902, -6.14709997177124, -6.462399959564209, -6.029699802398682, -6.242599964141846, -6.1539998054504395, -6.169099807739258, -6.2845001220703125, -6.163599967956543, -6.172699928283691, -6.271599769592285, -6.267199993133545, -6.930099964141846, -6.9328999519348145, -7.216599941253662, -7.589200019836426, -7.589300155639648, -7.589600086212158, -7.589799880981445, -7.598400115966797, -7.603700160980225, -7.144000053405762, -7.456600189208984, -6.712299823760986, -7.195499897003174, -6.958799839019775, -7.7891998291015625, -8.235799789428711, -8.235799789428711, -8.235899925231934, -8.235899925231934, -8.236000061035156, -8.236000061035156, -8.236300468444824, -8.242799758911133, -8.24370002746582, -8.244999885559082, -8.246700286865234, -8.246700286865234, -8.247300148010254, -8.2475004196167, -8.248900413513184, -7.5447001457214355, -6.936100006103516, -7.5914998054504395, -7.099999904632568, -6.422599792480469, -7.874300003051758, -7.429500102996826, -7.651800155639648, -6.791900157928467, -6.6020002365112305, -6.079100131988525, -6.844699859619141, -7.116000175476074, -6.970099925994873, -6.704599857330322, -6.2368998527526855, -5.362800121307373, -4.540900230407715, -5.591899871826172, -5.954400062561035, -6.037700176239014, -6.164899826049805, -4.669000148773193, -5.677499771118164, -5.591899871826172, -6.1529998779296875, -5.677000045776367, -5.593299865722656, -6.633600234985352, -6.153800010681152, -5.922500133514404, -6.255799770355225, -6.052000045776367, -5.7307000160217285, -5.981299877166748, -6.443699836730957, -6.235499858856201, -6.273200035095215, -6.229400157928467, -6.457600116729736, -6.179900169372559, -6.049300193786621, -6.317800045013428, -6.224400043487549, -6.161799907684326, -6.301700115203857, -6.34630012512207, -6.797500133514404, -7.508699893951416, -6.651599884033203, -7.026100158691406, -7.662399768829346, -7.157599925994873, -8.135100364685059, -8.14739990234375, -7.448699951171875, -8.147899627685547, -8.16100025177002, -8.16189956665039, -7.769499778747559, -8.166299819946289, -8.171099662780762, -7.793399810791016, -8.195599555969238, -8.199700355529785, -7.288000106811523, -8.240799903869629, -8.256999969482422, -8.264699935913086, -7.598199844360352, -8.280500411987305, -7.907199859619141, -8.290800094604492, -8.279999732971191, -7.620200157165527, -8.286700248718262, -7.182499885559082, -6.69789981842041, -7.722700119018555, -7.332499980926514, -7.7058000564575195, -7.287399768829346, -7.097400188446045, -6.696199893951416, -5.9359002113342285, -6.756899833679199, -6.839900016784668, -6.995999813079834, -6.566199779510498, -6.119800090789795, -5.95989990234375, -6.970099925994873, -6.1768999099731445, -6.661600112915039, -5.692299842834473, -5.9257001876831055, -4.680200099945068, -5.352700233459473, -6.588099956512451, -5.507699966430664, -5.840099811553955, -6.343100070953369, -6.0346999168396, -4.863800048828125, -6.200500011444092, -5.889900207519531, -5.985899925231934, -6.105800151824951, -6.174600124359131, -6.438199996948242, -6.0131001472473145, -5.849299907684326, -6.068699836730957, -6.036300182342529, -6.0233001708984375, -6.3155999183654785, -6.258200168609619, -6.094099998474121, -6.423500061035156, -6.218500137329102, -6.297500133514404, -6.287700176239014, -6.3927998542785645, -6.367599964141846, -5.975100040435791, -6.701099872589111, -7.034299850463867, -7.728099822998047, -7.824900150299072, -7.508299827575684, -7.862400054931641, -6.667099952697754, -7.85860013961792, -8.265600204467773, -8.268099784851074, -8.310199737548828, -7.907899856567383, -8.32229995727539, -8.327699661254883, -7.470600128173828, -8.306500434875488, -6.878499984741211, -7.270199775695801, -7.946300029754639, -6.765600204467773, -7.310400009155273, -8.343799591064453, -8.326499938964844, -6.620999813079834, -7.243899822235107, -8.408599853515625, -8.024499893188477, -8.411299705505371, -7.9928998947143555, -7.7266998291015625, -7.717899799346924, -7.682499885559082, -7.750500202178955, -6.505000114440918, -6.918499946594238, -7.797900199890137, -6.344600200653076, -6.453499794006348, -6.821700096130371, -6.7982001304626465, -6.984000205993652, -7.207099914550781, -5.421000003814697, -6.368599891662598, -4.592899799346924, -4.496500015258789, -5.681099891662598, -6.745800018310547, -6.547399997711182, -6.173600196838379, -5.565999984741211, -6.6057000160217285, -6.302700042724609, -5.709199905395508, -5.720399856567383, -6.0370001792907715, -6.267499923706055, -6.064799785614014, -5.972099781036377, -6.058700084686279, -6.399199962615967, -6.205599784851074, -6.148600101470947, -5.991199970245361, -6.072400093078613, -6.166299819946289, -6.050600051879883, -6.252600193023682, -6.205100059509277, -6.267899990081787, -6.387499809265137, -6.362199783325195, -6.331999778747559, -6.387899875640869, -6.8454999923706055, -7.4079999923706055, -7.482600212097168, -7.2530999183654785, -7.078199863433838, -6.973499774932861, -8.097000122070312, -8.098400115966797, -7.639100074768066, -7.64870023727417, -8.117300033569336, -8.118300437927246, -8.12440013885498, -7.0015997886657715, -8.141900062561035, -7.793900012969971, -7.798399925231934, -7.817399978637695, -6.819200038909912, -8.24530029296875, -8.222599983215332, -7.854400157928467, -6.963200092315674, -8.268199920654297, -8.249699592590332, -7.916999816894531, -8.276700019836426, -7.844299793243408, -7.85099983215332, -8.302800178527832, -7.0457000732421875, -7.946599960327148, -7.607399940490723, -6.689799785614014, -5.664000034332275, -7.499499797821045, -7.647200107574463, -7.3460001945495605, -7.360199928283691, -4.178699970245361, -7.273900032043457, -6.309999942779541, -6.282700061798096, -6.298399925231934, -5.240200042724609, -6.0157999992370605, -5.476200103759766, -6.877999782562256, -6.629300117492676, -4.730999946594238, -6.361999988555908, -6.474599838256836, -6.282199859619141, -6.7434000968933105, -6.48199987411499, -6.887899875640869, -5.724899768829346, -6.479300022125244, -6.57289981842041, -5.861299991607666, -6.092400074005127, -6.284900188446045, -5.955900192260742, -6.341000080108643, -6.001699924468994, -6.28249979019165, -6.425600051879883, -6.262700080871582, -6.187099933624268, -6.3454999923706055, -6.366700172424316, -6.354499816894531, -6.339300155639648, -6.527699947357178, -6.414899826049805, -6.441299915313721, -6.436500072479248, -6.462299823760986, -7.486700057983398, -7.492599964141846, -7.978300094604492, -7.593299865722656, -7.9857001304626465, -7.98829984664917, -8.001199722290039, -8.00220012664795, -8.007599830627441, -7.666600227355957, -7.378699779510498, -8.094200134277344, -8.124600410461426, -8.138999938964844, -8.14330005645752, -8.144700050354004, -7.813899993896484, -8.170599937438965, -7.821499824523926, -7.550000190734863, -8.244099617004395, -8.26830005645752, -7.597099781036377, -7.838200092315674, -8.286600112915039, -8.288999557495117, -8.289799690246582, -7.895100116729736, -8.303999900817871, -8.313199996948242, -7.660699844360352, -6.681700229644775, -7.408299922943115, -6.7104997634887695, -7.922500133514404, -6.997300148010254, -7.230500221252441, -6.002500057220459, -5.4756999015808105, -7.005199909210205, -4.328499794006348, -6.30810022354126, -7.167300224304199, -6.294899940490723, -5.938499927520752, -6.196000099182129, -5.434800148010254, -6.293300151824951, -4.796299934387207, -5.526500225067139, -5.550600051879883, -5.975900173187256, -6.849100112915039, -5.744800090789795, -5.955599784851074, -5.749499797821045, -6.060200214385986, -5.764400005340576, -6.003799915313721, -6.138400077819824, -6.1321001052856445, -6.071000099182129, -6.081299781799316, -6.095799922943115, -6.489200115203857, -6.59689998626709, -6.485499858856201, -6.269000053405762, -6.407700061798096, -6.312600135803223, -6.280099868774414, -6.264400005340576, -6.329800128936768, -6.233799934387207]}, \"token.table\": {\"Topic\": [8, 1, 2, 3, 4, 5, 6, 7, 8, 9, 10, 1, 2, 3, 4, 5, 6, 7, 8, 9, 10, 1, 2, 3, 4, 5, 6, 7, 8, 9, 10, 1, 4, 10, 1, 2, 3, 4, 5, 6, 7, 8, 9, 10, 1, 2, 3, 4, 5, 6, 7, 8, 9, 10, 2, 3, 4, 10, 1, 2, 3, 4, 5, 6, 7, 8, 9, 10, 1, 8, 1, 3, 4, 5, 6, 7, 9, 10, 8, 2, 8, 1, 4, 5, 8, 9, 1, 2, 3, 4, 5, 6, 7, 8, 9, 10, 7, 5, 4, 10, 7, 1, 2, 3, 4, 5, 6, 7, 8, 9, 10, 1, 2, 4, 6, 8, 9, 10, 3, 1, 2, 3, 4, 6, 8, 5, 3, 5, 3, 1, 2, 3, 4, 5, 6, 7, 8, 9, 10, 1, 2, 3, 4, 5, 6, 7, 8, 9, 10, 1, 5, 6, 1, 1, 2, 3, 4, 5, 6, 7, 8, 9, 10, 1, 2, 3, 4, 5, 6, 7, 8, 9, 10, 8, 9, 10, 2, 4, 6, 1, 3, 4, 9, 2, 4, 1, 2, 3, 5, 6, 8, 9, 6, 8, 4, 1, 2, 3, 4, 5, 6, 7, 8, 9, 10, 6, 7, 4, 1, 2, 3, 4, 5, 6, 7, 8, 9, 10, 1, 2, 3, 4, 5, 6, 7, 8, 9, 10, 1, 2, 3, 4, 5, 6, 7, 8, 9, 10, 3, 9, 6, 2, 4, 6, 1, 2, 3, 4, 5, 6, 7, 8, 9, 10, 1, 2, 3, 4, 5, 6, 7, 8, 9, 10, 10, 2, 9, 2, 4, 10, 2, 4, 5, 7, 5, 5, 4, 3, 4, 5, 6, 8, 4, 3, 2, 1, 3, 4, 6, 9, 1, 2, 3, 5, 6, 9, 10, 5, 1, 6, 7, 1, 2, 3, 4, 5, 6, 7, 8, 9, 10, 1, 2, 3, 1, 1, 3, 4, 6, 7, 9, 4, 8, 9, 1, 6, 2, 1, 8, 9, 1, 2, 3, 4, 5, 6, 7, 8, 9, 10, 1, 2, 3, 4, 5, 6, 7, 9, 10, 10, 2, 6, 1, 3, 5, 8, 9, 1, 2, 3, 4, 5, 6, 7, 8, 9, 10, 1, 9, 4, 10, 10, 1, 3, 4, 6, 3, 7, 1, 1, 4, 1, 3, 5, 6, 9, 1, 2, 3, 4, 5, 6, 7, 8, 9, 10, 1, 2, 3, 4, 5, 6, 7, 8, 10, 1, 2, 3, 4, 5, 6, 7, 8, 9, 10, 2, 3, 8, 10, 1, 3, 5, 7, 8, 9, 10, 1, 3, 4, 5, 7, 10, 1, 2, 4, 5, 6, 7, 8, 9, 8, 2, 3, 1, 5, 1, 3, 9, 4, 8, 1, 2, 3, 4, 5, 6, 7, 8, 9, 10, 7, 8, 6, 3, 5, 1, 2, 3, 4, 5, 6, 8, 9, 10, 1, 3, 4, 5, 6, 7, 8, 9, 10, 8, 9, 6, 2, 2, 2, 5, 7, 3, 4, 1, 4, 5, 7, 10, 10, 5, 4, 9, 2, 7, 1, 2, 3, 4, 5, 6, 7, 8, 9, 10, 5, 8, 1, 6, 8, 6, 2, 3, 4, 6, 8, 10, 1, 2, 3, 4, 5, 6, 7, 8, 9, 2, 8, 1, 2, 3, 4, 5, 6, 7, 8, 9, 10, 1, 1, 2, 5, 5, 6, 9, 4, 6, 8, 9, 1, 2, 3, 4, 9, 10, 6, 10, 10, 9, 3, 9, 5, 6, 2, 1, 2, 3, 4, 10, 1, 2, 3, 4, 5, 6, 7, 8, 9, 10, 9, 1, 6, 3, 4, 7, 3, 7, 7, 1, 3, 4, 1, 2, 3, 4, 5, 6, 7, 8, 9, 10, 1, 4, 5, 1, 2, 3, 4, 5, 6, 7, 8, 9, 10, 1, 7, 1, 2, 3, 4, 5, 6, 7, 8, 9, 10, 1, 2, 3, 5, 6, 7, 8, 9, 1, 2, 3, 4, 5, 6, 7, 8, 9, 10, 1, 2, 3, 4, 5, 8, 9, 10, 6, 1, 2, 3, 4, 5, 6, 7, 8, 9, 10, 2, 3, 4, 5, 6, 7, 8, 10, 1, 1, 2, 3, 4, 5, 6, 7, 8, 9, 10, 1, 2, 3, 4, 5, 6, 7, 8, 9, 10, 2, 8, 1, 8, 10, 3, 6, 5, 7, 9, 9, 2, 4, 9, 2, 3, 7, 4, 7, 2, 1, 2, 3, 4, 5, 6, 7, 8, 9, 10, 2, 2, 3, 4, 1, 2, 3, 4, 5, 6, 7, 8, 9, 10, 9, 1, 2, 3, 4, 5, 8, 9, 4, 1, 2, 3, 4, 5, 7, 8, 10, 5, 1, 2, 3, 4, 5, 6, 7, 8, 9, 10, 1, 4, 5, 9, 6, 1, 1, 6, 1, 2, 3, 4, 5, 6, 7, 8, 9, 10, 2, 4, 6, 1, 2, 4, 6, 7, 8, 1, 2, 3, 4, 5, 7, 8, 9, 10, 3, 5, 6, 7, 10, 6, 1, 7, 9, 10, 1, 2, 3, 4, 5, 8, 9, 4, 4, 1, 2, 3, 4, 5, 6, 8, 9, 10, 1, 2, 3, 4, 5, 6, 7, 8, 9, 10, 8, 1, 2, 3, 4, 5, 7, 9, 10, 1, 3, 5, 10, 8, 3, 1, 7, 1, 2, 3, 4, 5, 6, 7, 8, 9, 10, 1, 2, 3, 4, 6, 7, 8, 9, 10, 1, 2, 3, 4, 6, 8, 9, 10, 8, 3, 9, 4, 7, 10, 7, 1, 2, 3, 4, 5, 6, 7, 8, 9, 10, 3, 9, 1, 2, 3, 4, 5, 6, 7, 8, 9, 10, 1, 2, 3, 4, 5, 6, 7, 8, 9, 10, 5, 4, 6, 2, 4, 5, 6, 7, 9, 3, 1, 2, 3, 4, 5, 6, 8, 10, 1, 2, 4, 5, 8, 1, 2, 3, 4, 5, 6, 7, 8, 9, 10, 7, 1, 6, 1, 2, 3, 4, 5, 6, 7, 8, 9, 10, 2, 4, 6, 1, 2, 3, 4, 5, 6, 7, 8, 9, 10, 1, 2, 3, 4, 5, 6, 7, 8, 9, 10, 6, 1, 2, 3, 5, 6, 7, 8, 9, 10, 2, 8, 9, 6, 8, 9, 1, 2, 3, 4, 5, 7, 8, 10, 1, 2, 3, 4, 5, 6, 7, 8, 9, 10, 4, 7, 10, 9, 4, 6, 5, 5, 1, 2, 4, 8, 10, 5, 7, 1, 3, 4, 6, 9, 1, 2, 3, 5, 9, 9, 1, 2, 3, 4, 5, 6, 7, 8, 9, 10, 6, 6, 3, 1, 2, 3, 4, 5, 6, 7, 8, 9, 10, 1, 2, 3, 5, 7, 9, 10, 1, 3, 5, 8, 1, 2, 3, 6, 4, 1, 2, 3, 4, 5, 6, 7, 8, 9, 10, 1, 3, 5, 6, 8, 9, 10, 3, 1, 9, 6, 1, 2, 3, 4, 5, 6, 7, 8, 9, 10, 3, 1, 2, 3, 4, 5, 6, 7, 8, 9, 1, 2, 3, 4, 5, 6, 7, 8, 9, 10, 5, 5, 1, 2, 3, 4, 5, 6, 7, 8, 10, 1, 2, 3, 4, 5, 6, 7, 8, 9, 10, 1, 2, 3, 4, 5, 6, 7, 8, 9, 10, 2, 10, 1, 3, 4, 5, 6, 7, 8, 7, 6, 4, 1, 1, 2, 3, 4, 5, 6, 7, 8, 9, 10, 3, 7, 1, 10, 5, 4, 10, 6, 8, 1, 2, 3, 4, 5, 6, 7, 8, 9, 10, 1, 4, 5, 6, 10, 2, 8, 3, 1, 2, 3, 4, 5, 6, 7, 8, 9, 10, 1, 2, 3, 4, 5, 6, 7, 8, 9, 10, 4, 9, 10, 1, 2, 3, 4, 5, 6, 7, 8, 9, 10, 7, 3, 6, 8, 9, 1, 2, 3, 4, 5, 6, 7, 8, 9, 10, 1, 2, 3, 4, 5, 6, 7, 8, 9, 1, 1, 1, 2, 3, 4, 5, 6, 7, 8, 9, 10, 7, 1, 2, 3, 4, 5, 6, 7, 8, 9, 10, 8, 2, 1, 2, 3, 4, 5, 6, 7, 8, 9, 10, 6, 4, 1, 5, 8, 10, 7, 1, 2, 3, 4, 6, 7, 8, 9, 10, 1, 2, 3, 4, 5, 6, 7, 8, 9, 10, 10, 1, 2, 3, 4, 5, 9, 1, 2, 1, 2, 3, 4, 6, 7, 8, 9, 10, 1, 1, 2, 3, 4, 5, 6, 7, 8, 9, 10, 1, 2, 3, 4, 5, 6, 7, 8, 9, 10, 1, 2, 3, 4, 5, 6, 7, 8, 9, 10, 1, 4, 1, 7, 1, 5, 6, 3, 4, 6, 7, 10, 5, 10, 1, 2, 3, 4, 5, 6, 8, 9, 9, 1, 2, 3, 4, 5, 6, 7, 8, 9, 10, 1, 2, 3, 4, 5, 8, 1, 2, 3, 4, 5, 6, 7, 8, 9, 10, 2, 1, 2, 3, 4, 5, 6, 7, 8, 9, 1, 2, 3, 4, 5, 6, 7, 8, 9, 10, 8, 10, 1, 2, 3, 4, 5, 6, 7, 8, 9, 10, 3, 4, 3, 5, 5, 6, 9, 9, 5, 1, 9, 1, 5, 8, 9, 10, 5, 1, 2, 3, 9, 1, 2, 3, 4, 5, 6, 7, 8, 9, 10, 1, 2, 4, 5, 6, 7, 9, 10, 6, 5, 3, 5, 9, 1, 2, 3, 4, 5, 6, 7, 8, 9, 2, 8, 2, 3, 6, 7, 5, 5, 1, 2, 3, 4, 5, 6, 9, 10, 5, 3, 3, 7, 1, 5, 7, 8, 6, 1, 2, 3, 4, 5, 6, 7, 8, 9, 10, 1, 1, 2, 5, 6, 7, 2, 3, 4, 2, 8, 10, 1, 2, 3, 4, 5, 6, 7, 8, 9, 10, 1, 4, 7, 4, 1, 10, 9, 5, 7, 4, 6, 3, 1, 2, 3, 4, 5, 6, 7, 8, 9, 10, 1, 2, 7, 8, 10, 4, 6, 8, 9, 7, 1, 5, 2, 6, 1, 2, 3, 4, 5, 6, 7, 8, 9, 10, 1, 5, 1, 2, 3, 4, 5, 6, 7, 8, 9, 10, 1, 2, 3, 4, 5, 6, 7, 8, 9, 10, 2, 5, 1, 2, 3, 4, 5, 6, 7, 8, 9, 10, 1, 2, 3, 4, 5, 6, 7, 8, 9, 10, 2, 1, 3, 5, 6, 9, 10, 6, 1, 2, 3, 4, 5, 6, 7, 8, 9, 10, 1, 3, 4, 5, 10, 6, 1, 2, 1, 2, 3, 4, 5, 6, 8, 9, 6, 8, 1, 2, 3, 4, 5, 6, 7, 8, 9, 10, 4, 6, 3, 1, 5, 6, 1, 2, 3, 4, 5, 6, 7, 8, 9, 10, 1, 2, 3, 4, 5, 6, 7, 8, 9, 10, 1, 2, 3, 4, 5, 6, 8, 9, 10, 4, 6, 8, 9, 8, 1, 2, 2, 4, 5, 1, 2, 3, 4, 5, 6, 7, 8, 9, 10, 1, 2, 3, 4, 5, 6, 7, 8, 9, 10, 7, 1, 2, 3, 4, 5, 6, 7, 8, 9, 10, 5, 1, 2, 3, 4, 7, 7, 10, 2, 3, 4, 5, 6, 8, 1, 6, 9, 3, 1, 2, 3, 8, 10, 1, 2, 4, 5, 6, 7, 2, 1, 2, 3, 4, 5, 6, 7, 8, 9, 10, 6, 9, 1, 2, 3, 4, 5, 6, 7, 8, 9, 10, 4, 3, 2, 4, 5, 6, 7, 10, 9, 1, 2, 3, 4, 5, 6, 7, 8, 9, 10, 10, 1, 2, 3, 4, 6, 9, 2, 4, 2, 2, 3, 1, 2, 3, 4, 5, 6, 7, 8, 9, 10, 1, 2, 3, 4, 5, 6, 7, 8, 9, 10, 1, 2, 3, 4, 5, 6, 7, 8, 9, 10, 1, 2, 3, 4, 5, 6, 7, 8, 9, 10, 6, 1, 2, 3, 4, 5, 6, 7, 8, 9, 10, 1, 2, 3, 4, 5, 6, 7, 8, 9, 10, 1, 2, 3, 4, 5, 6, 7, 8, 9, 10, 1, 2, 3, 4, 5, 6, 7, 8, 9, 10, 1, 9, 1, 2, 3, 4, 5, 7, 8, 9, 10, 3, 9, 3, 7, 9, 10, 1, 8, 2, 3, 4, 5, 7, 1, 2, 3, 4, 5, 6, 7, 8, 9, 10, 5, 10, 3, 7, 1, 2, 3, 4, 5, 6, 7, 8, 9, 10, 1, 2, 3, 4, 5, 6, 7, 8, 9, 10, 7, 8, 1, 2, 3, 4, 5, 6, 7, 8, 9, 1, 2, 3, 4, 5, 7, 9, 10, 1, 2, 3, 4, 5, 6, 7, 8, 9, 10, 4, 6, 2, 8, 6, 9, 1, 2, 3, 4, 5, 6, 7, 8, 9, 1, 4, 7, 2, 8, 9, 1, 5, 6, 8, 1, 2, 4, 5, 7, 9, 10, 1, 2, 3, 4, 5, 6, 7, 8, 9, 10, 8, 1, 2, 3, 4, 5, 6, 8, 9, 10, 1, 2, 3, 4, 5, 6, 7, 8, 9, 10, 1, 2, 3, 4, 5, 6, 7, 8, 9, 10, 5, 6, 5, 3, 1, 3, 9, 1, 2, 3, 4, 5, 6, 7, 9, 10, 8, 1, 2, 3, 4, 5, 6, 7, 8, 9, 10, 5, 1, 2, 3, 4, 5, 6, 7, 8, 9, 10, 1, 2, 4, 6, 8, 3, 7, 10, 1, 2, 3, 4, 5, 6, 7, 8, 9, 10, 1, 2, 3, 4, 5, 6, 7, 8, 9, 10, 1, 2, 3, 4, 5, 6, 7, 8, 10, 1, 2, 3, 4, 5, 6, 7, 8, 9, 10, 1, 2, 3, 5, 7, 2, 3, 4, 7, 8], \"Freq\": [0.6821901202201843, 0.16221879422664642, 0.10814586281776428, 0.16221879422664642, 0.10814586281776428, 0.05407293140888214, 0.10814586281776428, 0.05407293140888214, 0.16221879422664642, 0.10814586281776428, 0.05407293140888214, 0.10649599879980087, 0.1419946700334549, 0.24849066138267517, 0.035498667508363724, 0.10649599879980087, 0.07099733501672745, 0.10649599879980087, 0.035498667508363724, 0.07099733501672745, 0.07099733501672745, 0.13864414393901825, 0.13864414393901825, 0.23107357323169708, 0.046214714646339417, 0.09242942929267883, 0.046214714646339417, 0.046214714646339417, 0.046214714646339417, 0.13864414393901825, 0.046214714646339417, 0.5272799730300903, 0.3577539026737213, 0.3577539026737213, 0.38067445158958435, 0.09516861289739609, 0.09516861289739609, 0.06344574689865112, 0.09516861289739609, 0.06344574689865112, 0.09516861289739609, 0.09516861289739609, 0.03172287344932556, 0.03172287344932556, 0.33827367424964905, 0.07353775203227997, 0.08824530243873596, 0.07353775203227997, 0.11766040325164795, 0.07353775203227997, 0.029415100812911987, 0.08824530243873596, 0.058830201625823975, 0.058830201625823975, 0.18631799519062042, 0.18631799519062042, 0.37263599038124084, 0.18631799519062042, 0.38909655809402466, 0.12969885766506195, 0.08646590262651443, 0.04323295131325722, 0.04323295131325722, 0.04323295131325722, 0.04323295131325722, 0.12969885766506195, 0.04323295131325722, 0.04323295131325722, 0.6514720916748047, 0.21715734899044037, 0.06407319754362106, 0.06407319754362106, 0.06407319754362106, 0.12814639508724213, 0.06407319754362106, 0.1922196000814438, 0.1922196000814438, 0.12814639508724213, 0.6634641289710999, 0.3788312077522278, 0.3788312077522278, 0.533145546913147, 0.2665727734565735, 0.32680898904800415, 0.32680898904800415, 0.4526892900466919, 0.19589008390903473, 0.10882782191038132, 0.13059338927268982, 0.08706225454807281, 0.06529669463634491, 0.11971060186624527, 0.04353112727403641, 0.11971060186624527, 0.09794504195451736, 0.04353112727403641, 0.666400671005249, 0.819326639175415, 0.6401268839836121, 0.48270383477211, 0.6442306041717529, 0.12229147553443909, 0.12229147553443909, 0.06114573776721954, 0.15286433696746826, 0.12229147553443909, 0.18343721330165863, 0.06114573776721954, 0.06114573776721954, 0.06114573776721954, 0.03057286888360977, 0.09591209143400192, 0.28773626685142517, 0.09591209143400192, 0.09591209143400192, 0.09591209143400192, 0.19182418286800385, 0.09591209143400192, 0.3941444158554077, 0.11510125547647476, 0.11510125547647476, 0.11510125547647476, 0.11510125547647476, 0.11510125547647476, 0.23020251095294952, 0.6210505366325378, 0.38611963391304016, 0.19305981695652008, 0.5786128044128418, 0.1022043377161026, 0.2555108368396759, 0.08517027646303177, 0.11923839151859283, 0.1022043377161026, 0.0511021688580513, 0.11923839151859283, 0.06813622266054153, 0.06813622266054153, 0.017034055665135384, 0.17003557085990906, 0.08501778542995453, 0.1133570447564125, 0.08501778542995453, 0.1133570447564125, 0.05667852237820625, 0.14169630408287048, 0.14169630408287048, 0.028339261189103127, 0.05667852237820625, 0.5087121725082397, 0.33914145827293396, 0.08478536456823349, 0.5271415114402771, 0.1580137312412262, 0.17776545882225037, 0.13826201856136322, 0.09875858575105667, 0.13826201856136322, 0.05925515294075012, 0.05925515294075012, 0.0790068656206131, 0.03950343281030655, 0.0790068656206131, 0.20762157440185547, 0.08304863423109055, 0.1660972684621811, 0.08304863423109055, 0.08304863423109055, 0.04152431711554527, 0.04152431711554527, 0.08304863423109055, 0.08304863423109055, 0.12457294762134552, 0.3339405655860901, 0.46082279086112976, 0.46082279086112976, 0.20126202702522278, 0.40252405405044556, 0.20126202702522278, 0.5561984777450562, 0.13904961943626404, 0.13904961943626404, 0.13904961943626404, 0.25209933519363403, 0.5041986703872681, 0.12635648250579834, 0.12635648250579834, 0.12635648250579834, 0.12635648250579834, 0.379069447517395, 0.12635648250579834, 0.12635648250579834, 0.34273743629455566, 0.34273743629455566, 0.4167626202106476, 0.13221214711666107, 0.2379818558692932, 0.10576971620321274, 0.10576971620321274, 0.05288485810160637, 0.18509700894355774, 0.05288485810160637, 0.05288485810160637, 0.05288485810160637, 0.05288485810160637, 0.33309999108314514, 0.33309999108314514, 0.6383602023124695, 0.16426822543144226, 0.08645696192979813, 0.2420794814825058, 0.09510265290737152, 0.08645696192979813, 0.07781126350164413, 0.10374835133552551, 0.03458278253674507, 0.04322848096489906, 0.06051987037062645, 0.2010897696018219, 0.1256811022758484, 0.16757480800151825, 0.15919606387615204, 0.04189370200037956, 0.05865117907524109, 0.05865117907524109, 0.03351496160030365, 0.10054488480091095, 0.05865117907524109, 0.12429805099964142, 0.1740172803401947, 0.12429805099964142, 0.12429805099964142, 0.04971922188997269, 0.09943844377994537, 0.09943844377994537, 0.07457882910966873, 0.04971922188997269, 0.04971922188997269, 0.48083555698394775, 0.24041777849197388, 0.6674413084983826, 0.20340391993522644, 0.4068078398704529, 0.20340391993522644, 0.15019479393959045, 0.05006492882966995, 0.1001298576593399, 0.2002597153186798, 0.05006492882966995, 0.05006492882966995, 0.1001298576593399, 0.05006492882966995, 0.05006492882966995, 0.15019479393959045, 0.4637604355812073, 0.05797005444765091, 0.05797005444765091, 0.08695507794618607, 0.028985027223825455, 0.05797005444765091, 0.05797005444765091, 0.08695507794618607, 0.028985027223825455, 0.05797005444765091, 0.7230778932571411, 0.2169421911239624, 0.4338843822479248, 0.2493024617433548, 0.7479074001312256, 0.723002552986145, 0.505472719669342, 0.1263681799173355, 0.1263681799173355, 0.1263681799173355, 0.4232292175292969, 0.824700117111206, 0.6303426027297974, 0.31522971391677856, 0.6304594278335571, 0.6203171014785767, 0.4559716582298279, 0.4521156847476959, 0.637561023235321, 0.5743740797042847, 0.7477866411209106, 0.0879645124077797, 0.0879645124077797, 0.1759290248155594, 0.43982255458831787, 0.1759290248155594, 0.1144777238368988, 0.1144777238368988, 0.2289554476737976, 0.1144777238368988, 0.3434331715106964, 0.5654333233833313, 0.28271666169166565, 0.6165802478790283, 0.5279479622840881, 0.4433465600013733, 0.4433465600013733, 0.17569108307361603, 0.029281845316290855, 0.20497292280197144, 0.08784554153680801, 0.05856369063258171, 0.17569108307361603, 0.029281845316290855, 0.11712738126516342, 0.05856369063258171, 0.05856369063258171, 0.1717352569103241, 0.5152058005332947, 0.1717352569103241, 0.5272316336631775, 0.10576944798231125, 0.2115388959646225, 0.10576944798231125, 0.10576944798231125, 0.31730833649635315, 0.10576944798231125, 0.2701047658920288, 0.2701047658920288, 0.2701047658920288, 0.5270906686782837, 0.6673727035522461, 0.5628573894500732, 0.18052278459072113, 0.18052278459072113, 0.36104556918144226, 0.1968524307012558, 0.03937048837542534, 0.15748195350170135, 0.11811146140098572, 0.07874097675085068, 0.03937048837542534, 0.07874097675085068, 0.07874097675085068, 0.11811146140098572, 0.03937048837542534, 0.24051320552825928, 0.12025660276412964, 0.12025660276412964, 0.12025660276412964, 0.04008553549647331, 0.04008553549647331, 0.08017107099294662, 0.16034214198589325, 0.04008553549647331, 0.722224771976471, 0.3189479410648346, 0.6378958821296692, 0.13728958368301392, 0.13728958368301392, 0.41186875104904175, 0.13728958368301392, 0.13728958368301392, 0.14370203018188477, 0.26944130659103394, 0.14370203018188477, 0.05388826131820679, 0.03592550754547119, 0.07185101509094238, 0.07185101509094238, 0.05388826131820679, 0.07185101509094238, 0.07185101509094238, 0.5274152159690857, 0.6619840860366821, 0.3557352125644684, 0.3557352125644684, 0.6770021915435791, 0.21319128572940826, 0.21319128572940826, 0.42638257145881653, 0.21319128572940826, 0.5783515572547913, 0.6664963364601135, 0.527153730392456, 0.5307726263999939, 0.26538631319999695, 0.11434070765972137, 0.11434070765972137, 0.3430221378803253, 0.11434070765972137, 0.11434070765972137, 0.19934892654418945, 0.06133813410997391, 0.19934892654418945, 0.10734173655509949, 0.09200719743967056, 0.07667266577482224, 0.07667266577482224, 0.07667266577482224, 0.07667266577482224, 0.04600359871983528, 0.3869244456291199, 0.11054984480142593, 0.05527492240071297, 0.05527492240071297, 0.05527492240071297, 0.11054984480142593, 0.05527492240071297, 0.05527492240071297, 0.05527492240071297, 0.22030547261238098, 0.08812218904495239, 0.2643665671348572, 0.08812218904495239, 0.044061094522476196, 0.044061094522476196, 0.044061094522476196, 0.044061094522476196, 0.044061094522476196, 0.08812218904495239, 0.28143933415412903, 0.5628786683082581, 0.28496527671813965, 0.28496527671813965, 0.09548288583755493, 0.09548288583755493, 0.09548288583755493, 0.2864486575126648, 0.09548288583755493, 0.09548288583755493, 0.09548288583755493, 0.1680479198694229, 0.1680479198694229, 0.1680479198694229, 0.1680479198694229, 0.1680479198694229, 0.1680479198694229, 0.09367259591817856, 0.09367259591817856, 0.09367259591817856, 0.09367259591817856, 0.09367259591817856, 0.18734519183635712, 0.2810177803039551, 0.09367259591817856, 0.4365261197090149, 0.5493544340133667, 0.3858889043331146, 0.2932279109954834, 0.2932279109954834, 0.16903486847877502, 0.5071045756340027, 0.16903486847877502, 0.6322976350784302, 0.45213353633880615, 0.18512922525405884, 0.1346394270658493, 0.10097957402467728, 0.11780950427055359, 0.1346394270658493, 0.06731971353292465, 0.08414964377880096, 0.10097957402467728, 0.033659856766462326, 0.05048978701233864, 0.6515626311302185, 0.647677481174469, 0.6674013137817383, 0.7721977233886719, 0.8287842869758606, 0.12947845458984375, 0.06473922729492188, 0.3236961364746094, 0.06473922729492188, 0.06473922729492188, 0.06473922729492188, 0.12947845458984375, 0.06473922729492188, 0.06473922729492188, 0.15618012845516205, 0.2603002190589905, 0.05206004157662392, 0.05206004157662392, 0.05206004157662392, 0.05206004157662392, 0.20824016630649567, 0.05206004157662392, 0.05206004157662392, 0.6773841381072998, 0.6593829989433289, 0.6674141883850098, 0.558099627494812, 0.5484588742256165, 0.5600461959838867, 0.2654520571231842, 0.5309041142463684, 0.21495682001113892, 0.42991364002227783, 0.12518957257270813, 0.12518957257270813, 0.12518957257270813, 0.12518957257270813, 0.25037914514541626, 0.6714056730270386, 0.6216601729393005, 0.4229959547519684, 0.4234974682331085, 0.6346865892410278, 0.15867164731025696, 0.20660553872585297, 0.13773702085018158, 0.06886851042509079, 0.13773702085018158, 0.06886851042509079, 0.06886851042509079, 0.06886851042509079, 0.20660553872585297, 0.06886851042509079, 0.06886851042509079, 0.41499119997024536, 0.3385530412197113, 0.32418230175971985, 0.32418230175971985, 0.32418230175971985, 0.4560070335865021, 0.0929923802614212, 0.1859847605228424, 0.0929923802614212, 0.3719695210456848, 0.0929923802614212, 0.0929923802614212, 0.20008938014507294, 0.12005362659692764, 0.3601608872413635, 0.04001787677407265, 0.12005362659692764, 0.04001787677407265, 0.04001787677407265, 0.04001787677407265, 0.04001787677407265, 0.38652366399765015, 0.38652366399765015, 0.13766606152057648, 0.10324954241514206, 0.1720825731754303, 0.06883303076028824, 0.03441651538014412, 0.03441651538014412, 0.10324954241514206, 0.10324954241514206, 0.13766606152057648, 0.06883303076028824, 0.7096461653709412, 0.5994003415107727, 0.14985008537769318, 0.14985008537769318, 0.33575713634490967, 0.33575713634490967, 0.4541986286640167, 0.13853272795677185, 0.2770654559135437, 0.41559818387031555, 0.13853272795677185, 0.11483412235975266, 0.34450235962867737, 0.11483412235975266, 0.11483412235975266, 0.11483412235975266, 0.11483412235975266, 0.6674514412879944, 0.46192044019699097, 0.46340417861938477, 0.6714880466461182, 0.31940147280693054, 0.31940147280693054, 0.5187013745307922, 0.2593506872653961, 0.565635621547699, 0.527190089225769, 0.5543547868728638, 0.13858869671821594, 0.13858869671821594, 0.46479088068008423, 0.2296411395072937, 0.057410284876823425, 0.057410284876823425, 0.057410284876823425, 0.2296411395072937, 0.11482056975364685, 0.057410284876823425, 0.057410284876823425, 0.057410284876823425, 0.057410284876823425, 0.44580644369125366, 0.2561476230621338, 0.5122952461242676, 0.2128951996564865, 0.2128951996564865, 0.425790399312973, 0.1901867687702179, 0.5705602765083313, 0.6663724780082703, 0.692001461982727, 0.475000262260437, 0.2375001311302185, 0.1642509400844574, 0.13140074908733368, 0.26280149817466736, 0.09855056554079056, 0.06570037454366684, 0.06570037454366684, 0.03285018727183342, 0.03285018727183342, 0.06570037454366684, 0.06570037454366684, 0.6342100501060486, 0.21140334010124207, 0.21140334010124207, 0.10233362764120102, 0.10233362764120102, 0.1637338101863861, 0.12280035018920898, 0.20466725528240204, 0.06140017509460449, 0.08186690509319305, 0.08186690509319305, 0.04093345254659653, 0.08186690509319305, 0.656790018081665, 0.21893000602722168, 0.1637030690908432, 0.10913538187742233, 0.09549345821142197, 0.1227773055434227, 0.09549345821142197, 0.13641922175884247, 0.0818515345454216, 0.0818515345454216, 0.054567690938711166, 0.054567690938711166, 0.08638667315244675, 0.25916001200675964, 0.08638667315244675, 0.25916001200675964, 0.08638667315244675, 0.08638667315244675, 0.08638667315244675, 0.08638667315244675, 0.25859323143959045, 0.23273390531539917, 0.1551559418439865, 0.05171864479780197, 0.05171864479780197, 0.07757797092199326, 0.05171864479780197, 0.05171864479780197, 0.05171864479780197, 0.05171864479780197, 0.14793488383293152, 0.07396744191646576, 0.29586976766586304, 0.07396744191646576, 0.07396744191646576, 0.07396744191646576, 0.22190232574939728, 0.14793488383293152, 0.6674191951751709, 0.2520993649959564, 0.13750874996185303, 0.06875437498092651, 0.045836251229047775, 0.16042686998844147, 0.11459062248468399, 0.06875437498092651, 0.09167250245809555, 0.022918125614523888, 0.045836251229047775, 0.07716576009988785, 0.07716576009988785, 0.3086630403995514, 0.07716576009988785, 0.1543315201997757, 0.07716576009988785, 0.07716576009988785, 0.07716576009988785, 0.5356078743934631, 0.12648344039916992, 0.16864457726478577, 0.08432228863239288, 0.08432228863239288, 0.08432228863239288, 0.12648344039916992, 0.04216114431619644, 0.04216114431619644, 0.16864457726478577, 0.08432228863239288, 0.20593667030334473, 0.13105061650276184, 0.13105061650276184, 0.05616454780101776, 0.0936075821518898, 0.07488606125116348, 0.0936075821518898, 0.0936075821518898, 0.05616454780101776, 0.05616454780101776, 0.5616931319236755, 0.28084656596183777, 0.6695289611816406, 0.530213475227356, 0.17673783004283905, 0.3236425518989563, 0.6472851037979126, 0.22737279534339905, 0.6821183562278748, 0.45579996705055237, 0.4595023989677429, 0.24133805930614471, 0.48267611861228943, 0.6780140995979309, 0.2513907849788666, 0.2513907849788666, 0.5027815699577332, 0.6372520327568054, 0.6663451194763184, 0.5489206910133362, 0.1250554621219635, 0.18758317828178406, 0.09379158914089203, 0.18758317828178406, 0.09379158914089203, 0.09379158914089203, 0.06252773106098175, 0.06252773106098175, 0.06252773106098175, 0.031263865530490875, 0.5599308609962463, 0.5448224544525146, 0.18160748481750488, 0.18160748481750488, 0.2626533508300781, 0.052530672401189804, 0.09455520659685135, 0.10506134480237961, 0.11556747555732727, 0.14708587527275085, 0.06303680688142776, 0.06303680688142776, 0.052530672401189804, 0.06303680688142776, 0.4401833415031433, 0.20134878158569336, 0.06711626052856445, 0.4026975631713867, 0.06711626052856445, 0.06711626052856445, 0.06711626052856445, 0.1342325210571289, 0.4187382757663727, 0.17990928888320923, 0.17990928888320923, 0.08995464444160461, 0.08995464444160461, 0.08995464444160461, 0.08995464444160461, 0.26986393332481384, 0.08995464444160461, 0.6165912747383118, 0.1270434707403183, 0.1270434707403183, 0.1270434707403183, 0.08469565212726593, 0.08469565212726593, 0.21173912286758423, 0.08469565212726593, 0.08469565212726593, 0.042347826063632965, 0.08469565212726593, 0.18264730274677277, 0.18264730274677277, 0.18264730274677277, 0.36529460549354553, 0.8368231058120728, 0.7562175393104553, 0.33247506618499756, 0.33247506618499756, 0.05535375326871872, 0.2767687737941742, 0.05535375326871872, 0.08303062617778778, 0.19373813271522522, 0.1383843868970871, 0.08303062617778778, 0.02767687663435936, 0.02767687663435936, 0.05535375326871872, 0.20242002606391907, 0.40484005212783813, 0.20242002606391907, 0.19443638622760773, 0.09721819311380386, 0.2916545867919922, 0.19443638622760773, 0.09721819311380386, 0.09721819311380386, 0.28998488187789917, 0.11599394679069519, 0.057996973395347595, 0.23198789358139038, 0.057996973395347595, 0.057996973395347595, 0.057996973395347595, 0.057996973395347595, 0.057996973395347595, 0.4648074805736542, 0.1859229952096939, 0.1859229952096939, 0.09296149760484695, 0.46764203906059265, 0.4308737516403198, 0.40120774507522583, 0.40120774507522583, 0.20060387253761292, 0.48907747864723206, 0.19332537055015564, 0.06444179266691208, 0.3222089409828186, 0.06444179266691208, 0.06444179266691208, 0.12888358533382416, 0.12888358533382416, 0.6380201578140259, 0.4197947084903717, 0.08331727236509323, 0.12497590482234955, 0.3332690894603729, 0.12497590482234955, 0.041658636182546616, 0.041658636182546616, 0.08331727236509323, 0.12497590482234955, 0.041658636182546616, 0.08625949174165726, 0.17251898348331451, 0.2012721449136734, 0.08625949174165726, 0.08625949174165726, 0.08625949174165726, 0.11501265317201614, 0.08625949174165726, 0.05750632658600807, 0.028753163293004036, 0.6780103445053101, 0.09117674082517624, 0.09117674082517624, 0.4558837115764618, 0.09117674082517624, 0.09117674082517624, 0.09117674082517624, 0.09117674082517624, 0.09117674082517624, 0.14329518377780914, 0.14329518377780914, 0.2865903675556183, 0.2865903675556183, 0.6752408742904663, 0.5880496501922607, 0.7105680704116821, 0.6662595272064209, 0.1778336763381958, 0.10670020431280136, 0.14226694405078888, 0.14226694405078888, 0.03556673601269722, 0.03556673601269722, 0.10670020431280136, 0.07113347202539444, 0.07113347202539444, 0.10670020431280136, 0.10943491011857986, 0.036478303372859955, 0.18239152431488037, 0.21886982023715973, 0.07295660674571991, 0.036478303372859955, 0.07295660674571991, 0.10943491011857986, 0.14591321349143982, 0.084193654358387, 0.084193654358387, 0.21048414707183838, 0.168387308716774, 0.2525809705257416, 0.0420968271791935, 0.0420968271791935, 0.084193654358387, 0.675022542476654, 0.4021145701408386, 0.2010572850704193, 0.6314235925674438, 0.6439546346664429, 0.722200334072113, 0.6503921151161194, 0.18126647174358368, 0.10358083993196487, 0.12947605550289154, 0.05179041996598244, 0.12947605550289154, 0.12947605550289154, 0.05179041996598244, 0.10358083993196487, 0.0776856318116188, 0.02589520998299122, 0.7535623908042908, 0.6398717164993286, 0.1113818809390068, 0.2895928919315338, 0.0445527508854866, 0.1113818809390068, 0.0668291300535202, 0.1336582601070404, 0.1559346318244934, 0.0445527508854866, 0.0445527508854866, 0.0222763754427433, 0.059483371675014496, 0.31228771805763245, 0.059483371675014496, 0.16357927024364471, 0.08922506123781204, 0.11896674335002899, 0.08922506123781204, 0.059483371675014496, 0.029741685837507248, 0.029741685837507248, 0.6210557222366333, 0.19114619493484497, 0.38229238986968994, 0.4642813205718994, 0.11607033014297485, 0.11607033014297485, 0.11607033014297485, 0.11607033014297485, 0.11607033014297485, 0.5746358036994934, 0.40231794118881226, 0.150869220495224, 0.05028974264860153, 0.05028974264860153, 0.05028974264860153, 0.05028974264860153, 0.150869220495224, 0.05028974264860153, 0.4507286846637726, 0.09014573693275452, 0.09014573693275452, 0.18029147386550903, 0.09014573693275452, 0.20827633142471313, 0.15147370100021362, 0.07573685050010681, 0.13253948092460632, 0.07573685050010681, 0.07573685050010681, 0.09467106312513351, 0.11360527575016022, 0.05680263787508011, 0.018934212625026703, 0.449763685464859, 0.25995224714279175, 0.5199044942855835, 0.14169925451278687, 0.07084962725639343, 0.17712406814098358, 0.10627444088459015, 0.07084962725639343, 0.035424813628196716, 0.10627444088459015, 0.10627444088459015, 0.07084962725639343, 0.10627444088459015, 0.15496064722537994, 0.46488192677497864, 0.15496064722537994, 0.19069193303585052, 0.09534596651792526, 0.09534596651792526, 0.23836490511894226, 0.1430189460515976, 0.04767298325896263, 0.04767298325896263, 0.04767298325896263, 0.09534596651792526, 0.04767298325896263, 0.41394147276878357, 0.04139414802193642, 0.08278829604387283, 0.12418244034051895, 0.04139414802193642, 0.04139414802193642, 0.04139414802193642, 0.12418244034051895, 0.04139414802193642, 0.04139414802193642, 0.6674669981002808, 0.14503926038742065, 0.19338567554950714, 0.14503926038742065, 0.09669283777475357, 0.048346418887376785, 0.09669283777475357, 0.09669283777475357, 0.14503926038742065, 0.048346418887376785, 0.21799509227275848, 0.21799509227275848, 0.21799509227275848, 0.46066853404045105, 0.46066853404045105, 0.45259833335876465, 0.3692503273487091, 0.09231258183717728, 0.09231258183717728, 0.09231258183717728, 0.18462516367435455, 0.04615629091858864, 0.04615629091858864, 0.04615629091858864, 0.37305325269699097, 0.08290072530508041, 0.04145036265254021, 0.12435108423233032, 0.12435108423233032, 0.04145036265254021, 0.04145036265254021, 0.04145036265254021, 0.04145036265254021, 0.08290072530508041, 0.6378049254417419, 0.6663097143173218, 0.44881772994995117, 0.6710367202758789, 0.3406215310096741, 0.6812430620193481, 0.6166635751724243, 0.6164891719818115, 0.7156709432601929, 0.47712817788124084, 0.23856408894062042, 0.11928204447031021, 0.11928204447031021, 0.8239182233810425, 0.45497432351112366, 0.7193389534950256, 0.16914679110050201, 0.16914679110050201, 0.5074403882026672, 0.16914679110050201, 0.11217600852251053, 0.4487040340900421, 0.11217600852251053, 0.11217600852251053, 0.11217600852251053, 0.6725372076034546, 0.14849311113357544, 0.14849311113357544, 0.19799081981182098, 0.14849311113357544, 0.07424655556678772, 0.049497704952955246, 0.049497704952955246, 0.049497704952955246, 0.09899540990591049, 0.049497704952955246, 0.667405903339386, 0.45574095845222473, 0.39237353205680847, 0.25810253620147705, 0.11061537265777588, 0.12905126810073853, 0.14748716354370117, 0.05530768632888794, 0.07374358177185059, 0.018435895442962646, 0.03687179088592529, 0.07374358177185059, 0.05530768632888794, 0.09501828253269196, 0.09501828253269196, 0.09501828253269196, 0.28505486249923706, 0.09501828253269196, 0.1900365650653839, 0.09501828253269196, 0.21328744292259216, 0.21328744292259216, 0.21328744292259216, 0.4265748858451843, 0.14317522943019867, 0.14317522943019867, 0.4295256733894348, 0.14317522943019867, 0.637866735458374, 0.06815440207719803, 0.2726176083087921, 0.13630880415439606, 0.06815440207719803, 0.17038600146770477, 0.06815440207719803, 0.034077201038599014, 0.06815440207719803, 0.06815440207719803, 0.034077201038599014, 0.07663998752832413, 0.38319993019104004, 0.07663998752832413, 0.07663998752832413, 0.07663998752832413, 0.07663998752832413, 0.07663998752832413, 0.7681283354759216, 0.2524632513523102, 0.5049265027046204, 0.6674174666404724, 0.1703205555677414, 0.1459890455007553, 0.12165754288434982, 0.1703205555677414, 0.12165754288434982, 0.09732603281736374, 0.07299452275037766, 0.04866301640868187, 0.024331508204340935, 0.024331508204340935, 0.5775380730628967, 0.14074932038784027, 0.17593663930892944, 0.03518733009696007, 0.07037466019392014, 0.1055619865655899, 0.14074932038784027, 0.1055619865655899, 0.14074932038784027, 0.07037466019392014, 0.19519805908203125, 0.1301320344209671, 0.06506601721048355, 0.1301320344209671, 0.09759902954101562, 0.19519805908203125, 0.09759902954101562, 0.032533008605241776, 0.032533008605241776, 0.06506601721048355, 0.6165503859519958, 0.6166513562202454, 0.17234298586845398, 0.21542872488498688, 0.043085746467113495, 0.08617149293422699, 0.043085746467113495, 0.08617149293422699, 0.08617149293422699, 0.17234298586845398, 0.08617149293422699, 0.03991404175758362, 0.15965616703033447, 0.03991404175758362, 0.03991404175758362, 0.2394842654466629, 0.07982808351516724, 0.07982808351516724, 0.07982808351516724, 0.03991404175758362, 0.07982808351516724, 0.13620729744434357, 0.21793168783187866, 0.10896584391593933, 0.0817243829369545, 0.054482921957969666, 0.13620729744434357, 0.0817243829369545, 0.0817243829369545, 0.0817243829369545, 0.054482921957969666, 0.3707551956176758, 0.4687574803829193, 0.16881904006004333, 0.08440952003002167, 0.33763808012008667, 0.08440952003002167, 0.08440952003002167, 0.08440952003002167, 0.08440952003002167, 0.6662741899490356, 0.6922743916511536, 0.4205123484134674, 0.7689515948295593, 0.10360237956047058, 0.1726706326007843, 0.13813650608062744, 0.10360237956047058, 0.10360237956047058, 0.10360237956047058, 0.03453412652015686, 0.06906825304031372, 0.06906825304031372, 0.10360237956047058, 0.776626467704773, 0.33379849791526794, 0.2611791491508484, 0.2611791491508484, 0.6165355443954468, 0.35688725113868713, 0.35688725113868713, 0.45232734084129333, 0.45232734084129333, 0.2233716994524002, 0.1116858497262001, 0.08376438915729523, 0.08376438915729523, 0.16752877831459045, 0.1116858497262001, 0.05584292486310005, 0.05584292486310005, 0.08376438915729523, 0.027921462431550026, 0.3569831848144531, 0.11899439245462418, 0.11899439245462418, 0.11899439245462418, 0.23798878490924835, 0.304434597492218, 0.304434597492218, 0.3829737901687622, 0.20783378183841705, 0.0831335186958313, 0.110844686627388, 0.0831335186958313, 0.1939782053232193, 0.15241144597530365, 0.04156675934791565, 0.027711171656847, 0.04156675934791565, 0.04156675934791565, 0.08621590584516525, 0.22990907728672028, 0.14369317889213562, 0.11495453864336014, 0.14369317889213562, 0.05747726932168007, 0.05747726932168007, 0.05747726932168007, 0.05747726932168007, 0.028738634660840034, 0.41408345103263855, 0.47592470049858093, 0.47592470049858093, 0.1251973807811737, 0.1251973807811737, 0.06259869039058685, 0.1251973807811737, 0.18779608607292175, 0.09389804303646088, 0.09389804303646088, 0.06259869039058685, 0.031299345195293427, 0.06259869039058685, 0.44940686225891113, 0.604938268661499, 0.3024691343307495, 0.6509954929351807, 0.6651321053504944, 0.1212829053401947, 0.18192435801029205, 0.1212829053401947, 0.06064145267009735, 0.06064145267009735, 0.06064145267009735, 0.18192435801029205, 0.06064145267009735, 0.06064145267009735, 0.06064145267009735, 0.12265317142009735, 0.32707512378692627, 0.040884390473365784, 0.040884390473365784, 0.08176878094673157, 0.20442195236682892, 0.08176878094673157, 0.040884390473365784, 0.040884390473365784, 0.5278331637382507, 0.5278759598731995, 0.17787128686904907, 0.1482260823249817, 0.12846259772777557, 0.11858086287975311, 0.0988173857331276, 0.03952695429325104, 0.0988173857331276, 0.07905390858650208, 0.059290431439876556, 0.059290431439876556, 0.6663525104522705, 0.37860798835754395, 0.14197799563407898, 0.04732599854469299, 0.09465199708938599, 0.09465199708938599, 0.04732599854469299, 0.04732599854469299, 0.09465199708938599, 0.04732599854469299, 0.04732599854469299, 0.4694097638130188, 0.5486654043197632, 0.1489473432302475, 0.1489473432302475, 0.09929823130369186, 0.09929823130369186, 0.04964911565184593, 0.1489473432302475, 0.04964911565184593, 0.1489473432302475, 0.04964911565184593, 0.04964911565184593, 0.6673663854598999, 0.42190274596214294, 0.3391823172569275, 0.11306077241897583, 0.22612154483795166, 0.11306077241897583, 0.33091557025909424, 0.37650853395462036, 0.025100570172071457, 0.10040228068828583, 0.12550285458564758, 0.15060341358184814, 0.025100570172071457, 0.050201140344142914, 0.07530170679092407, 0.050201140344142914, 0.0737311989068985, 0.294924795627594, 0.04423872008919716, 0.13271616399288177, 0.13271616399288177, 0.10322368144989014, 0.10322368144989014, 0.04423872008919716, 0.04423872008919716, 0.02949248068034649, 0.6811008453369141, 0.19851484894752502, 0.09925742447376251, 0.09925742447376251, 0.09925742447376251, 0.29777228832244873, 0.09925742447376251, 0.6153074502944946, 0.20510248839855194, 0.20779095590114594, 0.2909073531627655, 0.24934914708137512, 0.04155819118022919, 0.04155819118022919, 0.12467457354068756, 0.04155819118022919, 0.04155819118022919, 0.04155819118022919, 0.527091920375824, 0.5219816565513611, 0.09490575641393661, 0.04745287820696831, 0.09490575641393661, 0.04745287820696831, 0.04745287820696831, 0.04745287820696831, 0.04745287820696831, 0.04745287820696831, 0.04745287820696831, 0.22092905640602112, 0.10125914961099625, 0.1380806565284729, 0.10125914961099625, 0.05523226410150528, 0.10125914961099625, 0.05523226410150528, 0.08284839987754822, 0.06443764269351959, 0.0736430212855339, 0.07210776954889297, 0.14421553909778595, 0.1922873854637146, 0.024035923182964325, 0.16825146973133087, 0.16825146973133087, 0.0961436927318573, 0.024035923182964325, 0.07210776954889297, 0.024035923182964325, 0.527133584022522, 0.43179190158843994, 0.5355031490325928, 0.2677515745162964, 0.5270757079124451, 0.1934269368648529, 0.5802807807922363, 0.20802035927772522, 0.41604071855545044, 0.20802035927772522, 0.355933278799057, 0.355933278799057, 0.6205934286117554, 0.6881555318832397, 0.06971321254968643, 0.13942642509937286, 0.34856608510017395, 0.06971321254968643, 0.06971321254968643, 0.06971321254968643, 0.06971321254968643, 0.06971321254968643, 0.6699804663658142, 0.19841542840003967, 0.19841542840003967, 0.13736453652381897, 0.1221018061041832, 0.10683908313512802, 0.0610509030520916, 0.045788176357746124, 0.045788176357746124, 0.045788176357746124, 0.0610509030520916, 0.11659279465675354, 0.11659279465675354, 0.11659279465675354, 0.11659279465675354, 0.11659279465675354, 0.3497783839702606, 0.10273543745279312, 0.17122572660446167, 0.1369805783033371, 0.034245144575834274, 0.06849028915166855, 0.06849028915166855, 0.17122572660446167, 0.06849028915166855, 0.06849028915166855, 0.1369805783033371, 0.5598399639129639, 0.09019241482019424, 0.09019241482019424, 0.09019241482019424, 0.09019241482019424, 0.09019241482019424, 0.09019241482019424, 0.09019241482019424, 0.09019241482019424, 0.1803848296403885, 0.21306803822517395, 0.02367422729730606, 0.14204536378383636, 0.07102268189191818, 0.1893938183784485, 0.14204536378383636, 0.04734845459461212, 0.04734845459461212, 0.09469690918922424, 0.04734845459461212, 0.46412381529808044, 0.35065725445747375, 0.4050375819206238, 0.13501253724098206, 0.04500417783856392, 0.13501253724098206, 0.09000835567712784, 0.04500417783856392, 0.04500417783856392, 0.04500417783856392, 0.04500417783856392, 0.04500417783856392, 0.18197892606258392, 0.7279157042503357, 0.2997899651527405, 0.599579930305481, 0.5427525043487549, 0.18091750144958496, 0.18091750144958496, 0.6399723291397095, 0.6212811470031738, 0.4197694957256317, 0.4197694957256317, 0.13674183189868927, 0.27348366379737854, 0.13674183189868927, 0.13674183189868927, 0.27348366379737854, 0.6183582544326782, 0.14150679111480713, 0.14150679111480713, 0.5660271644592285, 0.4211702048778534, 0.15430313348770142, 0.11572735011577606, 0.038575783371925354, 0.15430313348770142, 0.19287891685962677, 0.07715156674385071, 0.07715156674385071, 0.038575783371925354, 0.038575783371925354, 0.038575783371925354, 0.19748106598854065, 0.19748106598854065, 0.06582701951265335, 0.09874053299427032, 0.032913509756326675, 0.16456755995750427, 0.06582701951265335, 0.06582701951265335, 0.45584142208099365, 0.6205568909645081, 0.2179497629404068, 0.2179497629404068, 0.2179497629404068, 0.09417247027158737, 0.14125870168209076, 0.09417247027158737, 0.047086235135793686, 0.047086235135793686, 0.3296036422252655, 0.09417247027158737, 0.047086235135793686, 0.047086235135793686, 0.38161763548851013, 0.38161763548851013, 0.21215830743312836, 0.4243166148662567, 0.10607915371656418, 0.10607915371656418, 0.8278058767318726, 0.6205285787582397, 0.1193266361951828, 0.1193266361951828, 0.2983165979385376, 0.1193266361951828, 0.0596633180975914, 0.1193266361951828, 0.1193266361951828, 0.0596633180975914, 0.6199147701263428, 0.7717068791389465, 0.6902024745941162, 0.23006750643253326, 0.31375956535339355, 0.15687978267669678, 0.31375956535339355, 0.15687978267669678, 0.667447566986084, 0.181157186627388, 0.06038573011755943, 0.06038573011755943, 0.24154292047023773, 0.06038573011755943, 0.06038573011755943, 0.06038573011755943, 0.181157186627388, 0.06038573011755943, 0.06038573011755943, 0.7586562633514404, 0.09579430520534515, 0.1915886104106903, 0.1915886104106903, 0.09579430520534515, 0.28738293051719666, 0.2251589000225067, 0.4503178000450134, 0.42084115743637085, 0.7296578884124756, 0.4725100100040436, 0.2362550050020218, 0.1227797344326973, 0.18416960537433624, 0.15347467362880707, 0.030694933608174324, 0.030694933608174324, 0.09208480268716812, 0.09208480268716812, 0.030694933608174324, 0.2455594688653946, 0.030694933608174324, 0.5407778024673462, 0.18025927245616913, 0.6472049951553345, 0.43329381942749023, 0.5271482467651367, 0.6766363978385925, 0.6502304673194885, 0.33122387528419495, 0.33122387528419495, 0.64045649766922, 0.45586979389190674, 0.5759372115135193, 0.14095638692378998, 0.14095638692378998, 0.07047819346189499, 0.07047819346189499, 0.07047819346189499, 0.07047819346189499, 0.21143457293510437, 0.14095638692378998, 0.07047819346189499, 0.07047819346189499, 0.6685837507247925, 0.37306201457977295, 0.23730196058750153, 0.47460392117500305, 0.23730196058750153, 0.13816438615322113, 0.13816438615322113, 0.4144931733608246, 0.13816438615322113, 0.6661432981491089, 0.5205129981040955, 0.26025649905204773, 0.5716479420661926, 0.2858239710330963, 0.214689239859581, 0.13034702837467194, 0.17890769243240356, 0.1252353936433792, 0.07667472958564758, 0.0690072551369667, 0.04856066033244133, 0.0690072551369667, 0.04856066033244133, 0.03833736479282379, 0.7955575585365295, 0.414447158575058, 0.16584214568138123, 0.1289883255958557, 0.11056143045425415, 0.07370761781930923, 0.0921345204114914, 0.1289883255958557, 0.055280715227127075, 0.11056143045425415, 0.07370761781930923, 0.055280715227127075, 0.17874953150749207, 0.0923539251089096, 0.1638537347316742, 0.06852065026760101, 0.09533308446407318, 0.0923539251089096, 0.06852065026760101, 0.07149980962276459, 0.10129139572381973, 0.07149980962276459, 0.7295478582382202, 0.8282407522201538, 0.0633990541100502, 0.1901971697807312, 0.1267981082201004, 0.0316995270550251, 0.0950985848903656, 0.1267981082201004, 0.0950985848903656, 0.1267981082201004, 0.0950985848903656, 0.0316995270550251, 0.17082591354846954, 0.1328645944595337, 0.09490328282117844, 0.11388394236564636, 0.1328645944595337, 0.09490328282117844, 0.07592263072729111, 0.05694197118282318, 0.07592263072729111, 0.05694197118282318, 0.6388910412788391, 0.12116134911775589, 0.12116134911775589, 0.12116134911775589, 0.12116134911775589, 0.36348405480384827, 0.12116134911775589, 0.6672972440719604, 0.11655143648386002, 0.2719533443450928, 0.07770095765590668, 0.15540191531181335, 0.07770095765590668, 0.07770095765590668, 0.07770095765590668, 0.07770095765590668, 0.07770095765590668, 0.03885047882795334, 0.17789326608181, 0.17789326608181, 0.17789326608181, 0.35578653216362, 0.17789326608181, 0.6675653457641602, 0.2174001932144165, 0.434800386428833, 0.1425592601299286, 0.3563981354236603, 0.0712796300649643, 0.0712796300649643, 0.0712796300649643, 0.0712796300649643, 0.0712796300649643, 0.0712796300649643, 0.31147557497024536, 0.31147557497024536, 0.059169694781303406, 0.11833938956260681, 0.23667877912521362, 0.08875454217195511, 0.08875454217195511, 0.11833938956260681, 0.059169694781303406, 0.08875454217195511, 0.059169694781303406, 0.059169694781303406, 0.6402202844619751, 0.6674046516418457, 0.3882894814014435, 0.2627984583377838, 0.2627984583377838, 0.5255969166755676, 0.10623200982809067, 0.07967400550842285, 0.1593480110168457, 0.13279001414775848, 0.1593480110168457, 0.053116004914045334, 0.10623200982809067, 0.13279001414775848, 0.053116004914045334, 0.026558002457022667, 0.039865098893642426, 0.2790556848049164, 0.11959529668092728, 0.11959529668092728, 0.11959529668092728, 0.039865098893642426, 0.11959529668092728, 0.039865098893642426, 0.07973019778728485, 0.039865098893642426, 0.11772837489843369, 0.11772837489843369, 0.05886418744921684, 0.05886418744921684, 0.17659255862236023, 0.05886418744921684, 0.23545674979686737, 0.05886418744921684, 0.05886418744921684, 0.08768445253372192, 0.26305335760116577, 0.5261067152023315, 0.08768445253372192, 0.6637824177742004, 0.2706969082355499, 0.5413938164710999, 0.4847889244556427, 0.16159631311893463, 0.16159631311893463, 0.09142950922250748, 0.12190601229667664, 0.3657180368900299, 0.06095300614833832, 0.06095300614833832, 0.09142950922250748, 0.09142950922250748, 0.06095300614833832, 0.03047650307416916, 0.03047650307416916, 0.07021499425172806, 0.07021499425172806, 0.07021499425172806, 0.07021499425172806, 0.07021499425172806, 0.28085997700691223, 0.07021499425172806, 0.28085997700691223, 0.07021499425172806, 0.07021499425172806, 0.6499128937721252, 0.1470004767179489, 0.1470004767179489, 0.2021256536245346, 0.07350023835897446, 0.09187529981136322, 0.07350023835897446, 0.03675011917948723, 0.09187529981136322, 0.05512517690658569, 0.09187529981136322, 0.4156327247619629, 0.11289778351783752, 0.11289778351783752, 0.11289778351783752, 0.11289778351783752, 0.22579556703567505, 0.43974366784095764, 0.721696674823761, 0.11892008036375046, 0.11892008036375046, 0.3567602336406708, 0.11892008036375046, 0.11892008036375046, 0.11892008036375046, 0.2180115133523941, 0.2180115133523941, 0.4360230267047882, 0.5067763924598694, 0.5351079106330872, 0.08918465673923492, 0.08918465673923492, 0.08918465673923492, 0.17836931347846985, 0.12284260243177414, 0.12284260243177414, 0.12284260243177414, 0.3685278296470642, 0.12284260243177414, 0.12284260243177414, 0.7236148715019226, 0.06383572518825531, 0.2127857506275177, 0.10639287531375885, 0.1489500254392624, 0.12767145037651062, 0.06383572518825531, 0.10639287531375885, 0.06383572518825531, 0.04255715012550354, 0.04255715012550354, 0.4558200538158417, 0.6701675653457642, 0.5681995749473572, 0.06818394362926483, 0.04545596241950989, 0.022727981209754944, 0.022727981209754944, 0.022727981209754944, 0.022727981209754944, 0.11363991349935532, 0.04545596241950989, 0.04545596241950989, 0.43116024136543274, 0.5757856369018555, 0.40249335765838623, 0.10062333941459656, 0.10062333941459656, 0.10062333941459656, 0.10062333941459656, 0.10062333941459656, 0.6712183952331543, 0.15785753726959229, 0.18942904472351074, 0.25257205963134766, 0.03157150745391846, 0.06314301490783691, 0.09471452236175537, 0.12628602981567383, 0.06314301490783691, 0.03157150745391846, 0.03157150745391846, 0.6780082583427429, 0.13848209381103516, 0.13848209381103516, 0.13848209381103516, 0.41544628143310547, 0.13848209381103516, 0.13848209381103516, 0.5420677661895752, 0.2710338830947876, 0.5702900886535645, 0.28493955731391907, 0.5698791146278381, 0.13193082809448242, 0.17590776085853577, 0.08795388042926788, 0.13193082809448242, 0.08795388042926788, 0.08795388042926788, 0.04397694021463394, 0.04397694021463394, 0.17590776085853577, 0.04397694021463394, 0.02896845154464245, 0.3186529576778412, 0.0579369030892849, 0.1448422521352768, 0.1158738061785698, 0.0579369030892849, 0.1158738061785698, 0.0869053527712822, 0.0579369030892849, 0.02896845154464245, 0.2741911709308624, 0.09139706194400787, 0.1370955854654312, 0.0685477927327156, 0.09139706194400787, 0.04569853097200394, 0.02284926548600197, 0.09139706194400787, 0.0685477927327156, 0.11424632370471954, 0.14807285368442535, 0.11845827847719193, 0.10365099459886551, 0.10365099459886551, 0.14807285368442535, 0.08884371072053909, 0.08884371072053909, 0.11845827847719193, 0.05922913923859596, 0.02961456961929798, 0.836884081363678, 0.1777133196592331, 0.118475541472435, 0.13822147250175476, 0.09872961789369583, 0.118475541472435, 0.07898369431495667, 0.0592377707362175, 0.09872961789369583, 0.0592377707362175, 0.0592377707362175, 0.14219340682029724, 0.14219340682029724, 0.14219340682029724, 0.1263941377401352, 0.0631970688700676, 0.0947955995798111, 0.1263941377401352, 0.04739779978990555, 0.0315985344350338, 0.0631970688700676, 0.23190131783485413, 0.17006096243858337, 0.139140784740448, 0.10822061449289322, 0.061840351670980453, 0.030920175835490227, 0.046380262821912766, 0.07730043679475784, 0.046380262821912766, 0.07730043679475784, 0.2712808847427368, 0.0775088295340538, 0.0775088295340538, 0.1162632405757904, 0.0387544147670269, 0.0387544147670269, 0.1550176590681076, 0.1550176590681076, 0.0387544147670269, 0.0775088295340538, 0.42296797037124634, 0.42296797037124634, 0.4869905710220337, 0.05411006510257721, 0.10822013020515442, 0.10822013020515442, 0.05411006510257721, 0.05411006510257721, 0.05411006510257721, 0.05411006510257721, 0.10822013020515442, 0.5970654487609863, 0.29853272438049316, 0.19151687622070312, 0.19151687622070312, 0.38303375244140625, 0.19151687622070312, 0.5614302158355713, 0.18714340031147003, 0.19014693796634674, 0.09507346898317337, 0.09507346898317337, 0.3802938759326935, 0.19014693796634674, 0.16894598305225372, 0.04223649576306343, 0.08447299152612686, 0.08447299152612686, 0.08447299152612686, 0.08447299152612686, 0.04223649576306343, 0.08447299152612686, 0.16894598305225372, 0.08447299152612686, 0.6220350861549377, 0.7236137390136719, 0.2654092013835907, 0.5308184027671814, 0.1861826479434967, 0.046545661985874176, 0.09309132397174835, 0.13963697850704193, 0.09309132397174835, 0.09309132397174835, 0.046545661985874176, 0.046545661985874176, 0.046545661985874176, 0.09309132397174835, 0.15048156678676605, 0.16051366925239563, 0.15048156678676605, 0.07022473216056824, 0.15048156678676605, 0.06019262596964836, 0.06019262596964836, 0.08025683462619781, 0.06019262596964836, 0.06019262596964836, 0.6412625312805176, 0.4675731956958771, 0.1677689552307129, 0.23487652838230133, 0.10066136717796326, 0.10066136717796326, 0.06710758060216904, 0.03355379030108452, 0.23487652838230133, 0.03355379030108452, 0.03355379030108452, 0.23761723935604095, 0.15841150283813477, 0.07920575141906738, 0.07920575141906738, 0.07920575141906738, 0.15841150283813477, 0.07920575141906738, 0.03960287570953369, 0.20770065486431122, 0.06923355162143707, 0.13846710324287415, 0.13846710324287415, 0.06923355162143707, 0.06923355162143707, 0.06923355162143707, 0.051925163716077805, 0.034616775810718536, 0.13846710324287415, 0.6401270031929016, 0.4412502646446228, 0.3778156042098999, 0.3778156042098999, 0.321929007768631, 0.321929007768631, 0.16982023417949677, 0.05660674721002579, 0.05660674721002579, 0.28303372859954834, 0.11321349442005157, 0.11321349442005157, 0.11321349442005157, 0.05660674721002579, 0.05660674721002579, 0.22112426161766052, 0.22112426161766052, 0.44224852323532104, 0.16317401826381683, 0.16317401826381683, 0.32634803652763367, 0.11721240729093552, 0.11721240729093552, 0.35163721442222595, 0.11721240729093552, 0.12663480639457703, 0.12663480639457703, 0.12663480639457703, 0.12663480639457703, 0.25326961278915405, 0.12663480639457703, 0.12663480639457703, 0.08752104640007019, 0.2333894520998001, 0.17504209280014038, 0.14586840569972992, 0.11669472604990005, 0.05834736302495003, 0.05834736302495003, 0.05834736302495003, 0.05834736302495003, 0.029173681512475014, 0.4518677294254303, 0.16752731800079346, 0.08376365900039673, 0.08376365900039673, 0.08376365900039673, 0.08376365900039673, 0.3350546360015869, 0.08376365900039673, 0.08376365900039673, 0.08376365900039673, 0.16285857558250427, 0.10857237875461578, 0.21714475750923157, 0.05428618937730789, 0.10857237875461578, 0.05428618937730789, 0.05428618937730789, 0.08142928779125214, 0.10857237875461578, 0.08142928779125214, 0.0747697651386261, 0.33646395802497864, 0.03738488256931305, 0.11215464770793915, 0.0747697651386261, 0.11215464770793915, 0.0747697651386261, 0.03738488256931305, 0.0747697651386261, 0.03738488256931305, 0.6210978627204895, 0.6674734354019165, 0.6207107305526733, 0.770977795124054, 0.16495415568351746, 0.49486249685287476, 0.16495415568351746, 0.2779417634010315, 0.20845632255077362, 0.03474272042512894, 0.10422816127538681, 0.03474272042512894, 0.03474272042512894, 0.13897088170051575, 0.10422816127538681, 0.06948544085025787, 0.6782783269882202, 0.17494139075279236, 0.10933836549520493, 0.15307371318340302, 0.04373534768819809, 0.08747069537639618, 0.08747069537639618, 0.13120603561401367, 0.08747069537639618, 0.06560301780700684, 0.04373534768819809, 0.8834189176559448, 0.24550192058086395, 0.10521510988473892, 0.1285962462425232, 0.14028680324554443, 0.07014340162277222, 0.11690567433834076, 0.05845283716917038, 0.07014340162277222, 0.046762268990278244, 0.023381134495139122, 0.15250110626220703, 0.30500221252441406, 0.15250110626220703, 0.15250110626220703, 0.30500221252441406, 0.37782353162765503, 0.18891176581382751, 0.18891176581382751, 0.1283406913280487, 0.17967696487903595, 0.17967696487903595, 0.02566813863813877, 0.10267255455255508, 0.10267255455255508, 0.05133627727627754, 0.02566813863813877, 0.1283406913280487, 0.05133627727627754, 0.15197370946407318, 0.12664474546909332, 0.2026316076517105, 0.07598685473203659, 0.10131580382585526, 0.05065790191292763, 0.15197370946407318, 0.05065790191292763, 0.05065790191292763, 0.07598685473203659, 0.23190151154994965, 0.07730050384998322, 0.11595075577497482, 0.11595075577497482, 0.19325125217437744, 0.11595075577497482, 0.03865025192499161, 0.03865025192499161, 0.03865025192499161, 0.11943445354700089, 0.19109511375427246, 0.11943445354700089, 0.1672082245349884, 0.07166066765785217, 0.09554755687713623, 0.07166066765785217, 0.047773778438568115, 0.07166066765785217, 0.047773778438568115, 0.1257818043231964, 0.1257818043231964, 0.1257818043231964, 0.2515636086463928, 0.37734541296958923, 0.10486254841089249, 0.10486254841089249, 0.5243127346038818, 0.10486254841089249, 0.10486254841089249], \"Term\": [\"abandon\", \"accused\", \"accused\", \"accused\", \"accused\", \"accused\", \"accused\", \"accused\", \"accused\", \"accused\", \"accused\", \"action\", \"action\", \"action\", \"action\", \"action\", \"action\", \"action\", \"action\", \"action\", \"action\", \"adelaide\", \"adelaide\", \"adelaide\", \"adelaide\", \"adelaide\", \"adelaide\", \"adelaide\", \"adelaide\", \"adelaide\", \"adelaide\", \"adolfo\", \"advani\", \"advani\", \"afghan\", \"afghan\", \"afghan\", \"afghan\", \"afghan\", \"afghan\", \"afghan\", \"afghan\", \"afghan\", \"afghan\", \"afghanistan\", \"afghanistan\", \"afghanistan\", \"afghanistan\", \"afghanistan\", \"afghanistan\", \"afghanistan\", \"afghanistan\", \"afghanistan\", \"afghanistan\", \"afroz\", \"afroz\", \"afroz\", \"afroz\", \"agreement\", \"agreement\", \"agreement\", \"agreement\", \"agreement\", \"agreement\", \"agreement\", \"agreement\", \"agreement\", \"agreement\", \"aip\", \"aip\", \"aircraft\", \"aircraft\", \"aircraft\", \"aircraft\", \"aircraft\", \"aircraft\", \"aircraft\", \"aircraft\", \"airliners\", \"alarm\", \"alarm\", \"alcohol\", \"alcohol\", \"alei\", \"alei\", \"alp\", \"also\", \"also\", \"also\", \"also\", \"also\", \"also\", \"also\", \"also\", \"also\", \"also\", \"alsosaid\", \"amalgamation\", \"amongst\", \"annan\", \"annually\", \"another\", \"another\", \"another\", \"another\", \"another\", \"another\", \"another\", \"another\", \"another\", \"another\", \"ansett\", \"ansett\", \"ansett\", \"ansett\", \"ansett\", \"ansett\", \"ansett\", \"antibiotics\", \"appeared\", \"appeared\", \"appeared\", \"appeared\", \"appeared\", \"appeared\", \"applauded\", \"appropriate\", \"appropriate\", \"arabian\", \"arafat\", \"arafat\", \"arafat\", \"arafat\", \"arafat\", \"arafat\", \"arafat\", \"arafat\", \"arafat\", \"arafat\", \"area\", \"area\", \"area\", \"area\", \"area\", \"area\", \"area\", \"area\", \"area\", \"area\", \"argentina\", \"argentina\", \"argentina\", \"argentine\", \"around\", \"around\", \"around\", \"around\", \"around\", \"around\", \"around\", \"around\", \"around\", \"around\", \"arrested\", \"arrested\", \"arrested\", \"arrested\", \"arrested\", \"arrested\", \"arrested\", \"arrested\", \"arrested\", \"arrested\", \"arrivals\", \"arrive\", \"arrive\", \"ashes\", \"ashes\", \"ashes\", \"asic\", \"asic\", \"asic\", \"asic\", \"asking\", \"asking\", \"assistance\", \"assistance\", \"assistance\", \"assistance\", \"assistance\", \"assistance\", \"assistance\", \"astronauts\", \"astronauts\", \"attached\", \"attack\", \"attack\", \"attack\", \"attack\", \"attack\", \"attack\", \"attack\", \"attack\", \"attack\", \"attack\", \"augusta\", \"augusta\", \"ausmaid\", \"australia\", \"australia\", \"australia\", \"australia\", \"australia\", \"australia\", \"australia\", \"australia\", \"australia\", \"australia\", \"australian\", \"australian\", \"australian\", \"australian\", \"australian\", \"australian\", \"australian\", \"australian\", \"australian\", \"australian\", \"back\", \"back\", \"back\", \"back\", \"back\", \"back\", \"back\", \"back\", \"back\", \"back\", \"bacteria\", \"bacteria\", \"ballidu\", \"benares\", \"benares\", \"benares\", \"best\", \"best\", \"best\", \"best\", \"best\", \"best\", \"best\", \"best\", \"best\", \"best\", \"bin_laden\", \"bin_laden\", \"bin_laden\", \"bin_laden\", \"bin_laden\", \"bin_laden\", \"bin_laden\", \"bin_laden\", \"bin_laden\", \"bin_laden\", \"blocking\", \"blue\", \"blue\", \"boje\", \"boje\", \"bombarding\", \"bowler\", \"bowler\", \"bowler\", \"bowler\", \"boxes\", \"bradstreet\", \"brands\", \"breathing\", \"breathing\", \"brett\", \"burakin\", \"bursch\", \"cadibarra\", \"campaigners\", \"campaigns\", \"cancer\", \"cancer\", \"cancer\", \"cancer\", \"cancer\", \"car\", \"car\", \"car\", \"car\", \"car\", \"casinos\", \"casinos\", \"categorically\", \"cathy\", \"ceasefire\", \"ceasefire\", \"centre\", \"centre\", \"centre\", \"centre\", \"centre\", \"centre\", \"centre\", \"centre\", \"centre\", \"centre\", \"centrelink\", \"centrelink\", \"centrelink\", \"chairmen\", \"changes\", \"changes\", \"changes\", \"changes\", \"changes\", \"changes\", \"chechen\", \"chechen\", \"chechen\", \"checks\", \"cherry\", \"chicago\", \"child_sex\", \"child_sex\", \"child_sex\", \"children\", \"children\", \"children\", \"children\", \"children\", \"children\", \"children\", \"children\", \"children\", \"children\", \"christmas\", \"christmas\", \"christmas\", \"christmas\", \"christmas\", \"christmas\", \"christmas\", \"christmas\", \"christmas\", \"climax\", \"club\", \"club\", \"coalition\", \"coalition\", \"coalition\", \"coalition\", \"coalition\", \"company\", \"company\", \"company\", \"company\", \"company\", \"company\", \"company\", \"company\", \"company\", \"company\", \"composed\", \"compromised\", \"confessed\", \"confessed\", \"conspiracy\", \"consumers\", \"consumers\", \"consumers\", \"consumers\", \"context\", \"contributor\", \"convened\", \"corowa\", \"corowa\", \"cost\", \"cost\", \"cost\", \"cost\", \"cost\", \"could\", \"could\", \"could\", \"could\", \"could\", \"could\", \"could\", \"could\", \"could\", \"could\", \"country\", \"country\", \"country\", \"country\", \"country\", \"country\", \"country\", \"country\", \"country\", \"court\", \"court\", \"court\", \"court\", \"court\", \"court\", \"court\", \"court\", \"court\", \"court\", \"cover\", \"cover\", \"cow\", \"cow\", \"crash\", \"crash\", \"crash\", \"crash\", \"crash\", \"crash\", \"crash\", \"created\", \"created\", \"created\", \"created\", \"created\", \"created\", \"crew\", \"crew\", \"crew\", \"crew\", \"crew\", \"crew\", \"crew\", \"crew\", \"crompton\", \"crude\", \"culpable\", \"currency\", \"currency\", \"custody\", \"custody\", \"custody\", \"cutting\", \"dan\", \"day\", \"day\", \"day\", \"day\", \"day\", \"day\", \"day\", \"day\", \"day\", \"day\", \"debated\", \"defense\", \"demon\", \"demonstrators\", \"dempsey\", \"department\", \"department\", \"department\", \"department\", \"department\", \"department\", \"department\", \"department\", \"department\", \"detainees\", \"detainees\", \"detainees\", \"detainees\", \"detainees\", \"detainees\", \"detainees\", \"detainees\", \"detainees\", \"deterring\", \"dfat\", \"differences\", \"disgruntled\", \"dismissing\", \"dispatcher\", \"dixon\", \"dixon\", \"doctors\", \"doctors\", \"downer\", \"downer\", \"downer\", \"downer\", \"downer\", \"dramatically\", \"drawing\", \"drip\", \"dropping\", \"drug\", \"drug\", \"due\", \"due\", \"due\", \"due\", \"due\", \"due\", \"due\", \"due\", \"due\", \"due\", \"dun\", \"dying\", \"earth\", \"earth\", \"earth\", \"earthquake\", \"east_timor\", \"east_timor\", \"east_timor\", \"east_timor\", \"east_timor\", \"east_timor\", \"economy\", \"economy\", \"economy\", \"economy\", \"economy\", \"economy\", \"economy\", \"economy\", \"economy\", \"eden\", \"eden\", \"eight\", \"eight\", \"eight\", \"eight\", \"eight\", \"eight\", \"eight\", \"eight\", \"eight\", \"eight\", \"elder\", \"elders\", \"elders\", \"elders\", \"emissions\", \"emissions\", \"encourage\", \"endeavour\", \"endeavour\", \"endeavour\", \"endeavour\", \"entitlements\", \"entitlements\", \"entitlements\", \"entitlements\", \"entitlements\", \"entitlements\", \"epicentre\", \"escaping\", \"essential\", \"expense\", \"export\", \"export\", \"extra\", \"extra\", \"extreme\", \"facilitating\", \"factory\", \"factory\", \"factory\", \"fanned\", \"far\", \"far\", \"far\", \"far\", \"far\", \"far\", \"far\", \"far\", \"far\", \"far\", \"fares\", \"farina\", \"farina\", \"farm\", \"farm\", \"farm\", \"farmers\", \"farmers\", \"favours\", \"fazalur\", \"february\", \"february\", \"federal\", \"federal\", \"federal\", \"federal\", \"federal\", \"federal\", \"federal\", \"federal\", \"federal\", \"federal\", \"federation\", \"federation\", \"federation\", \"fire\", \"fire\", \"fire\", \"fire\", \"fire\", \"fire\", \"fire\", \"fire\", \"fire\", \"fire\", \"fireworks\", \"fireworks\", \"first\", \"first\", \"first\", \"first\", \"first\", \"first\", \"first\", \"first\", \"first\", \"first\", \"first_test\", \"first_test\", \"first_test\", \"first_test\", \"first_test\", \"first_test\", \"first_test\", \"first_test\", \"five\", \"five\", \"five\", \"five\", \"five\", \"five\", \"five\", \"five\", \"five\", \"five\", \"flight\", \"flight\", \"flight\", \"flight\", \"flight\", \"flight\", \"flight\", \"flight\", \"flower\", \"force\", \"force\", \"force\", \"force\", \"force\", \"force\", \"force\", \"force\", \"force\", \"force\", \"forced\", \"forced\", \"forced\", \"forced\", \"forced\", \"forced\", \"forced\", \"forced\", \"forests\", \"found\", \"found\", \"found\", \"found\", \"found\", \"found\", \"found\", \"found\", \"found\", \"found\", \"four\", \"four\", \"four\", \"four\", \"four\", \"four\", \"four\", \"four\", \"four\", \"four\", \"franklin\", \"franklin\", \"freeman\", \"friedli\", \"friedli\", \"gabriel\", \"gabriel\", \"gambier\", \"gambier\", \"gambling\", \"gaming\", \"ganges\", \"ganges\", \"generated\", \"generous\", \"generous\", \"generous\", \"genetically\", \"geneva\", \"gestures\", \"get\", \"get\", \"get\", \"get\", \"get\", \"get\", \"get\", \"get\", \"get\", \"get\", \"goalkicker\", \"goshen\", \"goshen\", \"goshen\", \"government\", \"government\", \"government\", \"government\", \"government\", \"government\", \"government\", \"government\", \"government\", \"government\", \"governments\", \"governor_general\", \"governor_general\", \"governor_general\", \"governor_general\", \"governor_general\", \"governor_general\", \"governor_general\", \"grocery\", \"ground\", \"ground\", \"ground\", \"ground\", \"ground\", \"ground\", \"ground\", \"ground\", \"groupings\", \"groups\", \"groups\", \"groups\", \"groups\", \"groups\", \"groups\", \"groups\", \"groups\", \"groups\", \"groups\", \"growing\", \"growing\", \"growing\", \"growing\", \"gutnick\", \"habeel\", \"haitian\", \"haitian\", \"hamas\", \"hamas\", \"hamas\", \"hamas\", \"hamas\", \"hamas\", \"hamas\", \"hamas\", \"hamas\", \"hamas\", \"hare\", \"hare\", \"hare\", \"harrison\", \"harrison\", \"harrison\", \"harrison\", \"harrison\", \"harrison\", \"head\", \"head\", \"head\", \"head\", \"head\", \"head\", \"head\", \"head\", \"head\", \"hewitt\", \"hewitt\", \"hewitt\", \"hewitt\", \"hijackings\", \"hilton\", \"hiv\", \"hiv\", \"hiv\", \"hoax\", \"hollingworth\", \"hollingworth\", \"hollingworth\", \"hollingworth\", \"hollingworth\", \"hollingworth\", \"hollingworth\", \"honors\", \"hooke\", \"hospital\", \"hospital\", \"hospital\", \"hospital\", \"hospital\", \"hospital\", \"hospital\", \"hospital\", \"hospital\", \"hours\", \"hours\", \"hours\", \"hours\", \"hours\", \"hours\", \"hours\", \"hours\", \"hours\", \"hours\", \"housed\", \"howard\", \"howard\", \"howard\", \"howard\", \"howard\", \"howard\", \"howard\", \"howard\", \"ice\", \"ice\", \"ice\", \"ice\", \"illegally\", \"imagine\", \"immediate\", \"immigrants\", \"including\", \"including\", \"including\", \"including\", \"including\", \"including\", \"including\", \"including\", \"including\", \"including\", \"india\", \"india\", \"india\", \"india\", \"india\", \"india\", \"india\", \"india\", \"india\", \"indian\", \"indian\", \"indian\", \"indian\", \"indian\", \"indian\", \"indian\", \"indian\", \"ineffective\", \"infected\", \"infected\", \"ingredients\", \"insecurity\", \"intensified\", \"intent\", \"international\", \"international\", \"international\", \"international\", \"international\", \"international\", \"international\", \"international\", \"international\", \"international\", \"interrogated\", \"invisible\", \"israel\", \"israel\", \"israel\", \"israel\", \"israel\", \"israel\", \"israel\", \"israel\", \"israel\", \"israel\", \"israeli\", \"israeli\", \"israeli\", \"israeli\", \"israeli\", \"israeli\", \"israeli\", \"israeli\", \"israeli\", \"israeli\", \"jail_sentence\", \"japanese\", \"japanese\", \"jenin\", \"jenin\", \"jenin\", \"jenin\", \"jenin\", \"jenin\", \"judgment\", \"kandahar\", \"kandahar\", \"kandahar\", \"kandahar\", \"kandahar\", \"kandahar\", \"kandahar\", \"kandahar\", \"karzai\", \"karzai\", \"karzai\", \"karzai\", \"karzai\", \"killed\", \"killed\", \"killed\", \"killed\", \"killed\", \"killed\", \"killed\", \"killed\", \"killed\", \"killed\", \"killmier\", \"knop\", \"knop\", \"know\", \"know\", \"know\", \"know\", \"know\", \"know\", \"know\", \"know\", \"know\", \"know\", \"krishna\", \"krishna\", \"krishna\", \"labor\", \"labor\", \"labor\", \"labor\", \"labor\", \"labor\", \"labor\", \"labor\", \"labor\", \"labor\", \"laden\", \"laden\", \"laden\", \"laden\", \"laden\", \"laden\", \"laden\", \"laden\", \"laden\", \"laden\", \"larger\", \"last_year\", \"last_year\", \"last_year\", \"last_year\", \"last_year\", \"last_year\", \"last_year\", \"last_year\", \"last_year\", \"launceston\", \"launceston\", \"launceston\", \"launch\", \"launch\", \"lawrence\", \"leader\", \"leader\", \"leader\", \"leader\", \"leader\", \"leader\", \"leader\", \"leader\", \"leaders\", \"leaders\", \"leaders\", \"leaders\", \"leaders\", \"leaders\", \"leaders\", \"leaders\", \"leaders\", \"leaders\", \"leads\", \"legalistic\", \"lessons\", \"levies\", \"lew\", \"lew\", \"liberal\", \"liberals\", \"loaded\", \"lockett\", \"lockett\", \"lockett\", \"lockett\", \"logged\", \"lubbers\", \"luggage\", \"lung\", \"lung\", \"lung\", \"lung\", \"macgill\", \"macgill\", \"macgill\", \"macgill\", \"macgill\", \"machines\", \"made\", \"made\", \"made\", \"made\", \"made\", \"made\", \"made\", \"made\", \"made\", \"made\", \"magna\", \"maker\", \"malaysian\", \"man\", \"man\", \"man\", \"man\", \"man\", \"man\", \"man\", \"man\", \"man\", \"man\", \"management\", \"management\", \"management\", \"management\", \"management\", \"management\", \"management\", \"marines\", \"marines\", \"marines\", \"marines\", \"markets\", \"markets\", \"markets\", \"markets\", \"masts\", \"match\", \"match\", \"match\", \"match\", \"match\", \"match\", \"match\", \"match\", \"match\", \"match\", \"matter\", \"matter\", \"matter\", \"matter\", \"matter\", \"matter\", \"matter\", \"mcgauran\", \"mcmenamin\", \"mcmenamin\", \"measuring\", \"meeting\", \"meeting\", \"meeting\", \"meeting\", \"meeting\", \"meeting\", \"meeting\", \"meeting\", \"meeting\", \"meeting\", \"megawati\", \"melbourne\", \"melbourne\", \"melbourne\", \"melbourne\", \"melbourne\", \"melbourne\", \"melbourne\", \"melbourne\", \"melbourne\", \"members\", \"members\", \"members\", \"members\", \"members\", \"members\", \"members\", \"members\", \"members\", \"members\", \"merger\", \"merging\", \"metres\", \"metres\", \"metres\", \"metres\", \"metres\", \"metres\", \"metres\", \"metres\", \"metres\", \"militants\", \"militants\", \"militants\", \"militants\", \"militants\", \"militants\", \"militants\", \"militants\", \"militants\", \"militants\", \"military\", \"military\", \"military\", \"military\", \"military\", \"military\", \"military\", \"military\", \"military\", \"military\", \"millwork\", \"missile\", \"mission\", \"mission\", \"mission\", \"mission\", \"mission\", \"mission\", \"mission\", \"mistrust\", \"mitsubishi\", \"modified\", \"mohamad\", \"month\", \"month\", \"month\", \"month\", \"month\", \"month\", \"month\", \"month\", \"month\", \"month\", \"morrow\", \"mount\", \"moussaoui\", \"moussaoui\", \"muscle\", \"musical\", \"musical\", \"nasa\", \"nasa\", \"national\", \"national\", \"national\", \"national\", \"national\", \"national\", \"national\", \"national\", \"national\", \"national\", \"nauru\", \"nauru\", \"nauru\", \"nauru\", \"nauru\", \"nautical\", \"nautical\", \"negligence\", \"new\", \"new\", \"new\", \"new\", \"new\", \"new\", \"new\", \"new\", \"new\", \"new\", \"new_south\", \"new_south\", \"new_south\", \"new_south\", \"new_south\", \"new_south\", \"new_south\", \"new_south\", \"new_south\", \"new_south\", \"nicky\", \"nobel\", \"nobel\", \"north\", \"north\", \"north\", \"north\", \"north\", \"north\", \"north\", \"north\", \"north\", \"north\", \"nurse\", \"obesity\", \"obesity\", \"objectives\", \"obliterated\", \"offer\", \"offer\", \"offer\", \"offer\", \"offer\", \"offer\", \"offer\", \"offer\", \"offer\", \"offer\", \"official\", \"official\", \"official\", \"official\", \"official\", \"official\", \"official\", \"official\", \"official\", \"olympic\", \"olympics\", \"one\", \"one\", \"one\", \"one\", \"one\", \"one\", \"one\", \"one\", \"one\", \"one\", \"openly\", \"opposition\", \"opposition\", \"opposition\", \"opposition\", \"opposition\", \"opposition\", \"opposition\", \"opposition\", \"opposition\", \"opposition\", \"organised\", \"outburst\", \"overnight\", \"overnight\", \"overnight\", \"overnight\", \"overnight\", \"overnight\", \"overnight\", \"overnight\", \"overnight\", \"overnight\", \"overwhelmingly\", \"oxygen\", \"pacific\", \"pacific\", \"pacific\", \"pacific\", \"paedophiles\", \"pakistan\", \"pakistan\", \"pakistan\", \"pakistan\", \"pakistan\", \"pakistan\", \"pakistan\", \"pakistan\", \"pakistan\", \"palestinian\", \"palestinian\", \"palestinian\", \"palestinian\", \"palestinian\", \"palestinian\", \"palestinian\", \"palestinian\", \"palestinian\", \"palestinian\", \"participant\", \"parties\", \"parties\", \"parties\", \"parties\", \"parties\", \"parties\", \"pashtun\", \"pashtun\", \"pay\", \"pay\", \"pay\", \"pay\", \"pay\", \"pay\", \"pay\", \"pay\", \"pay\", \"pensions\", \"pentagon\", \"pentagon\", \"pentagon\", \"pentagon\", \"pentagon\", \"pentagon\", \"pentagon\", \"pentagon\", \"pentagon\", \"pentagon\", \"people\", \"people\", \"people\", \"people\", \"people\", \"people\", \"people\", \"people\", \"people\", \"people\", \"per_cent\", \"per_cent\", \"per_cent\", \"per_cent\", \"per_cent\", \"per_cent\", \"per_cent\", \"per_cent\", \"per_cent\", \"per_cent\", \"permanent\", \"permission\", \"peru\", \"peru\", \"pesos\", \"petrol\", \"petrol\", \"phillips\", \"phillips\", \"phillips\", \"plant\", \"plant\", \"pleaded\", \"pledging\", \"point\", \"point\", \"point\", \"point\", \"point\", \"point\", \"point\", \"point\", \"poker\", \"police\", \"police\", \"police\", \"police\", \"police\", \"police\", \"police\", \"police\", \"police\", \"police\", \"powell\", \"powell\", \"powell\", \"powell\", \"powell\", \"powell\", \"power\", \"power\", \"power\", \"power\", \"power\", \"power\", \"power\", \"power\", \"power\", \"power\", \"preliminary\", \"prepared\", \"prepared\", \"prepared\", \"prepared\", \"prepared\", \"prepared\", \"prepared\", \"prepared\", \"prepared\", \"president\", \"president\", \"president\", \"president\", \"president\", \"president\", \"president\", \"president\", \"president\", \"president\", \"preventable\", \"prize\", \"process\", \"process\", \"process\", \"process\", \"process\", \"process\", \"process\", \"process\", \"process\", \"process\", \"products\", \"products\", \"projections\", \"projections\", \"projects\", \"projects\", \"projects\", \"promote\", \"prosecuted\", \"prostitutes\", \"prostitutes\", \"protect\", \"protect\", \"protect\", \"protect\", \"protect\", \"protected\", \"provisional_liquidation\", \"provisional_liquidation\", \"provisional_liquidation\", \"psychological\", \"put\", \"put\", \"put\", \"put\", \"put\", \"put\", \"put\", \"put\", \"put\", \"put\", \"qantas\", \"qantas\", \"qantas\", \"qantas\", \"qantas\", \"qantas\", \"qantas\", \"qantas\", \"quake\", \"questioned\", \"rabbani\", \"rabbani\", \"rabbani\", \"radio\", \"radio\", \"radio\", \"radio\", \"radio\", \"radio\", \"radio\", \"radio\", \"radio\", \"raft\", \"raft\", \"rafter\", \"rafter\", \"rafter\", \"rafter\", \"rainforest\", \"rainforests\", \"rate\", \"rate\", \"rate\", \"rate\", \"rate\", \"rate\", \"rate\", \"rate\", \"ravenshoe\", \"reactor\", \"redmond\", \"redmond\", \"refugees\", \"refugees\", \"refugees\", \"refugees\", \"regardless\", \"region\", \"region\", \"region\", \"region\", \"region\", \"region\", \"region\", \"region\", \"region\", \"region\", \"rehman\", \"rejected\", \"rejected\", \"rejected\", \"rejected\", \"rejected\", \"relatively\", \"relatively\", \"relatives\", \"replaces\", \"replied\", \"replied\", \"report\", \"report\", \"report\", \"report\", \"report\", \"report\", \"report\", \"report\", \"report\", \"report\", \"republic\", \"republic\", \"republics\", \"retire\", \"retirees\", \"retooled\", \"revamped\", \"rfds\", \"rfds\", \"rialto\", \"richter\", \"ridiculous\", \"right\", \"right\", \"right\", \"right\", \"right\", \"right\", \"right\", \"right\", \"right\", \"right\", \"rodriguez\", \"romaszko\", \"ruddock\", \"ruddock\", \"ruddock\", \"russian\", \"russian\", \"russian\", \"russian\", \"ruud\", \"saa\", \"saa\", \"saadi\", \"saadi\", \"said\", \"said\", \"said\", \"said\", \"said\", \"said\", \"said\", \"said\", \"said\", \"said\", \"salaries\", \"sales\", \"say\", \"say\", \"say\", \"say\", \"say\", \"say\", \"say\", \"say\", \"say\", \"say\", \"says\", \"says\", \"says\", \"says\", \"says\", \"says\", \"says\", \"says\", \"says\", \"says\", \"scg\", \"schneiders\", \"second\", \"second\", \"second\", \"second\", \"second\", \"second\", \"second\", \"second\", \"second\", \"second\", \"security\", \"security\", \"security\", \"security\", \"security\", \"security\", \"security\", \"security\", \"security\", \"security\", \"selectors\", \"senator_hill\", \"senator_hill\", \"senator_hill\", \"senator_hill\", \"senator_hill\", \"senator_hill\", \"settle\", \"sharon\", \"sharon\", \"sharon\", \"sharon\", \"sharon\", \"sharon\", \"sharon\", \"sharon\", \"sharon\", \"sharon\", \"sheikh\", \"sheikh\", \"sheikh\", \"sheikh\", \"sheikh\", \"shook\", \"shooting\", \"shooting\", \"shot\", \"shot\", \"shot\", \"shot\", \"shot\", \"shot\", \"shot\", \"shot\", \"shuttle\", \"shuttle\", \"since\", \"since\", \"since\", \"since\", \"since\", \"since\", \"since\", \"since\", \"since\", \"since\", \"skepticism\", \"sleep\", \"smuggling\", \"soccer\", \"soccer\", \"soccer\", \"south\", \"south\", \"south\", \"south\", \"south\", \"south\", \"south\", \"south\", \"south\", \"south\", \"south_africa\", \"south_africa\", \"south_africa\", \"south_africa\", \"south_africa\", \"south_africa\", \"south_africa\", \"south_africa\", \"south_africa\", \"south_africa\", \"southern\", \"southern\", \"southern\", \"southern\", \"southern\", \"southern\", \"southern\", \"southern\", \"southern\", \"space\", \"space\", \"space\", \"space\", \"spacewalk\", \"spin\", \"spin\", \"squad\", \"squad\", \"squad\", \"staff\", \"staff\", \"staff\", \"staff\", \"staff\", \"staff\", \"staff\", \"staff\", \"staff\", \"staff\", \"station\", \"station\", \"station\", \"station\", \"station\", \"station\", \"station\", \"station\", \"station\", \"station\", \"steep\", \"still\", \"still\", \"still\", \"still\", \"still\", \"still\", \"still\", \"still\", \"still\", \"still\", \"stone\", \"struck\", \"struck\", \"struck\", \"struck\", \"struck\", \"subsidies\", \"suggesting\", \"suharto\", \"suharto\", \"suharto\", \"suharto\", \"suharto\", \"suharto\", \"sultan\", \"sultan\", \"sultan\", \"summit\", \"surrender\", \"surrender\", \"surrender\", \"surrender\", \"surrender\", \"survey\", \"survey\", \"survey\", \"survey\", \"survey\", \"survey\", \"sway\", \"sydney\", \"sydney\", \"sydney\", \"sydney\", \"sydney\", \"sydney\", \"sydney\", \"sydney\", \"sydney\", \"sydney\", \"szondy\", \"tables\", \"taliban\", \"taliban\", \"taliban\", \"taliban\", \"taliban\", \"taliban\", \"taliban\", \"taliban\", \"taliban\", \"taliban\", \"talk\", \"talked\", \"tanks\", \"tanks\", \"tanks\", \"tanks\", \"tanks\", \"tanks\", \"taxes\", \"team\", \"team\", \"team\", \"team\", \"team\", \"team\", \"team\", \"team\", \"team\", \"team\", \"tech\", \"technology\", \"technology\", \"technology\", \"technology\", \"technology\", \"technology\", \"templeton\", \"templeton\", \"tended\", \"termination\", \"termination\", \"terrorism\", \"terrorism\", \"terrorism\", \"terrorism\", \"terrorism\", \"terrorism\", \"terrorism\", \"terrorism\", \"terrorism\", \"terrorism\", \"test\", \"test\", \"test\", \"test\", \"test\", \"test\", \"test\", \"test\", \"test\", \"test\", \"think\", \"think\", \"think\", \"think\", \"think\", \"think\", \"think\", \"think\", \"think\", \"think\", \"three\", \"three\", \"three\", \"three\", \"three\", \"three\", \"three\", \"three\", \"three\", \"three\", \"ticket\", \"time\", \"time\", \"time\", \"time\", \"time\", \"time\", \"time\", \"time\", \"time\", \"time\", \"today\", \"today\", \"today\", \"today\", \"today\", \"today\", \"today\", \"today\", \"today\", \"today\", \"told\", \"told\", \"told\", \"told\", \"told\", \"told\", \"told\", \"told\", \"told\", \"told\", \"tora_bora\", \"tora_bora\", \"tora_bora\", \"tora_bora\", \"tora_bora\", \"tora_bora\", \"tora_bora\", \"tora_bora\", \"tora_bora\", \"tora_bora\", \"tours\", \"tours\", \"training\", \"training\", \"training\", \"training\", \"training\", \"training\", \"training\", \"training\", \"training\", \"transfer\", \"transfer\", \"transport\", \"transport\", \"transport\", \"transport\", \"travelled\", \"travelled\", \"trees\", \"trees\", \"trees\", \"trees\", \"trees\", \"troops\", \"troops\", \"troops\", \"troops\", \"troops\", \"troops\", \"troops\", \"troops\", \"troops\", \"troops\", \"tropics\", \"truckloads\", \"truss\", \"truss\", \"trying\", \"trying\", \"trying\", \"trying\", \"trying\", \"trying\", \"trying\", \"trying\", \"trying\", \"trying\", \"two\", \"two\", \"two\", \"two\", \"two\", \"two\", \"two\", \"two\", \"two\", \"two\", \"ukraine\", \"unforeseeable\", \"union\", \"union\", \"union\", \"union\", \"union\", \"union\", \"union\", \"union\", \"union\", \"unions\", \"unions\", \"unions\", \"unions\", \"unions\", \"unions\", \"unions\", \"unions\", \"united_states\", \"united_states\", \"united_states\", \"united_states\", \"united_states\", \"united_states\", \"united_states\", \"united_states\", \"united_states\", \"united_states\", \"untrue\", \"upgrade\", \"upside\", \"upside\", \"villawood\", \"villawood\", \"violence\", \"violence\", \"violence\", \"violence\", \"violence\", \"violence\", \"violence\", \"violence\", \"violence\", \"violent\", \"violent\", \"violent\", \"virgin\", \"virgin\", \"virgin\", \"virus\", \"virus\", \"virus\", \"virus\", \"wage_freeze\", \"wage_freeze\", \"wage_freeze\", \"wage_freeze\", \"wage_freeze\", \"wage_freeze\", \"wage_freeze\", \"wales\", \"wales\", \"wales\", \"wales\", \"wales\", \"wales\", \"wales\", \"wales\", \"wales\", \"wales\", \"walz\", \"wants\", \"wants\", \"wants\", \"wants\", \"wants\", \"wants\", \"wants\", \"wants\", \"wants\", \"well\", \"well\", \"well\", \"well\", \"well\", \"well\", \"well\", \"well\", \"well\", \"well\", \"west_bank\", \"west_bank\", \"west_bank\", \"west_bank\", \"west_bank\", \"west_bank\", \"west_bank\", \"west_bank\", \"west_bank\", \"west_bank\", \"wet\", \"wheatbelt\", \"wilderness\", \"williams_says\", \"woman\", \"woman\", \"woman\", \"workers\", \"workers\", \"workers\", \"workers\", \"workers\", \"workers\", \"workers\", \"workers\", \"workers\", \"works\", \"world\", \"world\", \"world\", \"world\", \"world\", \"world\", \"world\", \"world\", \"world\", \"world\", \"world_heritage\", \"would\", \"would\", \"would\", \"would\", \"would\", \"would\", \"would\", \"would\", \"would\", \"would\", \"yachts\", \"yachts\", \"yachts\", \"yachts\", \"yachts\", \"yallourn\", \"yallourn\", \"yallourn\", \"year\", \"year\", \"year\", \"year\", \"year\", \"year\", \"year\", \"year\", \"year\", \"year\", \"year_old\", \"year_old\", \"year_old\", \"year_old\", \"year_old\", \"year_old\", \"year_old\", \"year_old\", \"year_old\", \"year_old\", \"years\", \"years\", \"years\", \"years\", \"years\", \"years\", \"years\", \"years\", \"years\", \"yesterday\", \"yesterday\", \"yesterday\", \"yesterday\", \"yesterday\", \"yesterday\", \"yesterday\", \"yesterday\", \"yesterday\", \"yesterday\", \"zimbabwe\", \"zimbabwe\", \"zimbabwe\", \"zimbabwe\", \"zimbabwe\", \"zinni\", \"zinni\", \"zinni\", \"zinni\", \"zinni\"]}, \"R\": 30, \"lambda.step\": 0.01, \"plot.opts\": {\"xlab\": \"PC1\", \"ylab\": \"PC2\"}, \"topic.order\": [6, 5, 10, 7, 1, 9, 4, 2, 8, 3]};\n",
       "\n",
       "function LDAvis_load_lib(url, callback){\n",
       "  var s = document.createElement('script');\n",
       "  s.src = url;\n",
       "  s.async = true;\n",
       "  s.onreadystatechange = s.onload = callback;\n",
       "  s.onerror = function(){console.warn(\"failed to load library \" + url);};\n",
       "  document.getElementsByTagName(\"head\")[0].appendChild(s);\n",
       "}\n",
       "\n",
       "if(typeof(LDAvis) !== \"undefined\"){\n",
       "   // already loaded: just create the visualization\n",
       "   !function(LDAvis){\n",
       "       new LDAvis(\"#\" + \"ldavis_el323501403197492030724171626301\", ldavis_el323501403197492030724171626301_data);\n",
       "   }(LDAvis);\n",
       "}else if(typeof define === \"function\" && define.amd){\n",
       "   // require.js is available: use it to load d3/LDAvis\n",
       "   require.config({paths: {d3: \"https://cdnjs.cloudflare.com/ajax/libs/d3/3.5.5/d3.min\"}});\n",
       "   require([\"d3\"], function(d3){\n",
       "      window.d3 = d3;\n",
       "      LDAvis_load_lib(\"https://cdn.rawgit.com/bmabey/pyLDAvis/files/ldavis.v1.0.0.js\", function(){\n",
       "        new LDAvis(\"#\" + \"ldavis_el323501403197492030724171626301\", ldavis_el323501403197492030724171626301_data);\n",
       "      });\n",
       "    });\n",
       "}else{\n",
       "    // require.js not available: dynamically load d3 & LDAvis\n",
       "    LDAvis_load_lib(\"https://cdnjs.cloudflare.com/ajax/libs/d3/3.5.5/d3.min.js\", function(){\n",
       "         LDAvis_load_lib(\"https://cdn.rawgit.com/bmabey/pyLDAvis/files/ldavis.v1.0.0.js\", function(){\n",
       "                 new LDAvis(\"#\" + \"ldavis_el323501403197492030724171626301\", ldavis_el323501403197492030724171626301_data);\n",
       "            })\n",
       "         });\n",
       "}\n",
       "</script>"
      ],
      "text/plain": [
       "PreparedData(topic_coordinates=              x         y  topics  cluster       Freq\n",
       "topic                                                \n",
       "5      0.025643  0.005841       1        1  17.535070\n",
       "4     -0.047218  0.011501       2        1  13.270121\n",
       "9      0.041848  0.004998       3        1  13.173125\n",
       "6     -0.008653  0.018893       4        1   9.826040\n",
       "0     -0.011656 -0.013850       5        1   9.561769\n",
       "8     -0.019500 -0.056097       6        1   8.988724\n",
       "3     -0.028792  0.044252       7        1   7.665367\n",
       "1     -0.011906 -0.017903       8        1   7.504405\n",
       "7      0.025906 -0.008551       9        1   6.862267\n",
       "2      0.034329  0.010916      10        1   5.613104, topic_info=     Category        Freq            Term       Total  loglift  logprob\n",
       "term                                                                   \n",
       "99    Default  335.000000            says  335.000000  30.0000  30.0000\n",
       "405   Default   43.000000         taliban   43.000000  29.0000  29.0000\n",
       "4228  Default   11.000000           space   11.000000  28.0000  28.0000\n",
       "986   Default  119.000000      australian  119.000000  27.0000  27.0000\n",
       "150   Default   27.000000           india   27.000000  26.0000  26.0000\n",
       "956   Default   67.000000         israeli   67.000000  25.0000  25.0000\n",
       "967   Default   67.000000     palestinian   67.000000  24.0000  24.0000\n",
       "1500  Default   32.000000          report   32.000000  23.0000  23.0000\n",
       "528   Default   57.000000   united_states   57.000000  22.0000  22.0000\n",
       "356   Default  115.000000       australia  115.000000  21.0000  21.0000\n",
       "258   Default   95.000000      government   95.000000  20.0000  20.0000\n",
       "574   Default   91.000000            also   91.000000  19.0000  19.0000\n",
       "80    Default   72.000000             new   72.000000  18.0000  18.0000\n",
       "2780  Default   30.000000          qantas   30.000000  17.0000  17.0000\n",
       "98    Default  391.000000            said  391.000000  16.0000  16.0000\n",
       "2082  Default   44.000000          israel   44.000000  15.0000  15.0000\n",
       "1075  Default   41.000000        per_cent   41.000000  14.0000  14.0000\n",
       "86    Default  108.000000          people  108.000000  13.0000  13.0000\n",
       "393   Default   29.000000           power   29.000000  12.0000  12.0000\n",
       "5503  Default    5.000000  world_heritage    5.000000  11.0000  11.0000\n",
       "1050  Default   34.000000            test   34.000000  10.0000  10.0000\n",
       "43    Default   48.000000            fire   48.000000   9.0000   9.0000\n",
       "351   Default   15.000000        aircraft   15.000000   8.0000   8.0000\n",
       "891   Default   29.000000           union   29.000000   7.0000   7.0000\n",
       "151   Default   23.000000          indian   23.000000   6.0000   6.0000\n",
       "278   Default   42.000000       president   42.000000   5.0000   5.0000\n",
       "2551  Default   58.000000          arafat   58.000000   4.0000   4.0000\n",
       "2564  Default   36.000000           hamas   36.000000   3.0000   3.0000\n",
       "113   Default   63.000000           today   63.000000   2.0000   2.0000\n",
       "2115  Default   11.000000          cancer   11.000000   1.0000   1.0000\n",
       "...       ...         ...             ...         ...      ...      ...\n",
       "522   Topic10    4.751713           think   43.765083   0.6597  -5.9385\n",
       "393   Topic10    3.672947           power   29.201220   0.8069  -6.1960\n",
       "86    Topic10    7.863968          people  108.632156   0.2544  -5.4348\n",
       "322   Topic10    3.332587            know   28.228800   0.7435  -6.2933\n",
       "98    Topic10   14.890667            said  391.263214  -0.3886  -4.7963\n",
       "986   Topic10    7.174728      australian  119.349686   0.0686  -5.5265\n",
       "356   Topic10    7.003901       australia  115.664490   0.0758  -5.5506\n",
       "106   Topic10    4.577620           still   54.421593   0.4045  -5.9759\n",
       "2305  Topic10    1.911696       surrender   11.212691   1.1110  -6.8491\n",
       "258   Topic10    5.767329      government   95.182487   0.0765  -5.7448\n",
       "299   Topic10    4.671201            told   64.682686   0.2520  -5.9556\n",
       "200   Topic10    5.740219             two   99.679985   0.0256  -5.7495\n",
       "2738  Topic10    4.207493         company   55.670750   0.2975  -6.0602\n",
       "329   Topic10    5.655450             one  101.196770  -0.0044  -5.7644\n",
       "113   Topic10    4.451652           today   63.294075   0.2255  -6.0038\n",
       "43    Topic10    3.891077            fire   48.859795   0.3498  -6.1384\n",
       "4     Topic10    3.915643          around   50.628510   0.3205  -6.1321\n",
       "175   Topic10    4.162327          police   65.519096   0.1238  -6.0710\n",
       "349   Topic10    4.119506     afghanistan   67.992287   0.0764  -6.0813\n",
       "450   Topic10    4.060041           first   73.303452  -0.0133  -6.0958\n",
       "1659  Topic10    2.739813       including   28.116159   0.5516  -6.4892\n",
       "890   Topic10    2.459862          trying   21.484280   0.7128  -6.5969\n",
       "1071  Topic10    2.749926           month   28.956863   0.5258  -6.4855\n",
       "180   Topic10    3.414700             say   54.268475   0.1142  -6.2690\n",
       "203   Topic10    2.972301            well   36.841782   0.3628  -6.4077\n",
       "226   Topic10    3.268992            time   50.643364   0.1397  -6.3126\n",
       "1735  Topic10    3.376795             day   59.417957   0.0124  -6.2801\n",
       "80    Topic10    3.430432             new   72.173058  -0.1663  -6.2644\n",
       "1171  Topic10    3.213281             man   54.242008   0.0539  -6.3298\n",
       "574   Topic10    3.536943            also   91.888268  -0.3772  -6.2338\n",
       "\n",
       "[799 rows x 6 columns], token_table=      Topic      Freq       Term\n",
       "term                            \n",
       "5997      8  0.682190    abandon\n",
       "127       1  0.162219    accused\n",
       "127       2  0.108146    accused\n",
       "127       3  0.162219    accused\n",
       "127       4  0.108146    accused\n",
       "127       5  0.054073    accused\n",
       "127       6  0.108146    accused\n",
       "127       7  0.054073    accused\n",
       "127       8  0.162219    accused\n",
       "127       9  0.108146    accused\n",
       "127      10  0.054073    accused\n",
       "306       1  0.106496     action\n",
       "306       2  0.141995     action\n",
       "306       3  0.248491     action\n",
       "306       4  0.035499     action\n",
       "306       5  0.106496     action\n",
       "306       6  0.070997     action\n",
       "306       7  0.106496     action\n",
       "306       8  0.035499     action\n",
       "306       9  0.070997     action\n",
       "306      10  0.070997     action\n",
       "2015      1  0.138644   adelaide\n",
       "2015      2  0.138644   adelaide\n",
       "2015      3  0.231074   adelaide\n",
       "2015      4  0.046215   adelaide\n",
       "2015      5  0.092429   adelaide\n",
       "2015      6  0.046215   adelaide\n",
       "2015      7  0.046215   adelaide\n",
       "2015      8  0.046215   adelaide\n",
       "2015      9  0.138644   adelaide\n",
       "...     ...       ...        ...\n",
       "538      10  0.075987   year_old\n",
       "304       1  0.231902      years\n",
       "304       2  0.077301      years\n",
       "304       3  0.115951      years\n",
       "304       4  0.115951      years\n",
       "304       5  0.193251      years\n",
       "304       6  0.115951      years\n",
       "304       7  0.038650      years\n",
       "304       8  0.038650      years\n",
       "304      10  0.038650      years\n",
       "204       1  0.119434  yesterday\n",
       "204       2  0.191095  yesterday\n",
       "204       3  0.119434  yesterday\n",
       "204       4  0.167208  yesterday\n",
       "204       5  0.071661  yesterday\n",
       "204       6  0.095548  yesterday\n",
       "204       7  0.071661  yesterday\n",
       "204       8  0.047774  yesterday\n",
       "204       9  0.071661  yesterday\n",
       "204      10  0.047774  yesterday\n",
       "3149      1  0.125782   zimbabwe\n",
       "3149      2  0.125782   zimbabwe\n",
       "3149      3  0.125782   zimbabwe\n",
       "3149      5  0.251564   zimbabwe\n",
       "3149      7  0.377345   zimbabwe\n",
       "1472      2  0.104863      zinni\n",
       "1472      3  0.104863      zinni\n",
       "1472      4  0.524313      zinni\n",
       "1472      7  0.104863      zinni\n",
       "1472      8  0.104863      zinni\n",
       "\n",
       "[2218 rows x 3 columns], R=30, lambda_step=0.01, plot_opts={'xlab': 'PC1', 'ylab': 'PC2'}, topic_order=[6, 5, 10, 7, 1, 9, 4, 2, 8, 3])"
      ]
     },
     "execution_count": 65,
     "metadata": {},
     "output_type": "execute_result"
    }
   ],
   "source": [
    "pyLDAvis.gensim.prepare(ldamodel, corpus, dictionary)"
   ]
  },
  {
   "cell_type": "code",
   "execution_count": null,
   "metadata": {},
   "outputs": [],
   "source": []
  },
  {
   "cell_type": "code",
   "execution_count": null,
   "metadata": {},
   "outputs": [],
   "source": []
  },
  {
   "cell_type": "code",
   "execution_count": null,
   "metadata": {},
   "outputs": [],
   "source": []
  },
  {
   "cell_type": "code",
   "execution_count": null,
   "metadata": {},
   "outputs": [],
   "source": []
  },
  {
   "cell_type": "code",
   "execution_count": null,
   "metadata": {},
   "outputs": [],
   "source": []
  },
  {
   "cell_type": "code",
   "execution_count": null,
   "metadata": {},
   "outputs": [],
   "source": []
  },
  {
   "cell_type": "code",
   "execution_count": null,
   "metadata": {},
   "outputs": [],
   "source": []
  },
  {
   "cell_type": "code",
   "execution_count": null,
   "metadata": {},
   "outputs": [],
   "source": []
  },
  {
   "cell_type": "code",
   "execution_count": null,
   "metadata": {},
   "outputs": [],
   "source": []
  },
  {
   "cell_type": "code",
   "execution_count": null,
   "metadata": {},
   "outputs": [],
   "source": []
  },
  {
   "cell_type": "code",
   "execution_count": null,
   "metadata": {},
   "outputs": [],
   "source": []
  },
  {
   "cell_type": "code",
   "execution_count": null,
   "metadata": {},
   "outputs": [],
   "source": []
  },
  {
   "cell_type": "code",
   "execution_count": null,
   "metadata": {},
   "outputs": [],
   "source": []
  },
  {
   "cell_type": "code",
   "execution_count": null,
   "metadata": {},
   "outputs": [],
   "source": []
  }
 ],
 "metadata": {
  "kernelspec": {
   "display_name": "Python 3",
   "language": "python",
   "name": "python3"
  },
  "language_info": {
   "codemirror_mode": {
    "name": "ipython",
    "version": 3
   },
   "file_extension": ".py",
   "mimetype": "text/x-python",
   "name": "python",
   "nbconvert_exporter": "python",
   "pygments_lexer": "ipython3",
   "version": "3.6.5"
  }
 },
 "nbformat": 4,
 "nbformat_minor": 2
}
